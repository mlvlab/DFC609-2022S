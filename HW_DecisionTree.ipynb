{
  "nbformat": 4,
  "nbformat_minor": 0,
  "metadata": {
    "colab": {
      "name": "HW_DecisionTree.ipynb",
      "provenance": [],
      "collapsed_sections": [],
      "toc_visible": true,
      "include_colab_link": true
    },
    "kernelspec": {
      "name": "python3",
      "display_name": "Python 3"
    },
    "language_info": {
      "name": "python"
    }
  },
  "cells": [
    {
      "cell_type": "markdown",
      "metadata": {
        "id": "view-in-github",
        "colab_type": "text"
      },
      "source": [
        "<a href=\"https://colab.research.google.com/github/mlvlab/DFC609-2022S/blob/master/HW_DecisionTree.ipynb\" target=\"_parent\"><img src=\"https://colab.research.google.com/assets/colab-badge.svg\" alt=\"Open In Colab\"/></a>"
      ]
    },
    {
      "cell_type": "markdown",
      "metadata": {
        "id": "qB3T_suby3oO"
      },
      "source": [
        "> # Decision Tree Applications\n"
      ]
    },
    {
      "cell_type": "markdown",
      "metadata": {
        "id": "pPeQVVbazlxS"
      },
      "source": [
        "<!-- **Goal.** <br> -->\n",
        "## Goal.\n",
        "The classification goal is to predict if the client will subscribe a term deposit (variable y)\n",
        "\n",
        "<br>\n",
        "\n",
        "## Dataset.\n",
        "download dataset > > https://www.kaggle.com/janiobachmann/bank-marketing-dataset\n",
        "\n",
        "<br>\n",
        "\n",
        "## Ref.\n",
        "- https://www.kaggle.com/shirantha/bank-marketing-data-a-decision-tree-approach/notebook\n",
        "- https://www.kaggle.com/henriqueyamahata/bank-marketing\n",
        "- https://www.kaggle.com/henriqueyamahata/bank-marketing/code\n",
        "\n",
        "\n",
        "<br>\n",
        "\n",
        "## Dataset Attribute Information.\n",
        "\n",
        "### Bank client data:\n",
        "- Age (numeric)\n",
        "- Job : type of job (categorical: 'admin.', 'blue-collar', 'entrepreneur', 'housemaid', 'management', 'retired', 'self-employed', 'services', 'student', 'technician', 'unemployed', 'unknown')\n",
        "- Marital : marital status (categorical: 'divorced', 'married', 'single', 'unknown' ; note: 'divorced' means divorced or widowed)\n",
        "- Education (categorical: 'basic.4y', 'basic.6y', 'basic.9y', 'high.school', 'illiterate', 'professional.course', 'university.degree', 'unknown')\n",
        "- Default: has credit in default? (categorical: 'no', 'yes', 'unknown')\n",
        "- Housing: has housing loan? (categorical: 'no', 'yes', 'unknown')\n",
        "- Loan: has personal loan? (categorical: 'no', 'yes', 'unknown')\n",
        "\n",
        "\n",
        "### Related with the last contact of the current campaign:\n",
        "- Contact: contact communication type (categorical:\n",
        "'cellular','telephone')\n",
        "- Month: last contact month of year (categorical: 'jan', 'feb', 'mar',\n",
        "…, 'nov', 'dec')\n",
        "- Day\n",
        "- Duration: last contact duration, in seconds (numeric). Important\n",
        "note: this attribute highly affects the output target (e.g., if\n",
        "duration=0 then y='no'). Yet, the duration is not known before a call\n",
        "is performed. Also, after the end of the call y is obviously known.\n",
        "Thus, this input should only be included for benchmark purposes and\n",
        "should be discarded if the intention is to have a realistic\n",
        "predictive model.\n",
        "\n",
        "\n",
        "### Other attributes:\n",
        "- Campaign: number of contacts performed during this campaign and for\n",
        "this client (numeric, includes last contact)\n",
        "- Pdays: number of days that passed by after the client was last\n",
        "contacted from a previous campaign (numeric; 999 means client was not\n",
        "previously contacted)\n",
        "- Previous: number of contacts performed before this campaign and for\n",
        "this client (numeric)\n",
        "- Poutcome: outcome of the previous marketing campaign (categorical:\n",
        "'failure','nonexistent','success')\n",
        "\n",
        "\n",
        "### Output variable (desired target):\n",
        "- deposit - has the client subscribed a term deposit? (binary: 'yes', 'no')"
      ]
    },
    {
      "cell_type": "markdown",
      "metadata": {
        "id": "dSP7Cgf_3ReI"
      },
      "source": [
        "# 0. Packages\n",
        "- 실습을 진행하며 추가되는 코드에 따라 패키지를 추가하여 사용할 수 있습니다."
      ]
    },
    {
      "cell_type": "code",
      "metadata": {
        "id": "tVj8XJavw8HJ"
      },
      "source": [
        "import pandas as pd\n",
        "import numpy as np\n",
        "import matplotlib.pyplot as plt\n",
        "from sklearn.tree import export_graphviz\n",
        "from sklearn.model_selection import train_test_split\n",
        "from sklearn import tree\n",
        "from sklearn import metrics"
      ],
      "execution_count": 1,
      "outputs": []
    },
    {
      "cell_type": "code",
      "source": [
        "!git clone https://github.com/mlvlab/DFC609-2022S.git"
      ],
      "metadata": {
        "colab": {
          "base_uri": "https://localhost:8080/"
        },
        "id": "YMDuu4DEAhVM",
        "outputId": "2e42f465-4b67-4619-846c-c9c5bffcd033"
      },
      "execution_count": 2,
      "outputs": [
        {
          "output_type": "stream",
          "name": "stdout",
          "text": [
            "fatal: destination path 'DFC609-2022S' already exists and is not an empty directory.\n"
          ]
        }
      ]
    },
    {
      "cell_type": "code",
      "source": [
        "ls"
      ],
      "metadata": {
        "colab": {
          "base_uri": "https://localhost:8080/"
        },
        "id": "o6z7xGFqBNcJ",
        "outputId": "a6b69885-402e-464c-b926-9bac169e0e9a"
      },
      "execution_count": 3,
      "outputs": [
        {
          "output_type": "stream",
          "name": "stdout",
          "text": [
            "\u001b[0m\u001b[01;34mDFC609-2022S\u001b[0m/  \u001b[01;34msample_data\u001b[0m/\n"
          ]
        }
      ]
    },
    {
      "cell_type": "markdown",
      "metadata": {
        "id": "NbnCm8Q03VAm"
      },
      "source": [
        "# 1. Load Dataset"
      ]
    },
    {
      "cell_type": "code",
      "metadata": {
        "colab": {
          "base_uri": "https://localhost:8080/",
          "height": 223
        },
        "id": "BkfT25H8xfX5",
        "outputId": "e1c2e1fc-8387-40c7-80e3-812148995ea2"
      },
      "source": [
        "bank_df = pd.read_csv('DFC609-2022S/bank.csv')\n",
        "print(bank_df.shape)\n",
        "bank_df.head()"
      ],
      "execution_count": 4,
      "outputs": [
        {
          "output_type": "stream",
          "name": "stdout",
          "text": [
            "(11162, 17)\n"
          ]
        },
        {
          "output_type": "execute_result",
          "data": {
            "text/plain": [
              "   age         job  marital  education default  balance housing loan  contact  \\\n",
              "0   59      admin.  married  secondary      no     2343     yes   no  unknown   \n",
              "1   56      admin.  married  secondary      no       45      no   no  unknown   \n",
              "2   41  technician  married  secondary      no     1270     yes   no  unknown   \n",
              "3   55    services  married  secondary      no     2476     yes   no  unknown   \n",
              "4   54      admin.  married   tertiary      no      184      no   no  unknown   \n",
              "\n",
              "   day month  duration  campaign  pdays  previous poutcome deposit  \n",
              "0    5   may      1042         1     -1         0  unknown     yes  \n",
              "1    5   may      1467         1     -1         0  unknown     yes  \n",
              "2    5   may      1389         1     -1         0  unknown     yes  \n",
              "3    5   may       579         1     -1         0  unknown     yes  \n",
              "4    5   may       673         2     -1         0  unknown     yes  "
            ],
            "text/html": [
              "\n",
              "  <div id=\"df-da93303d-644f-420a-8112-8b556683d6d6\">\n",
              "    <div class=\"colab-df-container\">\n",
              "      <div>\n",
              "<style scoped>\n",
              "    .dataframe tbody tr th:only-of-type {\n",
              "        vertical-align: middle;\n",
              "    }\n",
              "\n",
              "    .dataframe tbody tr th {\n",
              "        vertical-align: top;\n",
              "    }\n",
              "\n",
              "    .dataframe thead th {\n",
              "        text-align: right;\n",
              "    }\n",
              "</style>\n",
              "<table border=\"1\" class=\"dataframe\">\n",
              "  <thead>\n",
              "    <tr style=\"text-align: right;\">\n",
              "      <th></th>\n",
              "      <th>age</th>\n",
              "      <th>job</th>\n",
              "      <th>marital</th>\n",
              "      <th>education</th>\n",
              "      <th>default</th>\n",
              "      <th>balance</th>\n",
              "      <th>housing</th>\n",
              "      <th>loan</th>\n",
              "      <th>contact</th>\n",
              "      <th>day</th>\n",
              "      <th>month</th>\n",
              "      <th>duration</th>\n",
              "      <th>campaign</th>\n",
              "      <th>pdays</th>\n",
              "      <th>previous</th>\n",
              "      <th>poutcome</th>\n",
              "      <th>deposit</th>\n",
              "    </tr>\n",
              "  </thead>\n",
              "  <tbody>\n",
              "    <tr>\n",
              "      <th>0</th>\n",
              "      <td>59</td>\n",
              "      <td>admin.</td>\n",
              "      <td>married</td>\n",
              "      <td>secondary</td>\n",
              "      <td>no</td>\n",
              "      <td>2343</td>\n",
              "      <td>yes</td>\n",
              "      <td>no</td>\n",
              "      <td>unknown</td>\n",
              "      <td>5</td>\n",
              "      <td>may</td>\n",
              "      <td>1042</td>\n",
              "      <td>1</td>\n",
              "      <td>-1</td>\n",
              "      <td>0</td>\n",
              "      <td>unknown</td>\n",
              "      <td>yes</td>\n",
              "    </tr>\n",
              "    <tr>\n",
              "      <th>1</th>\n",
              "      <td>56</td>\n",
              "      <td>admin.</td>\n",
              "      <td>married</td>\n",
              "      <td>secondary</td>\n",
              "      <td>no</td>\n",
              "      <td>45</td>\n",
              "      <td>no</td>\n",
              "      <td>no</td>\n",
              "      <td>unknown</td>\n",
              "      <td>5</td>\n",
              "      <td>may</td>\n",
              "      <td>1467</td>\n",
              "      <td>1</td>\n",
              "      <td>-1</td>\n",
              "      <td>0</td>\n",
              "      <td>unknown</td>\n",
              "      <td>yes</td>\n",
              "    </tr>\n",
              "    <tr>\n",
              "      <th>2</th>\n",
              "      <td>41</td>\n",
              "      <td>technician</td>\n",
              "      <td>married</td>\n",
              "      <td>secondary</td>\n",
              "      <td>no</td>\n",
              "      <td>1270</td>\n",
              "      <td>yes</td>\n",
              "      <td>no</td>\n",
              "      <td>unknown</td>\n",
              "      <td>5</td>\n",
              "      <td>may</td>\n",
              "      <td>1389</td>\n",
              "      <td>1</td>\n",
              "      <td>-1</td>\n",
              "      <td>0</td>\n",
              "      <td>unknown</td>\n",
              "      <td>yes</td>\n",
              "    </tr>\n",
              "    <tr>\n",
              "      <th>3</th>\n",
              "      <td>55</td>\n",
              "      <td>services</td>\n",
              "      <td>married</td>\n",
              "      <td>secondary</td>\n",
              "      <td>no</td>\n",
              "      <td>2476</td>\n",
              "      <td>yes</td>\n",
              "      <td>no</td>\n",
              "      <td>unknown</td>\n",
              "      <td>5</td>\n",
              "      <td>may</td>\n",
              "      <td>579</td>\n",
              "      <td>1</td>\n",
              "      <td>-1</td>\n",
              "      <td>0</td>\n",
              "      <td>unknown</td>\n",
              "      <td>yes</td>\n",
              "    </tr>\n",
              "    <tr>\n",
              "      <th>4</th>\n",
              "      <td>54</td>\n",
              "      <td>admin.</td>\n",
              "      <td>married</td>\n",
              "      <td>tertiary</td>\n",
              "      <td>no</td>\n",
              "      <td>184</td>\n",
              "      <td>no</td>\n",
              "      <td>no</td>\n",
              "      <td>unknown</td>\n",
              "      <td>5</td>\n",
              "      <td>may</td>\n",
              "      <td>673</td>\n",
              "      <td>2</td>\n",
              "      <td>-1</td>\n",
              "      <td>0</td>\n",
              "      <td>unknown</td>\n",
              "      <td>yes</td>\n",
              "    </tr>\n",
              "  </tbody>\n",
              "</table>\n",
              "</div>\n",
              "      <button class=\"colab-df-convert\" onclick=\"convertToInteractive('df-da93303d-644f-420a-8112-8b556683d6d6')\"\n",
              "              title=\"Convert this dataframe to an interactive table.\"\n",
              "              style=\"display:none;\">\n",
              "        \n",
              "  <svg xmlns=\"http://www.w3.org/2000/svg\" height=\"24px\"viewBox=\"0 0 24 24\"\n",
              "       width=\"24px\">\n",
              "    <path d=\"M0 0h24v24H0V0z\" fill=\"none\"/>\n",
              "    <path d=\"M18.56 5.44l.94 2.06.94-2.06 2.06-.94-2.06-.94-.94-2.06-.94 2.06-2.06.94zm-11 1L8.5 8.5l.94-2.06 2.06-.94-2.06-.94L8.5 2.5l-.94 2.06-2.06.94zm10 10l.94 2.06.94-2.06 2.06-.94-2.06-.94-.94-2.06-.94 2.06-2.06.94z\"/><path d=\"M17.41 7.96l-1.37-1.37c-.4-.4-.92-.59-1.43-.59-.52 0-1.04.2-1.43.59L10.3 9.45l-7.72 7.72c-.78.78-.78 2.05 0 2.83L4 21.41c.39.39.9.59 1.41.59.51 0 1.02-.2 1.41-.59l7.78-7.78 2.81-2.81c.8-.78.8-2.07 0-2.86zM5.41 20L4 18.59l7.72-7.72 1.47 1.35L5.41 20z\"/>\n",
              "  </svg>\n",
              "      </button>\n",
              "      \n",
              "  <style>\n",
              "    .colab-df-container {\n",
              "      display:flex;\n",
              "      flex-wrap:wrap;\n",
              "      gap: 12px;\n",
              "    }\n",
              "\n",
              "    .colab-df-convert {\n",
              "      background-color: #E8F0FE;\n",
              "      border: none;\n",
              "      border-radius: 50%;\n",
              "      cursor: pointer;\n",
              "      display: none;\n",
              "      fill: #1967D2;\n",
              "      height: 32px;\n",
              "      padding: 0 0 0 0;\n",
              "      width: 32px;\n",
              "    }\n",
              "\n",
              "    .colab-df-convert:hover {\n",
              "      background-color: #E2EBFA;\n",
              "      box-shadow: 0px 1px 2px rgba(60, 64, 67, 0.3), 0px 1px 3px 1px rgba(60, 64, 67, 0.15);\n",
              "      fill: #174EA6;\n",
              "    }\n",
              "\n",
              "    [theme=dark] .colab-df-convert {\n",
              "      background-color: #3B4455;\n",
              "      fill: #D2E3FC;\n",
              "    }\n",
              "\n",
              "    [theme=dark] .colab-df-convert:hover {\n",
              "      background-color: #434B5C;\n",
              "      box-shadow: 0px 1px 3px 1px rgba(0, 0, 0, 0.15);\n",
              "      filter: drop-shadow(0px 1px 2px rgba(0, 0, 0, 0.3));\n",
              "      fill: #FFFFFF;\n",
              "    }\n",
              "  </style>\n",
              "\n",
              "      <script>\n",
              "        const buttonEl =\n",
              "          document.querySelector('#df-da93303d-644f-420a-8112-8b556683d6d6 button.colab-df-convert');\n",
              "        buttonEl.style.display =\n",
              "          google.colab.kernel.accessAllowed ? 'block' : 'none';\n",
              "\n",
              "        async function convertToInteractive(key) {\n",
              "          const element = document.querySelector('#df-da93303d-644f-420a-8112-8b556683d6d6');\n",
              "          const dataTable =\n",
              "            await google.colab.kernel.invokeFunction('convertToInteractive',\n",
              "                                                     [key], {});\n",
              "          if (!dataTable) return;\n",
              "\n",
              "          const docLinkHtml = 'Like what you see? Visit the ' +\n",
              "            '<a target=\"_blank\" href=https://colab.research.google.com/notebooks/data_table.ipynb>data table notebook</a>'\n",
              "            + ' to learn more about interactive tables.';\n",
              "          element.innerHTML = '';\n",
              "          dataTable['output_type'] = 'display_data';\n",
              "          await google.colab.output.renderOutput(dataTable, element);\n",
              "          const docLink = document.createElement('div');\n",
              "          docLink.innerHTML = docLinkHtml;\n",
              "          element.appendChild(docLink);\n",
              "        }\n",
              "      </script>\n",
              "    </div>\n",
              "  </div>\n",
              "  "
            ]
          },
          "metadata": {},
          "execution_count": 4
        }
      ]
    },
    {
      "cell_type": "code",
      "source": [
        "bank_df_enc = bank_df.copy()"
      ],
      "metadata": {
        "id": "LuE4Get-OSzw"
      },
      "execution_count": 5,
      "outputs": []
    },
    {
      "cell_type": "markdown",
      "metadata": {
        "id": "F6B4hdJG3ZtB"
      },
      "source": [
        "# 2. Preprocessing\n",
        "- 전처리 단계이며 각 변수를 이해하며 카테고리의 구성, scale 조정, 타입의 변환, 변수 제거 등 모델의 성능을 향상시키기 위한 처리를 진행할 수 있습니다.\n",
        "- 아래 코드들은 기본적인 확인 과정이며, 필요한 경우 일부 변수만 사용한다거나 카테고리 변수를 더미변수로 만드는 등 해보시길 바랍니다.\n",
        "- 실습 때 처럼 소수의 변수만 사용해도 좋습니다."
      ]
    },
    {
      "cell_type": "markdown",
      "metadata": {
        "id": "uKbSmisz3lUC"
      },
      "source": [
        "## 2.1. Check Null values\n",
        "\n",
        "- Null 값이 없는 것을 확인.\n",
        "- Null 값이 있다면 제거."
      ]
    },
    {
      "cell_type": "code",
      "metadata": {
        "colab": {
          "base_uri": "https://localhost:8080/"
        },
        "id": "1F3lwaAX3tUu",
        "outputId": "ab689968-23cc-4c0d-8156-93b6b3c1925f"
      },
      "source": [
        "bank_df_enc[bank_df_enc.isnull().any(axis=1)].count()"
      ],
      "execution_count": 6,
      "outputs": [
        {
          "output_type": "execute_result",
          "data": {
            "text/plain": [
              "age          0\n",
              "job          0\n",
              "marital      0\n",
              "education    0\n",
              "default      0\n",
              "balance      0\n",
              "housing      0\n",
              "loan         0\n",
              "contact      0\n",
              "day          0\n",
              "month        0\n",
              "duration     0\n",
              "campaign     0\n",
              "pdays        0\n",
              "previous     0\n",
              "poutcome     0\n",
              "deposit      0\n",
              "dtype: int64"
            ]
          },
          "metadata": {},
          "execution_count": 6
        }
      ]
    },
    {
      "cell_type": "markdown",
      "metadata": {
        "id": "PpA7_oVHBpc-"
      },
      "source": [
        "### 2.2.1. job"
      ]
    },
    {
      "cell_type": "code",
      "metadata": {
        "colab": {
          "base_uri": "https://localhost:8080/"
        },
        "id": "GgqGIey831sC",
        "outputId": "612044d4-85c4-481b-9a52-b8399ea544ab"
      },
      "source": [
        "# 변수 job의 모든 카테고리들\n",
        "list(bank_df_enc.job.unique())"
      ],
      "execution_count": 7,
      "outputs": [
        {
          "output_type": "execute_result",
          "data": {
            "text/plain": [
              "['admin.',\n",
              " 'technician',\n",
              " 'services',\n",
              " 'management',\n",
              " 'retired',\n",
              " 'blue-collar',\n",
              " 'unemployed',\n",
              " 'entrepreneur',\n",
              " 'housemaid',\n",
              " 'unknown',\n",
              " 'self-employed',\n",
              " 'student']"
            ]
          },
          "metadata": {},
          "execution_count": 7
        }
      ]
    },
    {
      "cell_type": "code",
      "metadata": {
        "colab": {
          "base_uri": "https://localhost:8080/"
        },
        "id": "jbZdThqW4LgT",
        "outputId": "c297e9d6-2da3-4333-c8f1-16d2d596b7aa"
      },
      "source": [
        "# 변수 job의 종류별 데이터 개수\n",
        "bank_df_enc.job.value_counts()"
      ],
      "execution_count": 8,
      "outputs": [
        {
          "output_type": "execute_result",
          "data": {
            "text/plain": [
              "management       2566\n",
              "blue-collar      1944\n",
              "technician       1823\n",
              "admin.           1334\n",
              "services          923\n",
              "retired           778\n",
              "self-employed     405\n",
              "student           360\n",
              "unemployed        357\n",
              "entrepreneur      328\n",
              "housemaid         274\n",
              "unknown            70\n",
              "Name: job, dtype: int64"
            ]
          },
          "metadata": {},
          "execution_count": 8
        }
      ]
    },
    {
      "cell_type": "code",
      "metadata": {
        "colab": {
          "base_uri": "https://localhost:8080/"
        },
        "id": "_pFe5JyP66FC",
        "outputId": "6e07a578-fed6-4121-95ab-ede9a1fc8f57"
      },
      "source": [
        "# 변수 job의 종류별 y가 yes 인 데이터 개수\n",
        "bank_df_enc[bank_df_enc['deposit']=='yes'].job.value_counts()"
      ],
      "execution_count": 9,
      "outputs": [
        {
          "output_type": "execute_result",
          "data": {
            "text/plain": [
              "management       1301\n",
              "technician        840\n",
              "blue-collar       708\n",
              "admin.            631\n",
              "retired           516\n",
              "services          369\n",
              "student           269\n",
              "unemployed        202\n",
              "self-employed     187\n",
              "entrepreneur      123\n",
              "housemaid         109\n",
              "unknown            34\n",
              "Name: job, dtype: int64"
            ]
          },
          "metadata": {},
          "execution_count": 9
        }
      ]
    },
    {
      "cell_type": "code",
      "metadata": {
        "colab": {
          "base_uri": "https://localhost:8080/"
        },
        "id": "uHqi2F407rd5",
        "outputId": "19e6b67f-1391-4ca6-e367-6ca3ba139b18"
      },
      "source": [
        "# 변수 job의 카테고리가 많기 때문에 비슷한 것들끼리 묶어준다. (예시이며 원하시는대로 수정 가능합니다)\n",
        "bank_df_enc['job'] = bank_df_enc['job'].replace(['management', 'admin.'], 'white-collar')\n",
        "bank_df_enc['job'] = bank_df_enc['job'].replace(['services','housemaid'], 'pink-collar')\n",
        "bank_df_enc['job'] = bank_df_enc['job'].replace(['retired', 'student', 'unemployed', 'unknown'], 'other')\n",
        "# 결과확인\n",
        "bank_df_enc.job.value_counts()"
      ],
      "execution_count": 10,
      "outputs": [
        {
          "output_type": "execute_result",
          "data": {
            "text/plain": [
              "white-collar     3900\n",
              "blue-collar      1944\n",
              "technician       1823\n",
              "other            1565\n",
              "pink-collar      1197\n",
              "self-employed     405\n",
              "entrepreneur      328\n",
              "Name: job, dtype: int64"
            ]
          },
          "metadata": {},
          "execution_count": 10
        }
      ]
    },
    {
      "cell_type": "code",
      "metadata": {
        "colab": {
          "base_uri": "https://localhost:8080/"
        },
        "id": "wfPNTrOu9OtK",
        "outputId": "a5c824a8-36e1-4cbe-f7c5-d0ddd79cbc7e"
      },
      "source": [
        "bank_df_enc.marital.value_counts()"
      ],
      "execution_count": 11,
      "outputs": [
        {
          "output_type": "execute_result",
          "data": {
            "text/plain": [
              "married     6351\n",
              "single      3518\n",
              "divorced    1293\n",
              "Name: marital, dtype: int64"
            ]
          },
          "metadata": {},
          "execution_count": 11
        }
      ]
    },
    {
      "cell_type": "code",
      "metadata": {
        "colab": {
          "base_uri": "https://localhost:8080/"
        },
        "id": "HlwkMflDCeSb",
        "outputId": "bd9a5525-3733-45e1-fc3e-912680825ecf"
      },
      "source": [
        "bank_df_enc.education.value_counts()"
      ],
      "execution_count": 12,
      "outputs": [
        {
          "output_type": "execute_result",
          "data": {
            "text/plain": [
              "secondary    5476\n",
              "tertiary     3689\n",
              "primary      1500\n",
              "unknown       497\n",
              "Name: education, dtype: int64"
            ]
          },
          "metadata": {},
          "execution_count": 12
        }
      ]
    },
    {
      "cell_type": "code",
      "metadata": {
        "colab": {
          "base_uri": "https://localhost:8080/"
        },
        "id": "ib-LiVyNExRJ",
        "outputId": "3f663fe6-a339-44b7-cb43-d472a8fb153c"
      },
      "source": [
        "bank_df_enc.poutcome.value_counts()"
      ],
      "execution_count": 13,
      "outputs": [
        {
          "output_type": "execute_result",
          "data": {
            "text/plain": [
              "unknown    8326\n",
              "failure    1228\n",
              "success    1071\n",
              "other       537\n",
              "Name: poutcome, dtype: int64"
            ]
          },
          "metadata": {},
          "execution_count": 13
        }
      ]
    },
    {
      "cell_type": "code",
      "metadata": {
        "colab": {
          "base_uri": "https://localhost:8080/"
        },
        "id": "7OAWxCoWLivb",
        "outputId": "9b394e1b-29e1-47c3-ebaf-aa7dec2470e3"
      },
      "source": [
        "# other을 unknown으로 합침.\n",
        "bank_df_enc['poutcome'] = bank_df_enc['poutcome'].replace(['other'] , 'unknown')\n",
        "bank_df_enc.poutcome.value_counts()"
      ],
      "execution_count": 14,
      "outputs": [
        {
          "output_type": "execute_result",
          "data": {
            "text/plain": [
              "unknown    8863\n",
              "failure    1228\n",
              "success    1071\n",
              "Name: poutcome, dtype: int64"
            ]
          },
          "metadata": {},
          "execution_count": 14
        }
      ]
    },
    {
      "cell_type": "code",
      "metadata": {
        "id": "7fFvzoPSNure"
      },
      "source": [
        "# 해당 변수를 사용하지 않길 원함 => 제거\n",
        "bank_df_enc.drop('contact', axis=1,inplace = True)\n",
        "bank_df_enc.drop('month', axis=1,inplace = True)"
      ],
      "execution_count": 15,
      "outputs": []
    },
    {
      "cell_type": "code",
      "source": [
        "# 문자열 데이터를 숫자형으로 인코딩 한다.\n",
        "from sklearn import preprocessing\n",
        "\n",
        "def encode_features(dataDF):\n",
        "    features = ['job', 'marital', 'education', 'default', 'housing', 'loan', 'poutcome']\n",
        "    for feature in features:\n",
        "        le = preprocessing.LabelEncoder()\n",
        "        le = le.fit(dataDF[feature])     \n",
        "        dataDF[feature] = le.transform(dataDF[feature])\n",
        "    \n",
        "    return dataDF\n",
        "\n",
        "bank_df_enc = encode_features(bank_df_enc)\n",
        "bank_df_enc.head()"
      ],
      "metadata": {
        "colab": {
          "base_uri": "https://localhost:8080/",
          "height": 206
        },
        "id": "6VUh34vmGljy",
        "outputId": "a4525d82-4c29-4047-d986-577b357579a5"
      },
      "execution_count": 16,
      "outputs": [
        {
          "output_type": "execute_result",
          "data": {
            "text/plain": [
              "   age  job  marital  education  default  balance  housing  loan  day  \\\n",
              "0   59    6        1          1        0     2343        1     0    5   \n",
              "1   56    6        1          1        0       45        0     0    5   \n",
              "2   41    5        1          1        0     1270        1     0    5   \n",
              "3   55    3        1          1        0     2476        1     0    5   \n",
              "4   54    6        1          2        0      184        0     0    5   \n",
              "\n",
              "   duration  campaign  pdays  previous  poutcome deposit  \n",
              "0      1042         1     -1         0         2     yes  \n",
              "1      1467         1     -1         0         2     yes  \n",
              "2      1389         1     -1         0         2     yes  \n",
              "3       579         1     -1         0         2     yes  \n",
              "4       673         2     -1         0         2     yes  "
            ],
            "text/html": [
              "\n",
              "  <div id=\"df-c62f4303-10b3-4aa1-85bb-132ed1d7b89f\">\n",
              "    <div class=\"colab-df-container\">\n",
              "      <div>\n",
              "<style scoped>\n",
              "    .dataframe tbody tr th:only-of-type {\n",
              "        vertical-align: middle;\n",
              "    }\n",
              "\n",
              "    .dataframe tbody tr th {\n",
              "        vertical-align: top;\n",
              "    }\n",
              "\n",
              "    .dataframe thead th {\n",
              "        text-align: right;\n",
              "    }\n",
              "</style>\n",
              "<table border=\"1\" class=\"dataframe\">\n",
              "  <thead>\n",
              "    <tr style=\"text-align: right;\">\n",
              "      <th></th>\n",
              "      <th>age</th>\n",
              "      <th>job</th>\n",
              "      <th>marital</th>\n",
              "      <th>education</th>\n",
              "      <th>default</th>\n",
              "      <th>balance</th>\n",
              "      <th>housing</th>\n",
              "      <th>loan</th>\n",
              "      <th>day</th>\n",
              "      <th>duration</th>\n",
              "      <th>campaign</th>\n",
              "      <th>pdays</th>\n",
              "      <th>previous</th>\n",
              "      <th>poutcome</th>\n",
              "      <th>deposit</th>\n",
              "    </tr>\n",
              "  </thead>\n",
              "  <tbody>\n",
              "    <tr>\n",
              "      <th>0</th>\n",
              "      <td>59</td>\n",
              "      <td>6</td>\n",
              "      <td>1</td>\n",
              "      <td>1</td>\n",
              "      <td>0</td>\n",
              "      <td>2343</td>\n",
              "      <td>1</td>\n",
              "      <td>0</td>\n",
              "      <td>5</td>\n",
              "      <td>1042</td>\n",
              "      <td>1</td>\n",
              "      <td>-1</td>\n",
              "      <td>0</td>\n",
              "      <td>2</td>\n",
              "      <td>yes</td>\n",
              "    </tr>\n",
              "    <tr>\n",
              "      <th>1</th>\n",
              "      <td>56</td>\n",
              "      <td>6</td>\n",
              "      <td>1</td>\n",
              "      <td>1</td>\n",
              "      <td>0</td>\n",
              "      <td>45</td>\n",
              "      <td>0</td>\n",
              "      <td>0</td>\n",
              "      <td>5</td>\n",
              "      <td>1467</td>\n",
              "      <td>1</td>\n",
              "      <td>-1</td>\n",
              "      <td>0</td>\n",
              "      <td>2</td>\n",
              "      <td>yes</td>\n",
              "    </tr>\n",
              "    <tr>\n",
              "      <th>2</th>\n",
              "      <td>41</td>\n",
              "      <td>5</td>\n",
              "      <td>1</td>\n",
              "      <td>1</td>\n",
              "      <td>0</td>\n",
              "      <td>1270</td>\n",
              "      <td>1</td>\n",
              "      <td>0</td>\n",
              "      <td>5</td>\n",
              "      <td>1389</td>\n",
              "      <td>1</td>\n",
              "      <td>-1</td>\n",
              "      <td>0</td>\n",
              "      <td>2</td>\n",
              "      <td>yes</td>\n",
              "    </tr>\n",
              "    <tr>\n",
              "      <th>3</th>\n",
              "      <td>55</td>\n",
              "      <td>3</td>\n",
              "      <td>1</td>\n",
              "      <td>1</td>\n",
              "      <td>0</td>\n",
              "      <td>2476</td>\n",
              "      <td>1</td>\n",
              "      <td>0</td>\n",
              "      <td>5</td>\n",
              "      <td>579</td>\n",
              "      <td>1</td>\n",
              "      <td>-1</td>\n",
              "      <td>0</td>\n",
              "      <td>2</td>\n",
              "      <td>yes</td>\n",
              "    </tr>\n",
              "    <tr>\n",
              "      <th>4</th>\n",
              "      <td>54</td>\n",
              "      <td>6</td>\n",
              "      <td>1</td>\n",
              "      <td>2</td>\n",
              "      <td>0</td>\n",
              "      <td>184</td>\n",
              "      <td>0</td>\n",
              "      <td>0</td>\n",
              "      <td>5</td>\n",
              "      <td>673</td>\n",
              "      <td>2</td>\n",
              "      <td>-1</td>\n",
              "      <td>0</td>\n",
              "      <td>2</td>\n",
              "      <td>yes</td>\n",
              "    </tr>\n",
              "  </tbody>\n",
              "</table>\n",
              "</div>\n",
              "      <button class=\"colab-df-convert\" onclick=\"convertToInteractive('df-c62f4303-10b3-4aa1-85bb-132ed1d7b89f')\"\n",
              "              title=\"Convert this dataframe to an interactive table.\"\n",
              "              style=\"display:none;\">\n",
              "        \n",
              "  <svg xmlns=\"http://www.w3.org/2000/svg\" height=\"24px\"viewBox=\"0 0 24 24\"\n",
              "       width=\"24px\">\n",
              "    <path d=\"M0 0h24v24H0V0z\" fill=\"none\"/>\n",
              "    <path d=\"M18.56 5.44l.94 2.06.94-2.06 2.06-.94-2.06-.94-.94-2.06-.94 2.06-2.06.94zm-11 1L8.5 8.5l.94-2.06 2.06-.94-2.06-.94L8.5 2.5l-.94 2.06-2.06.94zm10 10l.94 2.06.94-2.06 2.06-.94-2.06-.94-.94-2.06-.94 2.06-2.06.94z\"/><path d=\"M17.41 7.96l-1.37-1.37c-.4-.4-.92-.59-1.43-.59-.52 0-1.04.2-1.43.59L10.3 9.45l-7.72 7.72c-.78.78-.78 2.05 0 2.83L4 21.41c.39.39.9.59 1.41.59.51 0 1.02-.2 1.41-.59l7.78-7.78 2.81-2.81c.8-.78.8-2.07 0-2.86zM5.41 20L4 18.59l7.72-7.72 1.47 1.35L5.41 20z\"/>\n",
              "  </svg>\n",
              "      </button>\n",
              "      \n",
              "  <style>\n",
              "    .colab-df-container {\n",
              "      display:flex;\n",
              "      flex-wrap:wrap;\n",
              "      gap: 12px;\n",
              "    }\n",
              "\n",
              "    .colab-df-convert {\n",
              "      background-color: #E8F0FE;\n",
              "      border: none;\n",
              "      border-radius: 50%;\n",
              "      cursor: pointer;\n",
              "      display: none;\n",
              "      fill: #1967D2;\n",
              "      height: 32px;\n",
              "      padding: 0 0 0 0;\n",
              "      width: 32px;\n",
              "    }\n",
              "\n",
              "    .colab-df-convert:hover {\n",
              "      background-color: #E2EBFA;\n",
              "      box-shadow: 0px 1px 2px rgba(60, 64, 67, 0.3), 0px 1px 3px 1px rgba(60, 64, 67, 0.15);\n",
              "      fill: #174EA6;\n",
              "    }\n",
              "\n",
              "    [theme=dark] .colab-df-convert {\n",
              "      background-color: #3B4455;\n",
              "      fill: #D2E3FC;\n",
              "    }\n",
              "\n",
              "    [theme=dark] .colab-df-convert:hover {\n",
              "      background-color: #434B5C;\n",
              "      box-shadow: 0px 1px 3px 1px rgba(0, 0, 0, 0.15);\n",
              "      filter: drop-shadow(0px 1px 2px rgba(0, 0, 0, 0.3));\n",
              "      fill: #FFFFFF;\n",
              "    }\n",
              "  </style>\n",
              "\n",
              "      <script>\n",
              "        const buttonEl =\n",
              "          document.querySelector('#df-c62f4303-10b3-4aa1-85bb-132ed1d7b89f button.colab-df-convert');\n",
              "        buttonEl.style.display =\n",
              "          google.colab.kernel.accessAllowed ? 'block' : 'none';\n",
              "\n",
              "        async function convertToInteractive(key) {\n",
              "          const element = document.querySelector('#df-c62f4303-10b3-4aa1-85bb-132ed1d7b89f');\n",
              "          const dataTable =\n",
              "            await google.colab.kernel.invokeFunction('convertToInteractive',\n",
              "                                                     [key], {});\n",
              "          if (!dataTable) return;\n",
              "\n",
              "          const docLinkHtml = 'Like what you see? Visit the ' +\n",
              "            '<a target=\"_blank\" href=https://colab.research.google.com/notebooks/data_table.ipynb>data table notebook</a>'\n",
              "            + ' to learn more about interactive tables.';\n",
              "          element.innerHTML = '';\n",
              "          dataTable['output_type'] = 'display_data';\n",
              "          await google.colab.output.renderOutput(dataTable, element);\n",
              "          const docLink = document.createElement('div');\n",
              "          docLink.innerHTML = docLinkHtml;\n",
              "          element.appendChild(docLink);\n",
              "        }\n",
              "      </script>\n",
              "    </div>\n",
              "  </div>\n",
              "  "
            ]
          },
          "metadata": {},
          "execution_count": 16
        }
      ]
    },
    {
      "cell_type": "code",
      "metadata": {
        "colab": {
          "base_uri": "https://localhost:8080/"
        },
        "id": "c-CvQhhLQyXZ",
        "outputId": "8ebfb53f-b1b0-4315-d057-9b6d70b1812d"
      },
      "source": [
        "bank_df_enc.info()"
      ],
      "execution_count": 17,
      "outputs": [
        {
          "output_type": "stream",
          "name": "stdout",
          "text": [
            "<class 'pandas.core.frame.DataFrame'>\n",
            "RangeIndex: 11162 entries, 0 to 11161\n",
            "Data columns (total 15 columns):\n",
            " #   Column     Non-Null Count  Dtype \n",
            "---  ------     --------------  ----- \n",
            " 0   age        11162 non-null  int64 \n",
            " 1   job        11162 non-null  int64 \n",
            " 2   marital    11162 non-null  int64 \n",
            " 3   education  11162 non-null  int64 \n",
            " 4   default    11162 non-null  int64 \n",
            " 5   balance    11162 non-null  int64 \n",
            " 6   housing    11162 non-null  int64 \n",
            " 7   loan       11162 non-null  int64 \n",
            " 8   day        11162 non-null  int64 \n",
            " 9   duration   11162 non-null  int64 \n",
            " 10  campaign   11162 non-null  int64 \n",
            " 11  pdays      11162 non-null  int64 \n",
            " 12  previous   11162 non-null  int64 \n",
            " 13  poutcome   11162 non-null  int64 \n",
            " 14  deposit    11162 non-null  object\n",
            "dtypes: int64(14), object(1)\n",
            "memory usage: 1.3+ MB\n"
          ]
        }
      ]
    },
    {
      "cell_type": "markdown",
      "metadata": {
        "id": "PQARKxwBQ9MH"
      },
      "source": [
        "# 3. Modeling"
      ]
    },
    {
      "cell_type": "code",
      "source": [
        "bank_df_enc.deposit"
      ],
      "metadata": {
        "colab": {
          "base_uri": "https://localhost:8080/"
        },
        "id": "C5LIFFSEI3JD",
        "outputId": "0d6405f0-11b2-4706-beba-1df6a676c7bd"
      },
      "execution_count": 18,
      "outputs": [
        {
          "output_type": "execute_result",
          "data": {
            "text/plain": [
              "0        yes\n",
              "1        yes\n",
              "2        yes\n",
              "3        yes\n",
              "4        yes\n",
              "        ... \n",
              "11157     no\n",
              "11158     no\n",
              "11159     no\n",
              "11160     no\n",
              "11161     no\n",
              "Name: deposit, Length: 11162, dtype: object"
            ]
          },
          "metadata": {},
          "execution_count": 18
        }
      ]
    },
    {
      "cell_type": "markdown",
      "metadata": {
        "id": "iiPhyhcgS5D_"
      },
      "source": [
        "## 3.1. set dataset\n",
        "\n",
        "- 데이터 나누는 비율 조정 가능.\n",
        "\n"
      ]
    },
    {
      "cell_type": "code",
      "metadata": {
        "colab": {
          "base_uri": "https://localhost:8080/"
        },
        "id": "0jHQntl7REgn",
        "outputId": "826c605c-898b-4d19-e874-84b1c08e5390"
      },
      "source": [
        "X = bank_df_enc.drop('deposit', axis=1)\n",
        "y = bank_df_enc.deposit\n",
        "\n",
        "X_train, X_test, y_train, y_test = train_test_split(X, y, test_size = 0.2, random_state = 14)\n",
        "print(\"X_train: \",X_train.shape)\n",
        "print(\"y_train: \",y_train.shape)\n",
        "print(\"X_test : \",X_test.shape)\n",
        "print(\"y_test : \",y_test.shape)"
      ],
      "execution_count": 19,
      "outputs": [
        {
          "output_type": "stream",
          "name": "stdout",
          "text": [
            "X_train:  (8929, 14)\n",
            "y_train:  (8929,)\n",
            "X_test :  (2233, 14)\n",
            "y_test :  (2233,)\n"
          ]
        }
      ]
    },
    {
      "cell_type": "code",
      "source": [
        "X_train.columns"
      ],
      "metadata": {
        "colab": {
          "base_uri": "https://localhost:8080/"
        },
        "id": "HIluuXUXPCn7",
        "outputId": "a1733ace-545e-4fc1-9d11-1616b5f9d8fa"
      },
      "execution_count": 20,
      "outputs": [
        {
          "output_type": "execute_result",
          "data": {
            "text/plain": [
              "Index(['age', 'job', 'marital', 'education', 'default', 'balance', 'housing',\n",
              "       'loan', 'day', 'duration', 'campaign', 'pdays', 'previous', 'poutcome'],\n",
              "      dtype='object')"
            ]
          },
          "metadata": {},
          "execution_count": 20
        }
      ]
    },
    {
      "cell_type": "code",
      "source": [
        "y_train"
      ],
      "metadata": {
        "colab": {
          "base_uri": "https://localhost:8080/"
        },
        "id": "aDtYcvItPa4F",
        "outputId": "168ea620-e276-48eb-d352-6076fa09816e"
      },
      "execution_count": 21,
      "outputs": [
        {
          "output_type": "execute_result",
          "data": {
            "text/plain": [
              "2328    yes\n",
              "4582    yes\n",
              "3819    yes\n",
              "5167    yes\n",
              "9110     no\n",
              "       ... \n",
              "7526     no\n",
              "6471     no\n",
              "2454    yes\n",
              "9484     no\n",
              "2667    yes\n",
              "Name: deposit, Length: 8929, dtype: object"
            ]
          },
          "metadata": {},
          "execution_count": 21
        }
      ]
    },
    {
      "cell_type": "markdown",
      "metadata": {
        "id": "qN9mG2giTEXQ"
      },
      "source": [
        "## 3.2. set model\n",
        "\n",
        "- 이 아래부터 `decision tree` 모델과 파라미터들을 조절하여 최적의 모델을 찾아가는 과정을 작성해보세요.\n",
        "- 실습 시간에 진행했던 코드들과 ref 링크들, 필요하다면 검색을 통해 쉽게 채울 수 있습니다."
      ]
    },
    {
      "cell_type": "code",
      "source": [
        "import graphviz"
      ],
      "metadata": {
        "id": "rhwlv_C3QaX3"
      },
      "execution_count": 22,
      "outputs": []
    },
    {
      "cell_type": "code",
      "metadata": {
        "id": "Gh9fGi-MSsVl",
        "colab": {
          "base_uri": "https://localhost:8080/"
        },
        "outputId": "43b51aed-9f83-4922-95dd-3a244414924c"
      },
      "source": [
        "Dtree_clf = tree.DecisionTreeClassifier(random_state=14, max_depth=5, min_samples_split= 300 )  # max_depth, min_samples_split를 수정해보세요\n",
        "Dtree_clf.fit(X_train, y_train)"
      ],
      "execution_count": 23,
      "outputs": [
        {
          "output_type": "execute_result",
          "data": {
            "text/plain": [
              "DecisionTreeClassifier(max_depth=5, min_samples_split=300, random_state=14)"
            ]
          },
          "metadata": {},
          "execution_count": 23
        }
      ]
    },
    {
      "cell_type": "code",
      "source": [
        "dot_data = export_graphviz(Dtree_clf, filled=True, out_file=None,\n",
        "                           feature_names = X_train.columns,\n",
        "                           class_names = y_train,\n",
        "                           rounded=False)\n",
        "graphviz.Source(dot_data)"
      ],
      "metadata": {
        "colab": {
          "base_uri": "https://localhost:8080/",
          "height": 934
        },
        "id": "sp2ONRfCEV97",
        "outputId": "cb7896dc-b722-4d2a-9667-6d62af560502"
      },
      "execution_count": 24,
      "outputs": [
        {
          "output_type": "execute_result",
          "data": {
            "text/plain": [
              "<graphviz.files.Source at 0x7ff5733cad90>"
            ],
            "image/svg+xml": "<?xml version=\"1.0\" encoding=\"UTF-8\" standalone=\"no\"?>\n<!DOCTYPE svg PUBLIC \"-//W3C//DTD SVG 1.1//EN\"\n \"http://www.w3.org/Graphics/SVG/1.1/DTD/svg11.dtd\">\n<!-- Generated by graphviz version 2.40.1 (20161225.0304)\n -->\n<!-- Title: Tree Pages: 1 -->\n<svg width=\"2911pt\" height=\"671pt\"\n viewBox=\"0.00 0.00 2910.50 671.00\" xmlns=\"http://www.w3.org/2000/svg\" xmlns:xlink=\"http://www.w3.org/1999/xlink\">\n<g id=\"graph0\" class=\"graph\" transform=\"scale(1 1) rotate(0) translate(4 667)\">\n<title>Tree</title>\n<polygon fill=\"#ffffff\" stroke=\"transparent\" points=\"-4,4 -4,-667 2906.5,-667 2906.5,4 -4,4\"/>\n<!-- 0 -->\n<g id=\"node1\" class=\"node\">\n<title>0</title>\n<polygon fill=\"#fcf2ea\" stroke=\"#000000\" points=\"1546.5,-663 1397.5,-663 1397.5,-580 1546.5,-580 1546.5,-663\"/>\n<text text-anchor=\"middle\" x=\"1472\" y=\"-647.8\" font-family=\"Helvetica,sans-Serif\" font-size=\"14.00\" fill=\"#000000\">duration &lt;= 365.5</text>\n<text text-anchor=\"middle\" x=\"1472\" y=\"-632.8\" font-family=\"Helvetica,sans-Serif\" font-size=\"14.00\" fill=\"#000000\">gini = 0.498</text>\n<text text-anchor=\"middle\" x=\"1472\" y=\"-617.8\" font-family=\"Helvetica,sans-Serif\" font-size=\"14.00\" fill=\"#000000\">samples = 8929</text>\n<text text-anchor=\"middle\" x=\"1472\" y=\"-602.8\" font-family=\"Helvetica,sans-Serif\" font-size=\"14.00\" fill=\"#000000\">value = [4712, 4217]</text>\n<text text-anchor=\"middle\" x=\"1472\" y=\"-587.8\" font-family=\"Helvetica,sans-Serif\" font-size=\"14.00\" fill=\"#000000\">class = yes</text>\n</g>\n<!-- 1 -->\n<g id=\"node2\" class=\"node\">\n<title>1</title>\n<polygon fill=\"#f1b991\" stroke=\"#000000\" points=\"1187.5,-544 1038.5,-544 1038.5,-461 1187.5,-461 1187.5,-544\"/>\n<text text-anchor=\"middle\" x=\"1113\" y=\"-528.8\" font-family=\"Helvetica,sans-Serif\" font-size=\"14.00\" fill=\"#000000\">pdays &lt;= 9.5</text>\n<text text-anchor=\"middle\" x=\"1113\" y=\"-513.8\" font-family=\"Helvetica,sans-Serif\" font-size=\"14.00\" fill=\"#000000\">gini = 0.426</text>\n<text text-anchor=\"middle\" x=\"1113\" y=\"-498.8\" font-family=\"Helvetica,sans-Serif\" font-size=\"14.00\" fill=\"#000000\">samples = 5782</text>\n<text text-anchor=\"middle\" x=\"1113\" y=\"-483.8\" font-family=\"Helvetica,sans-Serif\" font-size=\"14.00\" fill=\"#000000\">value = [4000, 1782]</text>\n<text text-anchor=\"middle\" x=\"1113\" y=\"-468.8\" font-family=\"Helvetica,sans-Serif\" font-size=\"14.00\" fill=\"#000000\">class = yes</text>\n</g>\n<!-- 0&#45;&gt;1 -->\n<g id=\"edge1\" class=\"edge\">\n<title>0&#45;&gt;1</title>\n<path fill=\"none\" stroke=\"#000000\" d=\"M1397.1788,-596.6986C1338.8565,-577.3661 1257.871,-550.5213 1197.2694,-530.4333\"/>\n<polygon fill=\"#000000\" stroke=\"#000000\" points=\"1198.3182,-527.0938 1187.7248,-527.2695 1196.1157,-533.7382 1198.3182,-527.0938\"/>\n<text text-anchor=\"middle\" x=\"1198.9426\" y=\"-545.9115\" font-family=\"Helvetica,sans-Serif\" font-size=\"14.00\" fill=\"#000000\">True</text>\n</g>\n<!-- 26 -->\n<g id=\"node27\" class=\"node\">\n<title>26</title>\n<polygon fill=\"#73baed\" stroke=\"#000000\" points=\"1934,-544 1794,-544 1794,-461 1934,-461 1934,-544\"/>\n<text text-anchor=\"middle\" x=\"1864\" y=\"-528.8\" font-family=\"Helvetica,sans-Serif\" font-size=\"14.00\" fill=\"#000000\">duration &lt;= 643.5</text>\n<text text-anchor=\"middle\" x=\"1864\" y=\"-513.8\" font-family=\"Helvetica,sans-Serif\" font-size=\"14.00\" fill=\"#000000\">gini = 0.35</text>\n<text text-anchor=\"middle\" x=\"1864\" y=\"-498.8\" font-family=\"Helvetica,sans-Serif\" font-size=\"14.00\" fill=\"#000000\">samples = 3147</text>\n<text text-anchor=\"middle\" x=\"1864\" y=\"-483.8\" font-family=\"Helvetica,sans-Serif\" font-size=\"14.00\" fill=\"#000000\">value = [712, 2435]</text>\n<text text-anchor=\"middle\" x=\"1864\" y=\"-468.8\" font-family=\"Helvetica,sans-Serif\" font-size=\"14.00\" fill=\"#000000\">class = yes</text>\n</g>\n<!-- 0&#45;&gt;26 -->\n<g id=\"edge26\" class=\"edge\">\n<title>0&#45;&gt;26</title>\n<path fill=\"none\" stroke=\"#000000\" d=\"M1546.6549,-598.8369C1614.6522,-578.1949 1714.7737,-547.8008 1784.3036,-526.6936\"/>\n<polygon fill=\"#000000\" stroke=\"#000000\" points=\"1785.3529,-530.0328 1793.905,-523.7788 1783.3195,-523.3346 1785.3529,-530.0328\"/>\n<text text-anchor=\"middle\" x=\"1782.1246\" y=\"-542.1293\" font-family=\"Helvetica,sans-Serif\" font-size=\"14.00\" fill=\"#000000\">False</text>\n</g>\n<!-- 2 -->\n<g id=\"node3\" class=\"node\">\n<title>2</title>\n<polygon fill=\"#eca26e\" stroke=\"#000000\" points=\"771,-425 631,-425 631,-342 771,-342 771,-425\"/>\n<text text-anchor=\"middle\" x=\"701\" y=\"-409.8\" font-family=\"Helvetica,sans-Serif\" font-size=\"14.00\" fill=\"#000000\">housing &lt;= 0.5</text>\n<text text-anchor=\"middle\" x=\"701\" y=\"-394.8\" font-family=\"Helvetica,sans-Serif\" font-size=\"14.00\" fill=\"#000000\">gini = 0.331</text>\n<text text-anchor=\"middle\" x=\"701\" y=\"-379.8\" font-family=\"Helvetica,sans-Serif\" font-size=\"14.00\" fill=\"#000000\">samples = 4288</text>\n<text text-anchor=\"middle\" x=\"701\" y=\"-364.8\" font-family=\"Helvetica,sans-Serif\" font-size=\"14.00\" fill=\"#000000\">value = [3389, 899]</text>\n<text text-anchor=\"middle\" x=\"701\" y=\"-349.8\" font-family=\"Helvetica,sans-Serif\" font-size=\"14.00\" fill=\"#000000\">class = yes</text>\n</g>\n<!-- 1&#45;&gt;2 -->\n<g id=\"edge2\" class=\"edge\">\n<title>1&#45;&gt;2</title>\n<path fill=\"none\" stroke=\"#000000\" d=\"M1038.3899,-480.95C965.7095,-459.9574 855.5788,-428.1478 781.0857,-406.6316\"/>\n<polygon fill=\"#000000\" stroke=\"#000000\" points=\"781.8526,-403.2101 771.2741,-403.7976 779.9101,-409.9352 781.8526,-403.2101\"/>\n</g>\n<!-- 15 -->\n<g id=\"node16\" class=\"node\">\n<title>15</title>\n<polygon fill=\"#c2e1f7\" stroke=\"#000000\" points=\"1179,-425 1047,-425 1047,-342 1179,-342 1179,-425\"/>\n<text text-anchor=\"middle\" x=\"1113\" y=\"-409.8\" font-family=\"Helvetica,sans-Serif\" font-size=\"14.00\" fill=\"#000000\">duration &lt;= 125.5</text>\n<text text-anchor=\"middle\" x=\"1113\" y=\"-394.8\" font-family=\"Helvetica,sans-Serif\" font-size=\"14.00\" fill=\"#000000\">gini = 0.483</text>\n<text text-anchor=\"middle\" x=\"1113\" y=\"-379.8\" font-family=\"Helvetica,sans-Serif\" font-size=\"14.00\" fill=\"#000000\">samples = 1494</text>\n<text text-anchor=\"middle\" x=\"1113\" y=\"-364.8\" font-family=\"Helvetica,sans-Serif\" font-size=\"14.00\" fill=\"#000000\">value = [611, 883]</text>\n<text text-anchor=\"middle\" x=\"1113\" y=\"-349.8\" font-family=\"Helvetica,sans-Serif\" font-size=\"14.00\" fill=\"#000000\">class = yes</text>\n</g>\n<!-- 1&#45;&gt;15 -->\n<g id=\"edge15\" class=\"edge\">\n<title>1&#45;&gt;15</title>\n<path fill=\"none\" stroke=\"#000000\" d=\"M1113,-460.8796C1113,-452.6838 1113,-443.9891 1113,-435.5013\"/>\n<polygon fill=\"#000000\" stroke=\"#000000\" points=\"1116.5001,-435.298 1113,-425.2981 1109.5001,-435.2981 1116.5001,-435.298\"/>\n</g>\n<!-- 3 -->\n<g id=\"node4\" class=\"node\">\n<title>3</title>\n<polygon fill=\"#f1bc95\" stroke=\"#000000\" points=\"479,-306 339,-306 339,-223 479,-223 479,-306\"/>\n<text text-anchor=\"middle\" x=\"409\" y=\"-290.8\" font-family=\"Helvetica,sans-Serif\" font-size=\"14.00\" fill=\"#000000\">duration &lt;= 124.5</text>\n<text text-anchor=\"middle\" x=\"409\" y=\"-275.8\" font-family=\"Helvetica,sans-Serif\" font-size=\"14.00\" fill=\"#000000\">gini = 0.433</text>\n<text text-anchor=\"middle\" x=\"409\" y=\"-260.8\" font-family=\"Helvetica,sans-Serif\" font-size=\"14.00\" fill=\"#000000\">samples = 2240</text>\n<text text-anchor=\"middle\" x=\"409\" y=\"-245.8\" font-family=\"Helvetica,sans-Serif\" font-size=\"14.00\" fill=\"#000000\">value = [1529, 711]</text>\n<text text-anchor=\"middle\" x=\"409\" y=\"-230.8\" font-family=\"Helvetica,sans-Serif\" font-size=\"14.00\" fill=\"#000000\">class = yes</text>\n</g>\n<!-- 2&#45;&gt;3 -->\n<g id=\"edge3\" class=\"edge\">\n<title>2&#45;&gt;3</title>\n<path fill=\"none\" stroke=\"#000000\" d=\"M630.6871,-354.8451C587.8339,-337.381 532.9563,-315.0165 488.5232,-296.9084\"/>\n<polygon fill=\"#000000\" stroke=\"#000000\" points=\"489.7897,-293.6451 479.2083,-293.1123 487.1479,-300.1275 489.7897,-293.6451\"/>\n</g>\n<!-- 10 -->\n<g id=\"node11\" class=\"node\">\n<title>10</title>\n<polygon fill=\"#e88e4d\" stroke=\"#000000\" points=\"771,-306 631,-306 631,-223 771,-223 771,-306\"/>\n<text text-anchor=\"middle\" x=\"701\" y=\"-290.8\" font-family=\"Helvetica,sans-Serif\" font-size=\"14.00\" fill=\"#000000\">age &lt;= 60.5</text>\n<text text-anchor=\"middle\" x=\"701\" y=\"-275.8\" font-family=\"Helvetica,sans-Serif\" font-size=\"14.00\" fill=\"#000000\">gini = 0.167</text>\n<text text-anchor=\"middle\" x=\"701\" y=\"-260.8\" font-family=\"Helvetica,sans-Serif\" font-size=\"14.00\" fill=\"#000000\">samples = 2048</text>\n<text text-anchor=\"middle\" x=\"701\" y=\"-245.8\" font-family=\"Helvetica,sans-Serif\" font-size=\"14.00\" fill=\"#000000\">value = [1860, 188]</text>\n<text text-anchor=\"middle\" x=\"701\" y=\"-230.8\" font-family=\"Helvetica,sans-Serif\" font-size=\"14.00\" fill=\"#000000\">class = yes</text>\n</g>\n<!-- 2&#45;&gt;10 -->\n<g id=\"edge10\" class=\"edge\">\n<title>2&#45;&gt;10</title>\n<path fill=\"none\" stroke=\"#000000\" d=\"M701,-341.8796C701,-333.6838 701,-324.9891 701,-316.5013\"/>\n<polygon fill=\"#000000\" stroke=\"#000000\" points=\"704.5001,-316.298 701,-306.2981 697.5001,-316.2981 704.5001,-316.298\"/>\n</g>\n<!-- 4 -->\n<g id=\"node5\" class=\"node\">\n<title>4</title>\n<polygon fill=\"#e89152\" stroke=\"#000000\" points=\"258,-187 134,-187 134,-104 258,-104 258,-187\"/>\n<text text-anchor=\"middle\" x=\"196\" y=\"-171.8\" font-family=\"Helvetica,sans-Serif\" font-size=\"14.00\" fill=\"#000000\">age &lt;= 28.5</text>\n<text text-anchor=\"middle\" x=\"196\" y=\"-156.8\" font-family=\"Helvetica,sans-Serif\" font-size=\"14.00\" fill=\"#000000\">gini = 0.197</text>\n<text text-anchor=\"middle\" x=\"196\" y=\"-141.8\" font-family=\"Helvetica,sans-Serif\" font-size=\"14.00\" fill=\"#000000\">samples = 777</text>\n<text text-anchor=\"middle\" x=\"196\" y=\"-126.8\" font-family=\"Helvetica,sans-Serif\" font-size=\"14.00\" fill=\"#000000\">value = [691, 86]</text>\n<text text-anchor=\"middle\" x=\"196\" y=\"-111.8\" font-family=\"Helvetica,sans-Serif\" font-size=\"14.00\" fill=\"#000000\">class = yes</text>\n</g>\n<!-- 3&#45;&gt;4 -->\n<g id=\"edge4\" class=\"edge\">\n<title>3&#45;&gt;4</title>\n<path fill=\"none\" stroke=\"#000000\" d=\"M338.9608,-225.3701C315.8447,-212.4555 290.1222,-198.0847 266.9394,-185.1328\"/>\n<polygon fill=\"#000000\" stroke=\"#000000\" points=\"268.6264,-182.0662 258.1894,-180.2443 265.2123,-188.1771 268.6264,-182.0662\"/>\n</g>\n<!-- 7 -->\n<g id=\"node8\" class=\"node\">\n<title>7</title>\n<polygon fill=\"#f8dfcd\" stroke=\"#000000\" points=\"475,-187 343,-187 343,-104 475,-104 475,-187\"/>\n<text text-anchor=\"middle\" x=\"409\" y=\"-171.8\" font-family=\"Helvetica,sans-Serif\" font-size=\"14.00\" fill=\"#000000\">balance &lt;= 67.5</text>\n<text text-anchor=\"middle\" x=\"409\" y=\"-156.8\" font-family=\"Helvetica,sans-Serif\" font-size=\"14.00\" fill=\"#000000\">gini = 0.489</text>\n<text text-anchor=\"middle\" x=\"409\" y=\"-141.8\" font-family=\"Helvetica,sans-Serif\" font-size=\"14.00\" fill=\"#000000\">samples = 1463</text>\n<text text-anchor=\"middle\" x=\"409\" y=\"-126.8\" font-family=\"Helvetica,sans-Serif\" font-size=\"14.00\" fill=\"#000000\">value = [838, 625]</text>\n<text text-anchor=\"middle\" x=\"409\" y=\"-111.8\" font-family=\"Helvetica,sans-Serif\" font-size=\"14.00\" fill=\"#000000\">class = yes</text>\n</g>\n<!-- 3&#45;&gt;7 -->\n<g id=\"edge7\" class=\"edge\">\n<title>3&#45;&gt;7</title>\n<path fill=\"none\" stroke=\"#000000\" d=\"M409,-222.8796C409,-214.6838 409,-205.9891 409,-197.5013\"/>\n<polygon fill=\"#000000\" stroke=\"#000000\" points=\"412.5001,-197.298 409,-187.2981 405.5001,-197.2981 412.5001,-197.298\"/>\n</g>\n<!-- 5 -->\n<g id=\"node6\" class=\"node\">\n<title>5</title>\n<polygon fill=\"#fbece1\" stroke=\"#000000\" points=\"116,-68 0,-68 0,0 116,0 116,-68\"/>\n<text text-anchor=\"middle\" x=\"58\" y=\"-52.8\" font-family=\"Helvetica,sans-Serif\" font-size=\"14.00\" fill=\"#000000\">gini = 0.497</text>\n<text text-anchor=\"middle\" x=\"58\" y=\"-37.8\" font-family=\"Helvetica,sans-Serif\" font-size=\"14.00\" fill=\"#000000\">samples = 61</text>\n<text text-anchor=\"middle\" x=\"58\" y=\"-22.8\" font-family=\"Helvetica,sans-Serif\" font-size=\"14.00\" fill=\"#000000\">value = [33, 28]</text>\n<text text-anchor=\"middle\" x=\"58\" y=\"-7.8\" font-family=\"Helvetica,sans-Serif\" font-size=\"14.00\" fill=\"#000000\">class = yes</text>\n</g>\n<!-- 4&#45;&gt;5 -->\n<g id=\"edge5\" class=\"edge\">\n<title>4&#45;&gt;5</title>\n<path fill=\"none\" stroke=\"#000000\" d=\"M144.6139,-103.9815C132.7839,-94.4232 120.2136,-84.2668 108.4249,-74.7419\"/>\n<polygon fill=\"#000000\" stroke=\"#000000\" points=\"110.3851,-71.826 100.4071,-68.2637 105.9858,-77.2708 110.3851,-71.826\"/>\n</g>\n<!-- 6 -->\n<g id=\"node7\" class=\"node\">\n<title>6</title>\n<polygon fill=\"#e78c4a\" stroke=\"#000000\" points=\"258,-68 134,-68 134,0 258,0 258,-68\"/>\n<text text-anchor=\"middle\" x=\"196\" y=\"-52.8\" font-family=\"Helvetica,sans-Serif\" font-size=\"14.00\" fill=\"#000000\">gini = 0.149</text>\n<text text-anchor=\"middle\" x=\"196\" y=\"-37.8\" font-family=\"Helvetica,sans-Serif\" font-size=\"14.00\" fill=\"#000000\">samples = 716</text>\n<text text-anchor=\"middle\" x=\"196\" y=\"-22.8\" font-family=\"Helvetica,sans-Serif\" font-size=\"14.00\" fill=\"#000000\">value = [658, 58]</text>\n<text text-anchor=\"middle\" x=\"196\" y=\"-7.8\" font-family=\"Helvetica,sans-Serif\" font-size=\"14.00\" fill=\"#000000\">class = yes</text>\n</g>\n<!-- 4&#45;&gt;6 -->\n<g id=\"edge6\" class=\"edge\">\n<title>4&#45;&gt;6</title>\n<path fill=\"none\" stroke=\"#000000\" d=\"M196,-103.9815C196,-95.618 196,-86.7965 196,-78.3409\"/>\n<polygon fill=\"#000000\" stroke=\"#000000\" points=\"199.5001,-78.2636 196,-68.2637 192.5001,-78.2637 199.5001,-78.2636\"/>\n</g>\n<!-- 8 -->\n<g id=\"node9\" class=\"node\">\n<title>8</title>\n<polygon fill=\"#eb9e66\" stroke=\"#000000\" points=\"400,-68 276,-68 276,0 400,0 400,-68\"/>\n<text text-anchor=\"middle\" x=\"338\" y=\"-52.8\" font-family=\"Helvetica,sans-Serif\" font-size=\"14.00\" fill=\"#000000\">gini = 0.303</text>\n<text text-anchor=\"middle\" x=\"338\" y=\"-37.8\" font-family=\"Helvetica,sans-Serif\" font-size=\"14.00\" fill=\"#000000\">samples = 279</text>\n<text text-anchor=\"middle\" x=\"338\" y=\"-22.8\" font-family=\"Helvetica,sans-Serif\" font-size=\"14.00\" fill=\"#000000\">value = [227, 52]</text>\n<text text-anchor=\"middle\" x=\"338\" y=\"-7.8\" font-family=\"Helvetica,sans-Serif\" font-size=\"14.00\" fill=\"#000000\">class = yes</text>\n</g>\n<!-- 7&#45;&gt;8 -->\n<g id=\"edge8\" class=\"edge\">\n<title>7&#45;&gt;8</title>\n<path fill=\"none\" stroke=\"#000000\" d=\"M382.5622,-103.9815C376.944,-95.1585 371.0012,-85.8258 365.3497,-76.9506\"/>\n<polygon fill=\"#000000\" stroke=\"#000000\" points=\"368.1416,-74.8188 359.8181,-68.2637 362.2371,-78.5787 368.1416,-74.8188\"/>\n</g>\n<!-- 9 -->\n<g id=\"node10\" class=\"node\">\n<title>9</title>\n<polygon fill=\"#fdf7f3\" stroke=\"#000000\" points=\"550,-68 418,-68 418,0 550,0 550,-68\"/>\n<text text-anchor=\"middle\" x=\"484\" y=\"-52.8\" font-family=\"Helvetica,sans-Serif\" font-size=\"14.00\" fill=\"#000000\">gini = 0.499</text>\n<text text-anchor=\"middle\" x=\"484\" y=\"-37.8\" font-family=\"Helvetica,sans-Serif\" font-size=\"14.00\" fill=\"#000000\">samples = 1184</text>\n<text text-anchor=\"middle\" x=\"484\" y=\"-22.8\" font-family=\"Helvetica,sans-Serif\" font-size=\"14.00\" fill=\"#000000\">value = [611, 573]</text>\n<text text-anchor=\"middle\" x=\"484\" y=\"-7.8\" font-family=\"Helvetica,sans-Serif\" font-size=\"14.00\" fill=\"#000000\">class = yes</text>\n</g>\n<!-- 7&#45;&gt;9 -->\n<g id=\"edge9\" class=\"edge\">\n<title>7&#45;&gt;9</title>\n<path fill=\"none\" stroke=\"#000000\" d=\"M436.9272,-103.9815C442.9238,-95.0666 449.2704,-85.6313 455.2959,-76.6734\"/>\n<polygon fill=\"#000000\" stroke=\"#000000\" points=\"458.2755,-78.5147 460.9527,-68.2637 452.4672,-74.6078 458.2755,-78.5147\"/>\n</g>\n<!-- 11 -->\n<g id=\"node12\" class=\"node\">\n<title>11</title>\n<polygon fill=\"#e78d4c\" stroke=\"#000000\" points=\"700,-187 560,-187 560,-104 700,-104 700,-187\"/>\n<text text-anchor=\"middle\" x=\"630\" y=\"-171.8\" font-family=\"Helvetica,sans-Serif\" font-size=\"14.00\" fill=\"#000000\">duration &lt;= 143.5</text>\n<text text-anchor=\"middle\" x=\"630\" y=\"-156.8\" font-family=\"Helvetica,sans-Serif\" font-size=\"14.00\" fill=\"#000000\">gini = 0.16</text>\n<text text-anchor=\"middle\" x=\"630\" y=\"-141.8\" font-family=\"Helvetica,sans-Serif\" font-size=\"14.00\" fill=\"#000000\">samples = 2034</text>\n<text text-anchor=\"middle\" x=\"630\" y=\"-126.8\" font-family=\"Helvetica,sans-Serif\" font-size=\"14.00\" fill=\"#000000\">value = [1856, 178]</text>\n<text text-anchor=\"middle\" x=\"630\" y=\"-111.8\" font-family=\"Helvetica,sans-Serif\" font-size=\"14.00\" fill=\"#000000\">class = yes</text>\n</g>\n<!-- 10&#45;&gt;11 -->\n<g id=\"edge11\" class=\"edge\">\n<title>10&#45;&gt;11</title>\n<path fill=\"none\" stroke=\"#000000\" d=\"M676.1676,-222.8796C671.0091,-214.2335 665.5192,-205.0322 660.1924,-196.1042\"/>\n<polygon fill=\"#000000\" stroke=\"#000000\" points=\"663.0678,-194.0924 654.9383,-187.2981 657.0564,-197.679 663.0678,-194.0924\"/>\n</g>\n<!-- 14 -->\n<g id=\"node15\" class=\"node\">\n<title>14</title>\n<polygon fill=\"#88c4ef\" stroke=\"#000000\" points=\"825.5,-179.5 718.5,-179.5 718.5,-111.5 825.5,-111.5 825.5,-179.5\"/>\n<text text-anchor=\"middle\" x=\"772\" y=\"-164.3\" font-family=\"Helvetica,sans-Serif\" font-size=\"14.00\" fill=\"#000000\">gini = 0.408</text>\n<text text-anchor=\"middle\" x=\"772\" y=\"-149.3\" font-family=\"Helvetica,sans-Serif\" font-size=\"14.00\" fill=\"#000000\">samples = 14</text>\n<text text-anchor=\"middle\" x=\"772\" y=\"-134.3\" font-family=\"Helvetica,sans-Serif\" font-size=\"14.00\" fill=\"#000000\">value = [4, 10]</text>\n<text text-anchor=\"middle\" x=\"772\" y=\"-119.3\" font-family=\"Helvetica,sans-Serif\" font-size=\"14.00\" fill=\"#000000\">class = yes</text>\n</g>\n<!-- 10&#45;&gt;14 -->\n<g id=\"edge14\" class=\"edge\">\n<title>10&#45;&gt;14</title>\n<path fill=\"none\" stroke=\"#000000\" d=\"M725.8324,-222.8796C732.4587,-211.7735 739.6316,-199.7513 746.3033,-188.5691\"/>\n<polygon fill=\"#000000\" stroke=\"#000000\" points=\"749.4083,-190.1959 751.5264,-179.8149 743.3969,-186.6093 749.4083,-190.1959\"/>\n</g>\n<!-- 12 -->\n<g id=\"node13\" class=\"node\">\n<title>12</title>\n<polygon fill=\"#e68641\" stroke=\"#000000\" points=\"692,-68 568,-68 568,0 692,0 692,-68\"/>\n<text text-anchor=\"middle\" x=\"630\" y=\"-52.8\" font-family=\"Helvetica,sans-Serif\" font-size=\"14.00\" fill=\"#000000\">gini = 0.074</text>\n<text text-anchor=\"middle\" x=\"630\" y=\"-37.8\" font-family=\"Helvetica,sans-Serif\" font-size=\"14.00\" fill=\"#000000\">samples = 938</text>\n<text text-anchor=\"middle\" x=\"630\" y=\"-22.8\" font-family=\"Helvetica,sans-Serif\" font-size=\"14.00\" fill=\"#000000\">value = [902, 36]</text>\n<text text-anchor=\"middle\" x=\"630\" y=\"-7.8\" font-family=\"Helvetica,sans-Serif\" font-size=\"14.00\" fill=\"#000000\">class = yes</text>\n</g>\n<!-- 11&#45;&gt;12 -->\n<g id=\"edge12\" class=\"edge\">\n<title>11&#45;&gt;12</title>\n<path fill=\"none\" stroke=\"#000000\" d=\"M630,-103.9815C630,-95.618 630,-86.7965 630,-78.3409\"/>\n<polygon fill=\"#000000\" stroke=\"#000000\" points=\"633.5001,-78.2636 630,-68.2637 626.5001,-78.2637 633.5001,-78.2636\"/>\n</g>\n<!-- 13 -->\n<g id=\"node14\" class=\"node\">\n<title>13</title>\n<polygon fill=\"#e99456\" stroke=\"#000000\" points=\"842,-68 710,-68 710,0 842,0 842,-68\"/>\n<text text-anchor=\"middle\" x=\"776\" y=\"-52.8\" font-family=\"Helvetica,sans-Serif\" font-size=\"14.00\" fill=\"#000000\">gini = 0.226</text>\n<text text-anchor=\"middle\" x=\"776\" y=\"-37.8\" font-family=\"Helvetica,sans-Serif\" font-size=\"14.00\" fill=\"#000000\">samples = 1096</text>\n<text text-anchor=\"middle\" x=\"776\" y=\"-22.8\" font-family=\"Helvetica,sans-Serif\" font-size=\"14.00\" fill=\"#000000\">value = [954, 142]</text>\n<text text-anchor=\"middle\" x=\"776\" y=\"-7.8\" font-family=\"Helvetica,sans-Serif\" font-size=\"14.00\" fill=\"#000000\">class = yes</text>\n</g>\n<!-- 11&#45;&gt;13 -->\n<g id=\"edge13\" class=\"edge\">\n<title>11&#45;&gt;13</title>\n<path fill=\"none\" stroke=\"#000000\" d=\"M684.365,-103.9815C697.0011,-94.3313 710.4356,-84.0714 723.0115,-74.4673\"/>\n<polygon fill=\"#000000\" stroke=\"#000000\" points=\"725.3114,-77.1148 731.1346,-68.2637 721.0628,-71.5515 725.3114,-77.1148\"/>\n</g>\n<!-- 16 -->\n<g id=\"node17\" class=\"node\">\n<title>16</title>\n<polygon fill=\"#eb9f69\" stroke=\"#000000\" points=\"1102,-306 978,-306 978,-223 1102,-223 1102,-306\"/>\n<text text-anchor=\"middle\" x=\"1040\" y=\"-290.8\" font-family=\"Helvetica,sans-Serif\" font-size=\"14.00\" fill=\"#000000\">pdays &lt;= 107.5</text>\n<text text-anchor=\"middle\" x=\"1040\" y=\"-275.8\" font-family=\"Helvetica,sans-Serif\" font-size=\"14.00\" fill=\"#000000\">gini = 0.313</text>\n<text text-anchor=\"middle\" x=\"1040\" y=\"-260.8\" font-family=\"Helvetica,sans-Serif\" font-size=\"14.00\" fill=\"#000000\">samples = 355</text>\n<text text-anchor=\"middle\" x=\"1040\" y=\"-245.8\" font-family=\"Helvetica,sans-Serif\" font-size=\"14.00\" fill=\"#000000\">value = [286, 69]</text>\n<text text-anchor=\"middle\" x=\"1040\" y=\"-230.8\" font-family=\"Helvetica,sans-Serif\" font-size=\"14.00\" fill=\"#000000\">class = yes</text>\n</g>\n<!-- 15&#45;&gt;16 -->\n<g id=\"edge16\" class=\"edge\">\n<title>15&#45;&gt;16</title>\n<path fill=\"none\" stroke=\"#000000\" d=\"M1087.4681,-341.8796C1082.109,-333.1434 1076.4021,-323.8404 1070.8718,-314.8253\"/>\n<polygon fill=\"#000000\" stroke=\"#000000\" points=\"1073.8533,-312.9919 1065.6408,-306.2981 1067.8865,-316.6522 1073.8533,-312.9919\"/>\n</g>\n<!-- 19 -->\n<g id=\"node20\" class=\"node\">\n<title>19</title>\n<polygon fill=\"#88c4ef\" stroke=\"#000000\" points=\"1252,-306 1120,-306 1120,-223 1252,-223 1252,-306\"/>\n<text text-anchor=\"middle\" x=\"1186\" y=\"-290.8\" font-family=\"Helvetica,sans-Serif\" font-size=\"14.00\" fill=\"#000000\">poutcome &lt;= 0.5</text>\n<text text-anchor=\"middle\" x=\"1186\" y=\"-275.8\" font-family=\"Helvetica,sans-Serif\" font-size=\"14.00\" fill=\"#000000\">gini = 0.408</text>\n<text text-anchor=\"middle\" x=\"1186\" y=\"-260.8\" font-family=\"Helvetica,sans-Serif\" font-size=\"14.00\" fill=\"#000000\">samples = 1139</text>\n<text text-anchor=\"middle\" x=\"1186\" y=\"-245.8\" font-family=\"Helvetica,sans-Serif\" font-size=\"14.00\" fill=\"#000000\">value = [325, 814]</text>\n<text text-anchor=\"middle\" x=\"1186\" y=\"-230.8\" font-family=\"Helvetica,sans-Serif\" font-size=\"14.00\" fill=\"#000000\">class = yes</text>\n</g>\n<!-- 15&#45;&gt;19 -->\n<g id=\"edge19\" class=\"edge\">\n<title>15&#45;&gt;19</title>\n<path fill=\"none\" stroke=\"#000000\" d=\"M1138.5319,-341.8796C1143.891,-333.1434 1149.5979,-323.8404 1155.1282,-314.8253\"/>\n<polygon fill=\"#000000\" stroke=\"#000000\" points=\"1158.1135,-316.6522 1160.3592,-306.2981 1152.1467,-312.9919 1158.1135,-316.6522\"/>\n</g>\n<!-- 17 -->\n<g id=\"node18\" class=\"node\">\n<title>17</title>\n<polygon fill=\"#fcefe6\" stroke=\"#000000\" points=\"960,-179.5 844,-179.5 844,-111.5 960,-111.5 960,-179.5\"/>\n<text text-anchor=\"middle\" x=\"902\" y=\"-164.3\" font-family=\"Helvetica,sans-Serif\" font-size=\"14.00\" fill=\"#000000\">gini = 0.498</text>\n<text text-anchor=\"middle\" x=\"902\" y=\"-149.3\" font-family=\"Helvetica,sans-Serif\" font-size=\"14.00\" fill=\"#000000\">samples = 73</text>\n<text text-anchor=\"middle\" x=\"902\" y=\"-134.3\" font-family=\"Helvetica,sans-Serif\" font-size=\"14.00\" fill=\"#000000\">value = [39, 34]</text>\n<text text-anchor=\"middle\" x=\"902\" y=\"-119.3\" font-family=\"Helvetica,sans-Serif\" font-size=\"14.00\" fill=\"#000000\">class = yes</text>\n</g>\n<!-- 16&#45;&gt;17 -->\n<g id=\"edge17\" class=\"edge\">\n<title>16&#45;&gt;17</title>\n<path fill=\"none\" stroke=\"#000000\" d=\"M991.7343,-222.8796C978.0899,-211.1138 963.2531,-198.3197 949.6454,-186.5855\"/>\n<polygon fill=\"#000000\" stroke=\"#000000\" points=\"951.6527,-183.6948 941.7938,-179.8149 947.0813,-188.9961 951.6527,-183.6948\"/>\n</g>\n<!-- 18 -->\n<g id=\"node19\" class=\"node\">\n<title>18</title>\n<polygon fill=\"#e99355\" stroke=\"#000000\" points=\"1102,-179.5 978,-179.5 978,-111.5 1102,-111.5 1102,-179.5\"/>\n<text text-anchor=\"middle\" x=\"1040\" y=\"-164.3\" font-family=\"Helvetica,sans-Serif\" font-size=\"14.00\" fill=\"#000000\">gini = 0.217</text>\n<text text-anchor=\"middle\" x=\"1040\" y=\"-149.3\" font-family=\"Helvetica,sans-Serif\" font-size=\"14.00\" fill=\"#000000\">samples = 282</text>\n<text text-anchor=\"middle\" x=\"1040\" y=\"-134.3\" font-family=\"Helvetica,sans-Serif\" font-size=\"14.00\" fill=\"#000000\">value = [247, 35]</text>\n<text text-anchor=\"middle\" x=\"1040\" y=\"-119.3\" font-family=\"Helvetica,sans-Serif\" font-size=\"14.00\" fill=\"#000000\">class = yes</text>\n</g>\n<!-- 16&#45;&gt;18 -->\n<g id=\"edge18\" class=\"edge\">\n<title>16&#45;&gt;18</title>\n<path fill=\"none\" stroke=\"#000000\" d=\"M1040,-222.8796C1040,-212.2134 1040,-200.7021 1040,-189.9015\"/>\n<polygon fill=\"#000000\" stroke=\"#000000\" points=\"1043.5001,-189.8149 1040,-179.8149 1036.5001,-189.815 1043.5001,-189.8149\"/>\n</g>\n<!-- 20 -->\n<g id=\"node21\" class=\"node\">\n<title>20</title>\n<polygon fill=\"#f7fbfe\" stroke=\"#000000\" points=\"1252,-187 1120,-187 1120,-104 1252,-104 1252,-187\"/>\n<text text-anchor=\"middle\" x=\"1186\" y=\"-171.8\" font-family=\"Helvetica,sans-Serif\" font-size=\"14.00\" fill=\"#000000\">housing &lt;= 0.5</text>\n<text text-anchor=\"middle\" x=\"1186\" y=\"-156.8\" font-family=\"Helvetica,sans-Serif\" font-size=\"14.00\" fill=\"#000000\">gini = 0.5</text>\n<text text-anchor=\"middle\" x=\"1186\" y=\"-141.8\" font-family=\"Helvetica,sans-Serif\" font-size=\"14.00\" fill=\"#000000\">samples = 443</text>\n<text text-anchor=\"middle\" x=\"1186\" y=\"-126.8\" font-family=\"Helvetica,sans-Serif\" font-size=\"14.00\" fill=\"#000000\">value = [217, 226]</text>\n<text text-anchor=\"middle\" x=\"1186\" y=\"-111.8\" font-family=\"Helvetica,sans-Serif\" font-size=\"14.00\" fill=\"#000000\">class = yes</text>\n</g>\n<!-- 19&#45;&gt;20 -->\n<g id=\"edge20\" class=\"edge\">\n<title>19&#45;&gt;20</title>\n<path fill=\"none\" stroke=\"#000000\" d=\"M1186,-222.8796C1186,-214.6838 1186,-205.9891 1186,-197.5013\"/>\n<polygon fill=\"#000000\" stroke=\"#000000\" points=\"1189.5001,-197.298 1186,-187.2981 1182.5001,-197.2981 1189.5001,-197.298\"/>\n</g>\n<!-- 23 -->\n<g id=\"node24\" class=\"node\">\n<title>23</title>\n<polygon fill=\"#5dafea\" stroke=\"#000000\" points=\"1402,-187 1270,-187 1270,-104 1402,-104 1402,-187\"/>\n<text text-anchor=\"middle\" x=\"1336\" y=\"-171.8\" font-family=\"Helvetica,sans-Serif\" font-size=\"14.00\" fill=\"#000000\">poutcome &lt;= 1.5</text>\n<text text-anchor=\"middle\" x=\"1336\" y=\"-156.8\" font-family=\"Helvetica,sans-Serif\" font-size=\"14.00\" fill=\"#000000\">gini = 0.262</text>\n<text text-anchor=\"middle\" x=\"1336\" y=\"-141.8\" font-family=\"Helvetica,sans-Serif\" font-size=\"14.00\" fill=\"#000000\">samples = 696</text>\n<text text-anchor=\"middle\" x=\"1336\" y=\"-126.8\" font-family=\"Helvetica,sans-Serif\" font-size=\"14.00\" fill=\"#000000\">value = [108, 588]</text>\n<text text-anchor=\"middle\" x=\"1336\" y=\"-111.8\" font-family=\"Helvetica,sans-Serif\" font-size=\"14.00\" fill=\"#000000\">class = yes</text>\n</g>\n<!-- 19&#45;&gt;23 -->\n<g id=\"edge23\" class=\"edge\">\n<title>19&#45;&gt;23</title>\n<path fill=\"none\" stroke=\"#000000\" d=\"M1238.4627,-222.8796C1250.4521,-213.368 1263.2887,-203.1843 1275.5816,-193.432\"/>\n<polygon fill=\"#000000\" stroke=\"#000000\" points=\"1277.9081,-196.054 1283.5669,-187.0969 1273.5575,-190.5701 1277.9081,-196.054\"/>\n</g>\n<!-- 21 -->\n<g id=\"node22\" class=\"node\">\n<title>21</title>\n<polygon fill=\"#8dc6f0\" stroke=\"#000000\" points=\"1106,-68 982,-68 982,0 1106,0 1106,-68\"/>\n<text text-anchor=\"middle\" x=\"1044\" y=\"-52.8\" font-family=\"Helvetica,sans-Serif\" font-size=\"14.00\" fill=\"#000000\">gini = 0.418</text>\n<text text-anchor=\"middle\" x=\"1044\" y=\"-37.8\" font-family=\"Helvetica,sans-Serif\" font-size=\"14.00\" fill=\"#000000\">samples = 212</text>\n<text text-anchor=\"middle\" x=\"1044\" y=\"-22.8\" font-family=\"Helvetica,sans-Serif\" font-size=\"14.00\" fill=\"#000000\">value = [63, 149]</text>\n<text text-anchor=\"middle\" x=\"1044\" y=\"-7.8\" font-family=\"Helvetica,sans-Serif\" font-size=\"14.00\" fill=\"#000000\">class = yes</text>\n</g>\n<!-- 20&#45;&gt;21 -->\n<g id=\"edge21\" class=\"edge\">\n<title>20&#45;&gt;21</title>\n<path fill=\"none\" stroke=\"#000000\" d=\"M1133.1244,-103.9815C1120.8345,-94.3313 1107.7681,-84.0714 1095.5368,-74.4673\"/>\n<polygon fill=\"#000000\" stroke=\"#000000\" points=\"1097.6629,-71.6867 1087.6362,-68.2637 1093.3398,-77.1923 1097.6629,-71.6867\"/>\n</g>\n<!-- 22 -->\n<g id=\"node23\" class=\"node\">\n<title>22</title>\n<polygon fill=\"#f2c09c\" stroke=\"#000000\" points=\"1248,-68 1124,-68 1124,0 1248,0 1248,-68\"/>\n<text text-anchor=\"middle\" x=\"1186\" y=\"-52.8\" font-family=\"Helvetica,sans-Serif\" font-size=\"14.00\" fill=\"#000000\">gini = 0.444</text>\n<text text-anchor=\"middle\" x=\"1186\" y=\"-37.8\" font-family=\"Helvetica,sans-Serif\" font-size=\"14.00\" fill=\"#000000\">samples = 231</text>\n<text text-anchor=\"middle\" x=\"1186\" y=\"-22.8\" font-family=\"Helvetica,sans-Serif\" font-size=\"14.00\" fill=\"#000000\">value = [154, 77]</text>\n<text text-anchor=\"middle\" x=\"1186\" y=\"-7.8\" font-family=\"Helvetica,sans-Serif\" font-size=\"14.00\" fill=\"#000000\">class = yes</text>\n</g>\n<!-- 20&#45;&gt;22 -->\n<g id=\"edge22\" class=\"edge\">\n<title>20&#45;&gt;22</title>\n<path fill=\"none\" stroke=\"#000000\" d=\"M1186,-103.9815C1186,-95.618 1186,-86.7965 1186,-78.3409\"/>\n<polygon fill=\"#000000\" stroke=\"#000000\" points=\"1189.5001,-78.2636 1186,-68.2637 1182.5001,-78.2637 1189.5001,-78.2636\"/>\n</g>\n<!-- 24 -->\n<g id=\"node25\" class=\"node\">\n<title>24</title>\n<polygon fill=\"#4aa6e7\" stroke=\"#000000\" points=\"1390,-68 1266,-68 1266,0 1390,0 1390,-68\"/>\n<text text-anchor=\"middle\" x=\"1328\" y=\"-52.8\" font-family=\"Helvetica,sans-Serif\" font-size=\"14.00\" fill=\"#000000\">gini = 0.147</text>\n<text text-anchor=\"middle\" x=\"1328\" y=\"-37.8\" font-family=\"Helvetica,sans-Serif\" font-size=\"14.00\" fill=\"#000000\">samples = 524</text>\n<text text-anchor=\"middle\" x=\"1328\" y=\"-22.8\" font-family=\"Helvetica,sans-Serif\" font-size=\"14.00\" fill=\"#000000\">value = [42, 482]</text>\n<text text-anchor=\"middle\" x=\"1328\" y=\"-7.8\" font-family=\"Helvetica,sans-Serif\" font-size=\"14.00\" fill=\"#000000\">class = yes</text>\n</g>\n<!-- 23&#45;&gt;24 -->\n<g id=\"edge24\" class=\"edge\">\n<title>23&#45;&gt;24</title>\n<path fill=\"none\" stroke=\"#000000\" d=\"M1333.0211,-103.9815C1332.421,-95.618 1331.7881,-86.7965 1331.1814,-78.3409\"/>\n<polygon fill=\"#000000\" stroke=\"#000000\" points=\"1334.6651,-77.9875 1330.4584,-68.2637 1327.6831,-78.4885 1334.6651,-77.9875\"/>\n</g>\n<!-- 25 -->\n<g id=\"node26\" class=\"node\">\n<title>25</title>\n<polygon fill=\"#b4daf5\" stroke=\"#000000\" points=\"1532,-68 1408,-68 1408,0 1532,0 1532,-68\"/>\n<text text-anchor=\"middle\" x=\"1470\" y=\"-52.8\" font-family=\"Helvetica,sans-Serif\" font-size=\"14.00\" fill=\"#000000\">gini = 0.473</text>\n<text text-anchor=\"middle\" x=\"1470\" y=\"-37.8\" font-family=\"Helvetica,sans-Serif\" font-size=\"14.00\" fill=\"#000000\">samples = 172</text>\n<text text-anchor=\"middle\" x=\"1470\" y=\"-22.8\" font-family=\"Helvetica,sans-Serif\" font-size=\"14.00\" fill=\"#000000\">value = [66, 106]</text>\n<text text-anchor=\"middle\" x=\"1470\" y=\"-7.8\" font-family=\"Helvetica,sans-Serif\" font-size=\"14.00\" fill=\"#000000\">class = yes</text>\n</g>\n<!-- 23&#45;&gt;25 -->\n<g id=\"edge25\" class=\"edge\">\n<title>23&#45;&gt;25</title>\n<path fill=\"none\" stroke=\"#000000\" d=\"M1385.8967,-103.9815C1397.3838,-94.4232 1409.5897,-84.2668 1421.0367,-74.7419\"/>\n<polygon fill=\"#000000\" stroke=\"#000000\" points=\"1423.3739,-77.3503 1428.8221,-68.2637 1418.8965,-71.9695 1423.3739,-77.3503\"/>\n</g>\n<!-- 27 -->\n<g id=\"node28\" class=\"node\">\n<title>27</title>\n<polygon fill=\"#96cbf1\" stroke=\"#000000\" points=\"1934,-425 1794,-425 1794,-342 1934,-342 1934,-425\"/>\n<text text-anchor=\"middle\" x=\"1864\" y=\"-409.8\" font-family=\"Helvetica,sans-Serif\" font-size=\"14.00\" fill=\"#000000\">housing &lt;= 0.5</text>\n<text text-anchor=\"middle\" x=\"1864\" y=\"-394.8\" font-family=\"Helvetica,sans-Serif\" font-size=\"14.00\" fill=\"#000000\">gini = 0.435</text>\n<text text-anchor=\"middle\" x=\"1864\" y=\"-379.8\" font-family=\"Helvetica,sans-Serif\" font-size=\"14.00\" fill=\"#000000\">samples = 1622</text>\n<text text-anchor=\"middle\" x=\"1864\" y=\"-364.8\" font-family=\"Helvetica,sans-Serif\" font-size=\"14.00\" fill=\"#000000\">value = [519, 1103]</text>\n<text text-anchor=\"middle\" x=\"1864\" y=\"-349.8\" font-family=\"Helvetica,sans-Serif\" font-size=\"14.00\" fill=\"#000000\">class = yes</text>\n</g>\n<!-- 26&#45;&gt;27 -->\n<g id=\"edge27\" class=\"edge\">\n<title>26&#45;&gt;27</title>\n<path fill=\"none\" stroke=\"#000000\" d=\"M1864,-460.8796C1864,-452.6838 1864,-443.9891 1864,-435.5013\"/>\n<polygon fill=\"#000000\" stroke=\"#000000\" points=\"1867.5001,-435.298 1864,-425.2981 1860.5001,-435.2981 1867.5001,-435.298\"/>\n</g>\n<!-- 40 -->\n<g id=\"node41\" class=\"node\">\n<title>40</title>\n<polygon fill=\"#56abe9\" stroke=\"#000000\" points=\"2571,-425 2431,-425 2431,-342 2571,-342 2571,-425\"/>\n<text text-anchor=\"middle\" x=\"2501\" y=\"-409.8\" font-family=\"Helvetica,sans-Serif\" font-size=\"14.00\" fill=\"#000000\">duration &lt;= 794.5</text>\n<text text-anchor=\"middle\" x=\"2501\" y=\"-394.8\" font-family=\"Helvetica,sans-Serif\" font-size=\"14.00\" fill=\"#000000\">gini = 0.221</text>\n<text text-anchor=\"middle\" x=\"2501\" y=\"-379.8\" font-family=\"Helvetica,sans-Serif\" font-size=\"14.00\" fill=\"#000000\">samples = 1525</text>\n<text text-anchor=\"middle\" x=\"2501\" y=\"-364.8\" font-family=\"Helvetica,sans-Serif\" font-size=\"14.00\" fill=\"#000000\">value = [193, 1332]</text>\n<text text-anchor=\"middle\" x=\"2501\" y=\"-349.8\" font-family=\"Helvetica,sans-Serif\" font-size=\"14.00\" fill=\"#000000\">class = yes</text>\n</g>\n<!-- 26&#45;&gt;40 -->\n<g id=\"edge40\" class=\"edge\">\n<title>26&#45;&gt;40</title>\n<path fill=\"none\" stroke=\"#000000\" d=\"M1934.2979,-489.3674C2053.6943,-467.0626 2295.3521,-421.9177 2421.0214,-398.4411\"/>\n<polygon fill=\"#000000\" stroke=\"#000000\" points=\"2421.7841,-401.8592 2430.9713,-396.5823 2420.4986,-394.9782 2421.7841,-401.8592\"/>\n</g>\n<!-- 28 -->\n<g id=\"node29\" class=\"node\">\n<title>28</title>\n<polygon fill=\"#74baed\" stroke=\"#000000\" points=\"1824,-306 1692,-306 1692,-223 1824,-223 1824,-306\"/>\n<text text-anchor=\"middle\" x=\"1758\" y=\"-290.8\" font-family=\"Helvetica,sans-Serif\" font-size=\"14.00\" fill=\"#000000\">poutcome &lt;= 1.5</text>\n<text text-anchor=\"middle\" x=\"1758\" y=\"-275.8\" font-family=\"Helvetica,sans-Serif\" font-size=\"14.00\" fill=\"#000000\">gini = 0.353</text>\n<text text-anchor=\"middle\" x=\"1758\" y=\"-260.8\" font-family=\"Helvetica,sans-Serif\" font-size=\"14.00\" fill=\"#000000\">samples = 912</text>\n<text text-anchor=\"middle\" x=\"1758\" y=\"-245.8\" font-family=\"Helvetica,sans-Serif\" font-size=\"14.00\" fill=\"#000000\">value = [209, 703]</text>\n<text text-anchor=\"middle\" x=\"1758\" y=\"-230.8\" font-family=\"Helvetica,sans-Serif\" font-size=\"14.00\" fill=\"#000000\">class = yes</text>\n</g>\n<!-- 27&#45;&gt;28 -->\n<g id=\"edge28\" class=\"edge\">\n<title>27&#45;&gt;28</title>\n<path fill=\"none\" stroke=\"#000000\" d=\"M1826.9263,-341.8796C1818.9039,-332.8733 1810.3448,-323.2644 1802.0833,-313.9897\"/>\n<polygon fill=\"#000000\" stroke=\"#000000\" points=\"1804.4969,-311.4373 1795.2319,-306.2981 1799.2698,-316.0933 1804.4969,-311.4373\"/>\n</g>\n<!-- 33 -->\n<g id=\"node34\" class=\"node\">\n<title>33</title>\n<polygon fill=\"#d2e9f9\" stroke=\"#000000\" points=\"2037,-306 1905,-306 1905,-223 2037,-223 2037,-306\"/>\n<text text-anchor=\"middle\" x=\"1971\" y=\"-290.8\" font-family=\"Helvetica,sans-Serif\" font-size=\"14.00\" fill=\"#000000\">duration &lt;= 475.5</text>\n<text text-anchor=\"middle\" x=\"1971\" y=\"-275.8\" font-family=\"Helvetica,sans-Serif\" font-size=\"14.00\" fill=\"#000000\">gini = 0.492</text>\n<text text-anchor=\"middle\" x=\"1971\" y=\"-260.8\" font-family=\"Helvetica,sans-Serif\" font-size=\"14.00\" fill=\"#000000\">samples = 710</text>\n<text text-anchor=\"middle\" x=\"1971\" y=\"-245.8\" font-family=\"Helvetica,sans-Serif\" font-size=\"14.00\" fill=\"#000000\">value = [310, 400]</text>\n<text text-anchor=\"middle\" x=\"1971\" y=\"-230.8\" font-family=\"Helvetica,sans-Serif\" font-size=\"14.00\" fill=\"#000000\">class = yes</text>\n</g>\n<!-- 27&#45;&gt;33 -->\n<g id=\"edge33\" class=\"edge\">\n<title>27&#45;&gt;33</title>\n<path fill=\"none\" stroke=\"#000000\" d=\"M1901.4234,-341.8796C1909.5215,-332.8733 1918.1614,-323.2644 1926.5009,-313.9897\"/>\n<polygon fill=\"#000000\" stroke=\"#000000\" points=\"1929.3333,-316.0743 1933.4169,-306.2981 1924.128,-311.394 1929.3333,-316.0743\"/>\n</g>\n<!-- 29 -->\n<g id=\"node30\" class=\"node\">\n<title>29</title>\n<polygon fill=\"#49a5e7\" stroke=\"#000000\" points=\"1674,-179.5 1550,-179.5 1550,-111.5 1674,-111.5 1674,-179.5\"/>\n<text text-anchor=\"middle\" x=\"1612\" y=\"-164.3\" font-family=\"Helvetica,sans-Serif\" font-size=\"14.00\" fill=\"#000000\">gini = 0.137</text>\n<text text-anchor=\"middle\" x=\"1612\" y=\"-149.3\" font-family=\"Helvetica,sans-Serif\" font-size=\"14.00\" fill=\"#000000\">samples = 230</text>\n<text text-anchor=\"middle\" x=\"1612\" y=\"-134.3\" font-family=\"Helvetica,sans-Serif\" font-size=\"14.00\" fill=\"#000000\">value = [17, 213]</text>\n<text text-anchor=\"middle\" x=\"1612\" y=\"-119.3\" font-family=\"Helvetica,sans-Serif\" font-size=\"14.00\" fill=\"#000000\">class = yes</text>\n</g>\n<!-- 28&#45;&gt;29 -->\n<g id=\"edge29\" class=\"edge\">\n<title>28&#45;&gt;29</title>\n<path fill=\"none\" stroke=\"#000000\" d=\"M1706.9363,-222.8796C1692.366,-211.0038 1676.5104,-198.0804 1662.0042,-186.2568\"/>\n<polygon fill=\"#000000\" stroke=\"#000000\" points=\"1664.0634,-183.4199 1654.1007,-179.8149 1659.6408,-188.8459 1664.0634,-183.4199\"/>\n</g>\n<!-- 30 -->\n<g id=\"node31\" class=\"node\">\n<title>30</title>\n<polygon fill=\"#87c3ef\" stroke=\"#000000\" points=\"1824,-187 1692,-187 1692,-104 1824,-104 1824,-187\"/>\n<text text-anchor=\"middle\" x=\"1758\" y=\"-171.8\" font-family=\"Helvetica,sans-Serif\" font-size=\"14.00\" fill=\"#000000\">balance &lt;= 211.0</text>\n<text text-anchor=\"middle\" x=\"1758\" y=\"-156.8\" font-family=\"Helvetica,sans-Serif\" font-size=\"14.00\" fill=\"#000000\">gini = 0.405</text>\n<text text-anchor=\"middle\" x=\"1758\" y=\"-141.8\" font-family=\"Helvetica,sans-Serif\" font-size=\"14.00\" fill=\"#000000\">samples = 682</text>\n<text text-anchor=\"middle\" x=\"1758\" y=\"-126.8\" font-family=\"Helvetica,sans-Serif\" font-size=\"14.00\" fill=\"#000000\">value = [192, 490]</text>\n<text text-anchor=\"middle\" x=\"1758\" y=\"-111.8\" font-family=\"Helvetica,sans-Serif\" font-size=\"14.00\" fill=\"#000000\">class = yes</text>\n</g>\n<!-- 28&#45;&gt;30 -->\n<g id=\"edge30\" class=\"edge\">\n<title>28&#45;&gt;30</title>\n<path fill=\"none\" stroke=\"#000000\" d=\"M1758,-222.8796C1758,-214.6838 1758,-205.9891 1758,-197.5013\"/>\n<polygon fill=\"#000000\" stroke=\"#000000\" points=\"1761.5001,-197.298 1758,-187.2981 1754.5001,-197.2981 1761.5001,-197.298\"/>\n</g>\n<!-- 31 -->\n<g id=\"node32\" class=\"node\">\n<title>31</title>\n<polygon fill=\"#aad5f4\" stroke=\"#000000\" points=\"1674,-68 1550,-68 1550,0 1674,0 1674,-68\"/>\n<text text-anchor=\"middle\" x=\"1612\" y=\"-52.8\" font-family=\"Helvetica,sans-Serif\" font-size=\"14.00\" fill=\"#000000\">gini = 0.463</text>\n<text text-anchor=\"middle\" x=\"1612\" y=\"-37.8\" font-family=\"Helvetica,sans-Serif\" font-size=\"14.00\" fill=\"#000000\">samples = 201</text>\n<text text-anchor=\"middle\" x=\"1612\" y=\"-22.8\" font-family=\"Helvetica,sans-Serif\" font-size=\"14.00\" fill=\"#000000\">value = [73, 128]</text>\n<text text-anchor=\"middle\" x=\"1612\" y=\"-7.8\" font-family=\"Helvetica,sans-Serif\" font-size=\"14.00\" fill=\"#000000\">class = yes</text>\n</g>\n<!-- 30&#45;&gt;31 -->\n<g id=\"edge31\" class=\"edge\">\n<title>30&#45;&gt;31</title>\n<path fill=\"none\" stroke=\"#000000\" d=\"M1703.635,-103.9815C1690.9989,-94.3313 1677.5644,-84.0714 1664.9885,-74.4673\"/>\n<polygon fill=\"#000000\" stroke=\"#000000\" points=\"1666.9372,-71.5515 1656.8654,-68.2637 1662.6886,-77.1148 1666.9372,-71.5515\"/>\n</g>\n<!-- 32 -->\n<g id=\"node33\" class=\"node\">\n<title>32</title>\n<polygon fill=\"#7abdee\" stroke=\"#000000\" points=\"1824,-68 1692,-68 1692,0 1824,0 1824,-68\"/>\n<text text-anchor=\"middle\" x=\"1758\" y=\"-52.8\" font-family=\"Helvetica,sans-Serif\" font-size=\"14.00\" fill=\"#000000\">gini = 0.372</text>\n<text text-anchor=\"middle\" x=\"1758\" y=\"-37.8\" font-family=\"Helvetica,sans-Serif\" font-size=\"14.00\" fill=\"#000000\">samples = 481</text>\n<text text-anchor=\"middle\" x=\"1758\" y=\"-22.8\" font-family=\"Helvetica,sans-Serif\" font-size=\"14.00\" fill=\"#000000\">value = [119, 362]</text>\n<text text-anchor=\"middle\" x=\"1758\" y=\"-7.8\" font-family=\"Helvetica,sans-Serif\" font-size=\"14.00\" fill=\"#000000\">class = yes</text>\n</g>\n<!-- 30&#45;&gt;32 -->\n<g id=\"edge32\" class=\"edge\">\n<title>30&#45;&gt;32</title>\n<path fill=\"none\" stroke=\"#000000\" d=\"M1758,-103.9815C1758,-95.618 1758,-86.7965 1758,-78.3409\"/>\n<polygon fill=\"#000000\" stroke=\"#000000\" points=\"1761.5001,-78.2636 1758,-68.2637 1754.5001,-78.2637 1761.5001,-78.2636\"/>\n</g>\n<!-- 34 -->\n<g id=\"node35\" class=\"node\">\n<title>34</title>\n<polygon fill=\"#fae6d7\" stroke=\"#000000\" points=\"2037,-187 1905,-187 1905,-104 2037,-104 2037,-187\"/>\n<text text-anchor=\"middle\" x=\"1971\" y=\"-171.8\" font-family=\"Helvetica,sans-Serif\" font-size=\"14.00\" fill=\"#000000\">poutcome &lt;= 1.5</text>\n<text text-anchor=\"middle\" x=\"1971\" y=\"-156.8\" font-family=\"Helvetica,sans-Serif\" font-size=\"14.00\" fill=\"#000000\">gini = 0.494</text>\n<text text-anchor=\"middle\" x=\"1971\" y=\"-141.8\" font-family=\"Helvetica,sans-Serif\" font-size=\"14.00\" fill=\"#000000\">samples = 329</text>\n<text text-anchor=\"middle\" x=\"1971\" y=\"-126.8\" font-family=\"Helvetica,sans-Serif\" font-size=\"14.00\" fill=\"#000000\">value = [183, 146]</text>\n<text text-anchor=\"middle\" x=\"1971\" y=\"-111.8\" font-family=\"Helvetica,sans-Serif\" font-size=\"14.00\" fill=\"#000000\">class = yes</text>\n</g>\n<!-- 33&#45;&gt;34 -->\n<g id=\"edge34\" class=\"edge\">\n<title>33&#45;&gt;34</title>\n<path fill=\"none\" stroke=\"#000000\" d=\"M1971,-222.8796C1971,-214.6838 1971,-205.9891 1971,-197.5013\"/>\n<polygon fill=\"#000000\" stroke=\"#000000\" points=\"1974.5001,-197.298 1971,-187.2981 1967.5001,-197.2981 1974.5001,-197.298\"/>\n</g>\n<!-- 37 -->\n<g id=\"node38\" class=\"node\">\n<title>37</title>\n<polygon fill=\"#9ccef2\" stroke=\"#000000\" points=\"2250,-187 2118,-187 2118,-104 2250,-104 2250,-187\"/>\n<text text-anchor=\"middle\" x=\"2184\" y=\"-171.8\" font-family=\"Helvetica,sans-Serif\" font-size=\"14.00\" fill=\"#000000\">previous &lt;= 3.5</text>\n<text text-anchor=\"middle\" x=\"2184\" y=\"-156.8\" font-family=\"Helvetica,sans-Serif\" font-size=\"14.00\" fill=\"#000000\">gini = 0.444</text>\n<text text-anchor=\"middle\" x=\"2184\" y=\"-141.8\" font-family=\"Helvetica,sans-Serif\" font-size=\"14.00\" fill=\"#000000\">samples = 381</text>\n<text text-anchor=\"middle\" x=\"2184\" y=\"-126.8\" font-family=\"Helvetica,sans-Serif\" font-size=\"14.00\" fill=\"#000000\">value = [127, 254]</text>\n<text text-anchor=\"middle\" x=\"2184\" y=\"-111.8\" font-family=\"Helvetica,sans-Serif\" font-size=\"14.00\" fill=\"#000000\">class = yes</text>\n</g>\n<!-- 33&#45;&gt;37 -->\n<g id=\"edge37\" class=\"edge\">\n<title>33&#45;&gt;37</title>\n<path fill=\"none\" stroke=\"#000000\" d=\"M2037.227,-227.5C2059.9675,-214.7952 2085.5809,-200.4853 2108.9696,-187.4184\"/>\n<polygon fill=\"#000000\" stroke=\"#000000\" points=\"2110.7911,-190.41 2117.814,-182.4772 2107.377,-184.299 2110.7911,-190.41\"/>\n</g>\n<!-- 35 -->\n<g id=\"node36\" class=\"node\">\n<title>35</title>\n<polygon fill=\"#96cbf1\" stroke=\"#000000\" points=\"1958,-68 1842,-68 1842,0 1958,0 1958,-68\"/>\n<text text-anchor=\"middle\" x=\"1900\" y=\"-52.8\" font-family=\"Helvetica,sans-Serif\" font-size=\"14.00\" fill=\"#000000\">gini = 0.435</text>\n<text text-anchor=\"middle\" x=\"1900\" y=\"-37.8\" font-family=\"Helvetica,sans-Serif\" font-size=\"14.00\" fill=\"#000000\">samples = 75</text>\n<text text-anchor=\"middle\" x=\"1900\" y=\"-22.8\" font-family=\"Helvetica,sans-Serif\" font-size=\"14.00\" fill=\"#000000\">value = [24, 51]</text>\n<text text-anchor=\"middle\" x=\"1900\" y=\"-7.8\" font-family=\"Helvetica,sans-Serif\" font-size=\"14.00\" fill=\"#000000\">class = yes</text>\n</g>\n<!-- 34&#45;&gt;35 -->\n<g id=\"edge35\" class=\"edge\">\n<title>34&#45;&gt;35</title>\n<path fill=\"none\" stroke=\"#000000\" d=\"M1944.5622,-103.9815C1938.944,-95.1585 1933.0012,-85.8258 1927.3497,-76.9506\"/>\n<polygon fill=\"#000000\" stroke=\"#000000\" points=\"1930.1416,-74.8188 1921.8181,-68.2637 1924.2371,-78.5787 1930.1416,-74.8188\"/>\n</g>\n<!-- 36 -->\n<g id=\"node37\" class=\"node\">\n<title>36</title>\n<polygon fill=\"#f5ccaf\" stroke=\"#000000\" points=\"2100,-68 1976,-68 1976,0 2100,0 2100,-68\"/>\n<text text-anchor=\"middle\" x=\"2038\" y=\"-52.8\" font-family=\"Helvetica,sans-Serif\" font-size=\"14.00\" fill=\"#000000\">gini = 0.468</text>\n<text text-anchor=\"middle\" x=\"2038\" y=\"-37.8\" font-family=\"Helvetica,sans-Serif\" font-size=\"14.00\" fill=\"#000000\">samples = 254</text>\n<text text-anchor=\"middle\" x=\"2038\" y=\"-22.8\" font-family=\"Helvetica,sans-Serif\" font-size=\"14.00\" fill=\"#000000\">value = [159, 95]</text>\n<text text-anchor=\"middle\" x=\"2038\" y=\"-7.8\" font-family=\"Helvetica,sans-Serif\" font-size=\"14.00\" fill=\"#000000\">class = yes</text>\n</g>\n<!-- 34&#45;&gt;36 -->\n<g id=\"edge36\" class=\"edge\">\n<title>34&#45;&gt;36</title>\n<path fill=\"none\" stroke=\"#000000\" d=\"M1995.9483,-103.9815C2001.2501,-95.1585 2006.8581,-85.8258 2012.1911,-76.9506\"/>\n<polygon fill=\"#000000\" stroke=\"#000000\" points=\"2015.2605,-78.638 2017.4111,-68.2637 2009.2604,-75.0325 2015.2605,-78.638\"/>\n</g>\n<!-- 38 -->\n<g id=\"node39\" class=\"node\">\n<title>38</title>\n<polygon fill=\"#a5d2f3\" stroke=\"#000000\" points=\"2250,-68 2118,-68 2118,0 2250,0 2250,-68\"/>\n<text text-anchor=\"middle\" x=\"2184\" y=\"-52.8\" font-family=\"Helvetica,sans-Serif\" font-size=\"14.00\" fill=\"#000000\">gini = 0.456</text>\n<text text-anchor=\"middle\" x=\"2184\" y=\"-37.8\" font-family=\"Helvetica,sans-Serif\" font-size=\"14.00\" fill=\"#000000\">samples = 352</text>\n<text text-anchor=\"middle\" x=\"2184\" y=\"-22.8\" font-family=\"Helvetica,sans-Serif\" font-size=\"14.00\" fill=\"#000000\">value = [124, 228]</text>\n<text text-anchor=\"middle\" x=\"2184\" y=\"-7.8\" font-family=\"Helvetica,sans-Serif\" font-size=\"14.00\" fill=\"#000000\">class = yes</text>\n</g>\n<!-- 37&#45;&gt;38 -->\n<g id=\"edge38\" class=\"edge\">\n<title>37&#45;&gt;38</title>\n<path fill=\"none\" stroke=\"#000000\" d=\"M2184,-103.9815C2184,-95.618 2184,-86.7965 2184,-78.3409\"/>\n<polygon fill=\"#000000\" stroke=\"#000000\" points=\"2187.5001,-78.2636 2184,-68.2637 2180.5001,-78.2637 2187.5001,-78.2636\"/>\n</g>\n<!-- 39 -->\n<g id=\"node40\" class=\"node\">\n<title>39</title>\n<polygon fill=\"#50a8e8\" stroke=\"#000000\" points=\"2375.5,-68 2268.5,-68 2268.5,0 2375.5,0 2375.5,-68\"/>\n<text text-anchor=\"middle\" x=\"2322\" y=\"-52.8\" font-family=\"Helvetica,sans-Serif\" font-size=\"14.00\" fill=\"#000000\">gini = 0.185</text>\n<text text-anchor=\"middle\" x=\"2322\" y=\"-37.8\" font-family=\"Helvetica,sans-Serif\" font-size=\"14.00\" fill=\"#000000\">samples = 29</text>\n<text text-anchor=\"middle\" x=\"2322\" y=\"-22.8\" font-family=\"Helvetica,sans-Serif\" font-size=\"14.00\" fill=\"#000000\">value = [3, 26]</text>\n<text text-anchor=\"middle\" x=\"2322\" y=\"-7.8\" font-family=\"Helvetica,sans-Serif\" font-size=\"14.00\" fill=\"#000000\">class = yes</text>\n</g>\n<!-- 37&#45;&gt;39 -->\n<g id=\"edge39\" class=\"edge\">\n<title>37&#45;&gt;39</title>\n<path fill=\"none\" stroke=\"#000000\" d=\"M2235.3861,-103.9815C2247.2161,-94.4232 2259.7864,-84.2668 2271.5751,-74.7419\"/>\n<polygon fill=\"#000000\" stroke=\"#000000\" points=\"2274.0142,-77.2708 2279.5929,-68.2637 2269.6149,-71.826 2274.0142,-77.2708\"/>\n</g>\n<!-- 41 -->\n<g id=\"node42\" class=\"node\">\n<title>41</title>\n<polygon fill=\"#61b1ea\" stroke=\"#000000\" points=\"2566,-306 2436,-306 2436,-223 2566,-223 2566,-306\"/>\n<text text-anchor=\"middle\" x=\"2501\" y=\"-290.8\" font-family=\"Helvetica,sans-Serif\" font-size=\"14.00\" fill=\"#000000\">duration &lt;= 787.5</text>\n<text text-anchor=\"middle\" x=\"2501\" y=\"-275.8\" font-family=\"Helvetica,sans-Serif\" font-size=\"14.00\" fill=\"#000000\">gini = 0.281</text>\n<text text-anchor=\"middle\" x=\"2501\" y=\"-260.8\" font-family=\"Helvetica,sans-Serif\" font-size=\"14.00\" fill=\"#000000\">samples = 515</text>\n<text text-anchor=\"middle\" x=\"2501\" y=\"-245.8\" font-family=\"Helvetica,sans-Serif\" font-size=\"14.00\" fill=\"#000000\">value = [87, 428]</text>\n<text text-anchor=\"middle\" x=\"2501\" y=\"-230.8\" font-family=\"Helvetica,sans-Serif\" font-size=\"14.00\" fill=\"#000000\">class = yes</text>\n</g>\n<!-- 40&#45;&gt;41 -->\n<g id=\"edge41\" class=\"edge\">\n<title>40&#45;&gt;41</title>\n<path fill=\"none\" stroke=\"#000000\" d=\"M2501,-341.8796C2501,-333.6838 2501,-324.9891 2501,-316.5013\"/>\n<polygon fill=\"#000000\" stroke=\"#000000\" points=\"2504.5001,-316.298 2501,-306.2981 2497.5001,-316.2981 2504.5001,-316.298\"/>\n</g>\n<!-- 46 -->\n<g id=\"node47\" class=\"node\">\n<title>46</title>\n<polygon fill=\"#50a8e8\" stroke=\"#000000\" points=\"2788,-306 2642,-306 2642,-223 2788,-223 2788,-306\"/>\n<text text-anchor=\"middle\" x=\"2715\" y=\"-290.8\" font-family=\"Helvetica,sans-Serif\" font-size=\"14.00\" fill=\"#000000\">balance &lt;= 19718.0</text>\n<text text-anchor=\"middle\" x=\"2715\" y=\"-275.8\" font-family=\"Helvetica,sans-Serif\" font-size=\"14.00\" fill=\"#000000\">gini = 0.188</text>\n<text text-anchor=\"middle\" x=\"2715\" y=\"-260.8\" font-family=\"Helvetica,sans-Serif\" font-size=\"14.00\" fill=\"#000000\">samples = 1010</text>\n<text text-anchor=\"middle\" x=\"2715\" y=\"-245.8\" font-family=\"Helvetica,sans-Serif\" font-size=\"14.00\" fill=\"#000000\">value = [106, 904]</text>\n<text text-anchor=\"middle\" x=\"2715\" y=\"-230.8\" font-family=\"Helvetica,sans-Serif\" font-size=\"14.00\" fill=\"#000000\">class = yes</text>\n</g>\n<!-- 40&#45;&gt;46 -->\n<g id=\"edge46\" class=\"edge\">\n<title>40&#45;&gt;46</title>\n<path fill=\"none\" stroke=\"#000000\" d=\"M2571.0716,-344.5349C2590.8218,-333.5523 2612.4853,-321.5058 2632.8733,-310.1686\"/>\n<polygon fill=\"#000000\" stroke=\"#000000\" points=\"2634.7917,-313.1066 2641.8304,-305.1878 2631.3897,-306.9888 2634.7917,-313.1066\"/>\n</g>\n<!-- 42 -->\n<g id=\"node43\" class=\"node\">\n<title>42</title>\n<polygon fill=\"#5eafea\" stroke=\"#000000\" points=\"2505,-187 2381,-187 2381,-104 2505,-104 2505,-187\"/>\n<text text-anchor=\"middle\" x=\"2443\" y=\"-171.8\" font-family=\"Helvetica,sans-Serif\" font-size=\"14.00\" fill=\"#000000\">day &lt;= 1.5</text>\n<text text-anchor=\"middle\" x=\"2443\" y=\"-156.8\" font-family=\"Helvetica,sans-Serif\" font-size=\"14.00\" fill=\"#000000\">gini = 0.265</text>\n<text text-anchor=\"middle\" x=\"2443\" y=\"-141.8\" font-family=\"Helvetica,sans-Serif\" font-size=\"14.00\" fill=\"#000000\">samples = 495</text>\n<text text-anchor=\"middle\" x=\"2443\" y=\"-126.8\" font-family=\"Helvetica,sans-Serif\" font-size=\"14.00\" fill=\"#000000\">value = [78, 417]</text>\n<text text-anchor=\"middle\" x=\"2443\" y=\"-111.8\" font-family=\"Helvetica,sans-Serif\" font-size=\"14.00\" fill=\"#000000\">class = yes</text>\n</g>\n<!-- 41&#45;&gt;42 -->\n<g id=\"edge42\" class=\"edge\">\n<title>41&#45;&gt;42</title>\n<path fill=\"none\" stroke=\"#000000\" d=\"M2480.7144,-222.8796C2476.5443,-214.3236 2472.1091,-205.2238 2467.8003,-196.3833\"/>\n<polygon fill=\"#000000\" stroke=\"#000000\" points=\"2470.8997,-194.7538 2463.3722,-187.2981 2464.6073,-197.8207 2470.8997,-194.7538\"/>\n</g>\n<!-- 45 -->\n<g id=\"node46\" class=\"node\">\n<title>45</title>\n<polygon fill=\"#dbedfa\" stroke=\"#000000\" points=\"2630.5,-179.5 2523.5,-179.5 2523.5,-111.5 2630.5,-111.5 2630.5,-179.5\"/>\n<text text-anchor=\"middle\" x=\"2577\" y=\"-164.3\" font-family=\"Helvetica,sans-Serif\" font-size=\"14.00\" fill=\"#000000\">gini = 0.495</text>\n<text text-anchor=\"middle\" x=\"2577\" y=\"-149.3\" font-family=\"Helvetica,sans-Serif\" font-size=\"14.00\" fill=\"#000000\">samples = 20</text>\n<text text-anchor=\"middle\" x=\"2577\" y=\"-134.3\" font-family=\"Helvetica,sans-Serif\" font-size=\"14.00\" fill=\"#000000\">value = [9, 11]</text>\n<text text-anchor=\"middle\" x=\"2577\" y=\"-119.3\" font-family=\"Helvetica,sans-Serif\" font-size=\"14.00\" fill=\"#000000\">class = yes</text>\n</g>\n<!-- 41&#45;&gt;45 -->\n<g id=\"edge45\" class=\"edge\">\n<title>41&#45;&gt;45</title>\n<path fill=\"none\" stroke=\"#000000\" d=\"M2527.5811,-222.8796C2534.674,-211.7735 2542.3521,-199.7513 2549.4937,-188.5691\"/>\n<polygon fill=\"#000000\" stroke=\"#000000\" points=\"2552.6518,-190.1267 2555.0846,-179.8149 2546.7523,-186.3589 2552.6518,-190.1267\"/>\n</g>\n<!-- 43 -->\n<g id=\"node44\" class=\"node\">\n<title>43</title>\n<polygon fill=\"#f2c09c\" stroke=\"#000000\" points=\"2492.5,-68 2393.5,-68 2393.5,0 2492.5,0 2492.5,-68\"/>\n<text text-anchor=\"middle\" x=\"2443\" y=\"-52.8\" font-family=\"Helvetica,sans-Serif\" font-size=\"14.00\" fill=\"#000000\">gini = 0.444</text>\n<text text-anchor=\"middle\" x=\"2443\" y=\"-37.8\" font-family=\"Helvetica,sans-Serif\" font-size=\"14.00\" fill=\"#000000\">samples = 3</text>\n<text text-anchor=\"middle\" x=\"2443\" y=\"-22.8\" font-family=\"Helvetica,sans-Serif\" font-size=\"14.00\" fill=\"#000000\">value = [2, 1]</text>\n<text text-anchor=\"middle\" x=\"2443\" y=\"-7.8\" font-family=\"Helvetica,sans-Serif\" font-size=\"14.00\" fill=\"#000000\">class = yes</text>\n</g>\n<!-- 42&#45;&gt;43 -->\n<g id=\"edge43\" class=\"edge\">\n<title>42&#45;&gt;43</title>\n<path fill=\"none\" stroke=\"#000000\" d=\"M2443,-103.9815C2443,-95.618 2443,-86.7965 2443,-78.3409\"/>\n<polygon fill=\"#000000\" stroke=\"#000000\" points=\"2446.5001,-78.2636 2443,-68.2637 2439.5001,-78.2637 2446.5001,-78.2636\"/>\n</g>\n<!-- 44 -->\n<g id=\"node45\" class=\"node\">\n<title>44</title>\n<polygon fill=\"#5dafea\" stroke=\"#000000\" points=\"2635,-68 2511,-68 2511,0 2635,0 2635,-68\"/>\n<text text-anchor=\"middle\" x=\"2573\" y=\"-52.8\" font-family=\"Helvetica,sans-Serif\" font-size=\"14.00\" fill=\"#000000\">gini = 0.261</text>\n<text text-anchor=\"middle\" x=\"2573\" y=\"-37.8\" font-family=\"Helvetica,sans-Serif\" font-size=\"14.00\" fill=\"#000000\">samples = 492</text>\n<text text-anchor=\"middle\" x=\"2573\" y=\"-22.8\" font-family=\"Helvetica,sans-Serif\" font-size=\"14.00\" fill=\"#000000\">value = [76, 416]</text>\n<text text-anchor=\"middle\" x=\"2573\" y=\"-7.8\" font-family=\"Helvetica,sans-Serif\" font-size=\"14.00\" fill=\"#000000\">class = yes</text>\n</g>\n<!-- 42&#45;&gt;44 -->\n<g id=\"edge44\" class=\"edge\">\n<title>42&#45;&gt;44</title>\n<path fill=\"none\" stroke=\"#000000\" d=\"M2491.4072,-103.9815C2502.4442,-94.5151 2514.1653,-84.462 2525.1777,-75.0168\"/>\n<polygon fill=\"#000000\" stroke=\"#000000\" points=\"2527.7394,-77.4307 2533.0513,-68.2637 2523.1822,-72.1173 2527.7394,-77.4307\"/>\n</g>\n<!-- 47 -->\n<g id=\"node48\" class=\"node\">\n<title>47</title>\n<polygon fill=\"#50a8e8\" stroke=\"#000000\" points=\"2781,-187 2649,-187 2649,-104 2781,-104 2781,-187\"/>\n<text text-anchor=\"middle\" x=\"2715\" y=\"-171.8\" font-family=\"Helvetica,sans-Serif\" font-size=\"14.00\" fill=\"#000000\">previous &lt;= 5.5</text>\n<text text-anchor=\"middle\" x=\"2715\" y=\"-156.8\" font-family=\"Helvetica,sans-Serif\" font-size=\"14.00\" fill=\"#000000\">gini = 0.185</text>\n<text text-anchor=\"middle\" x=\"2715\" y=\"-141.8\" font-family=\"Helvetica,sans-Serif\" font-size=\"14.00\" fill=\"#000000\">samples = 1006</text>\n<text text-anchor=\"middle\" x=\"2715\" y=\"-126.8\" font-family=\"Helvetica,sans-Serif\" font-size=\"14.00\" fill=\"#000000\">value = [104, 902]</text>\n<text text-anchor=\"middle\" x=\"2715\" y=\"-111.8\" font-family=\"Helvetica,sans-Serif\" font-size=\"14.00\" fill=\"#000000\">class = yes</text>\n</g>\n<!-- 46&#45;&gt;47 -->\n<g id=\"edge47\" class=\"edge\">\n<title>46&#45;&gt;47</title>\n<path fill=\"none\" stroke=\"#000000\" d=\"M2715,-222.8796C2715,-214.6838 2715,-205.9891 2715,-197.5013\"/>\n<polygon fill=\"#000000\" stroke=\"#000000\" points=\"2718.5001,-197.298 2715,-187.2981 2711.5001,-197.2981 2718.5001,-197.298\"/>\n</g>\n<!-- 50 -->\n<g id=\"node51\" class=\"node\">\n<title>50</title>\n<polygon fill=\"#ffffff\" stroke=\"#000000\" points=\"2898.5,-179.5 2799.5,-179.5 2799.5,-111.5 2898.5,-111.5 2898.5,-179.5\"/>\n<text text-anchor=\"middle\" x=\"2849\" y=\"-164.3\" font-family=\"Helvetica,sans-Serif\" font-size=\"14.00\" fill=\"#000000\">gini = 0.5</text>\n<text text-anchor=\"middle\" x=\"2849\" y=\"-149.3\" font-family=\"Helvetica,sans-Serif\" font-size=\"14.00\" fill=\"#000000\">samples = 4</text>\n<text text-anchor=\"middle\" x=\"2849\" y=\"-134.3\" font-family=\"Helvetica,sans-Serif\" font-size=\"14.00\" fill=\"#000000\">value = [2, 2]</text>\n<text text-anchor=\"middle\" x=\"2849\" y=\"-119.3\" font-family=\"Helvetica,sans-Serif\" font-size=\"14.00\" fill=\"#000000\">class = yes</text>\n</g>\n<!-- 46&#45;&gt;50 -->\n<g id=\"edge50\" class=\"edge\">\n<title>46&#45;&gt;50</title>\n<path fill=\"none\" stroke=\"#000000\" d=\"M2761.8667,-222.8796C2775.1156,-211.1138 2789.5224,-198.3197 2802.7356,-186.5855\"/>\n<polygon fill=\"#000000\" stroke=\"#000000\" points=\"2805.2065,-189.0722 2810.3597,-179.8149 2800.5584,-183.8381 2805.2065,-189.0722\"/>\n</g>\n<!-- 48 -->\n<g id=\"node49\" class=\"node\">\n<title>48</title>\n<polygon fill=\"#4fa8e8\" stroke=\"#000000\" points=\"2777,-68 2653,-68 2653,0 2777,0 2777,-68\"/>\n<text text-anchor=\"middle\" x=\"2715\" y=\"-52.8\" font-family=\"Helvetica,sans-Serif\" font-size=\"14.00\" fill=\"#000000\">gini = 0.178</text>\n<text text-anchor=\"middle\" x=\"2715\" y=\"-37.8\" font-family=\"Helvetica,sans-Serif\" font-size=\"14.00\" fill=\"#000000\">samples = 970</text>\n<text text-anchor=\"middle\" x=\"2715\" y=\"-22.8\" font-family=\"Helvetica,sans-Serif\" font-size=\"14.00\" fill=\"#000000\">value = [96, 874]</text>\n<text text-anchor=\"middle\" x=\"2715\" y=\"-7.8\" font-family=\"Helvetica,sans-Serif\" font-size=\"14.00\" fill=\"#000000\">class = yes</text>\n</g>\n<!-- 47&#45;&gt;48 -->\n<g id=\"edge48\" class=\"edge\">\n<title>47&#45;&gt;48</title>\n<path fill=\"none\" stroke=\"#000000\" d=\"M2715,-103.9815C2715,-95.618 2715,-86.7965 2715,-78.3409\"/>\n<polygon fill=\"#000000\" stroke=\"#000000\" points=\"2718.5001,-78.2636 2715,-68.2637 2711.5001,-78.2637 2718.5001,-78.2636\"/>\n</g>\n<!-- 49 -->\n<g id=\"node50\" class=\"node\">\n<title>49</title>\n<polygon fill=\"#72b9ec\" stroke=\"#000000\" points=\"2902.5,-68 2795.5,-68 2795.5,0 2902.5,0 2902.5,-68\"/>\n<text text-anchor=\"middle\" x=\"2849\" y=\"-52.8\" font-family=\"Helvetica,sans-Serif\" font-size=\"14.00\" fill=\"#000000\">gini = 0.346</text>\n<text text-anchor=\"middle\" x=\"2849\" y=\"-37.8\" font-family=\"Helvetica,sans-Serif\" font-size=\"14.00\" fill=\"#000000\">samples = 36</text>\n<text text-anchor=\"middle\" x=\"2849\" y=\"-22.8\" font-family=\"Helvetica,sans-Serif\" font-size=\"14.00\" fill=\"#000000\">value = [8, 28]</text>\n<text text-anchor=\"middle\" x=\"2849\" y=\"-7.8\" font-family=\"Helvetica,sans-Serif\" font-size=\"14.00\" fill=\"#000000\">class = yes</text>\n</g>\n<!-- 47&#45;&gt;49 -->\n<g id=\"edge49\" class=\"edge\">\n<title>47&#45;&gt;49</title>\n<path fill=\"none\" stroke=\"#000000\" d=\"M2764.8967,-103.9815C2776.3838,-94.4232 2788.5897,-84.2668 2800.0367,-74.7419\"/>\n<polygon fill=\"#000000\" stroke=\"#000000\" points=\"2802.3739,-77.3503 2807.8221,-68.2637 2797.8965,-71.9695 2802.3739,-77.3503\"/>\n</g>\n</g>\n</svg>\n"
          },
          "metadata": {},
          "execution_count": 24
        }
      ]
    },
    {
      "cell_type": "code",
      "source": [
        "Dtree_clf2 = tree.DecisionTreeClassifier(random_state=14, max_depth=4, min_samples_split=20 ) # max_depth, min_samples_split를 수정해보세요\n",
        "Dtree_clf2.fit(X_train, y_train)\n",
        "\n",
        "dot_data = export_graphviz(Dtree_clf2, filled=True, out_file=None,\n",
        "                           feature_names = X_train.columns,\n",
        "                           class_names = y_train,\n",
        "                           rounded=False)\n",
        "graphviz.Source(dot_data)"
      ],
      "metadata": {
        "colab": {
          "base_uri": "https://localhost:8080/",
          "height": 775
        },
        "id": "9Hj7EOnxQWcy",
        "outputId": "b53ddaf3-4111-4fe8-ac5d-eeed4eea2236"
      },
      "execution_count": 25,
      "outputs": [
        {
          "output_type": "execute_result",
          "data": {
            "text/plain": [
              "<graphviz.files.Source at 0x7ff5733ef990>"
            ],
            "image/svg+xml": "<?xml version=\"1.0\" encoding=\"UTF-8\" standalone=\"no\"?>\n<!DOCTYPE svg PUBLIC \"-//W3C//DTD SVG 1.1//EN\"\n \"http://www.w3.org/Graphics/SVG/1.1/DTD/svg11.dtd\">\n<!-- Generated by graphviz version 2.40.1 (20161225.0304)\n -->\n<!-- Title: Tree Pages: 1 -->\n<svg width=\"2270pt\" height=\"552pt\"\n viewBox=\"0.00 0.00 2269.50 552.00\" xmlns=\"http://www.w3.org/2000/svg\" xmlns:xlink=\"http://www.w3.org/1999/xlink\">\n<g id=\"graph0\" class=\"graph\" transform=\"scale(1 1) rotate(0) translate(4 548)\">\n<title>Tree</title>\n<polygon fill=\"#ffffff\" stroke=\"transparent\" points=\"-4,4 -4,-548 2265.5,-548 2265.5,4 -4,4\"/>\n<!-- 0 -->\n<g id=\"node1\" class=\"node\">\n<title>0</title>\n<polygon fill=\"#fcf2ea\" stroke=\"#000000\" points=\"1213.5,-544 1064.5,-544 1064.5,-461 1213.5,-461 1213.5,-544\"/>\n<text text-anchor=\"middle\" x=\"1139\" y=\"-528.8\" font-family=\"Helvetica,sans-Serif\" font-size=\"14.00\" fill=\"#000000\">duration &lt;= 365.5</text>\n<text text-anchor=\"middle\" x=\"1139\" y=\"-513.8\" font-family=\"Helvetica,sans-Serif\" font-size=\"14.00\" fill=\"#000000\">gini = 0.498</text>\n<text text-anchor=\"middle\" x=\"1139\" y=\"-498.8\" font-family=\"Helvetica,sans-Serif\" font-size=\"14.00\" fill=\"#000000\">samples = 8929</text>\n<text text-anchor=\"middle\" x=\"1139\" y=\"-483.8\" font-family=\"Helvetica,sans-Serif\" font-size=\"14.00\" fill=\"#000000\">value = [4712, 4217]</text>\n<text text-anchor=\"middle\" x=\"1139\" y=\"-468.8\" font-family=\"Helvetica,sans-Serif\" font-size=\"14.00\" fill=\"#000000\">class = yes</text>\n</g>\n<!-- 1 -->\n<g id=\"node2\" class=\"node\">\n<title>1</title>\n<polygon fill=\"#f1b991\" stroke=\"#000000\" points=\"919.5,-425 770.5,-425 770.5,-342 919.5,-342 919.5,-425\"/>\n<text text-anchor=\"middle\" x=\"845\" y=\"-409.8\" font-family=\"Helvetica,sans-Serif\" font-size=\"14.00\" fill=\"#000000\">pdays &lt;= 9.5</text>\n<text text-anchor=\"middle\" x=\"845\" y=\"-394.8\" font-family=\"Helvetica,sans-Serif\" font-size=\"14.00\" fill=\"#000000\">gini = 0.426</text>\n<text text-anchor=\"middle\" x=\"845\" y=\"-379.8\" font-family=\"Helvetica,sans-Serif\" font-size=\"14.00\" fill=\"#000000\">samples = 5782</text>\n<text text-anchor=\"middle\" x=\"845\" y=\"-364.8\" font-family=\"Helvetica,sans-Serif\" font-size=\"14.00\" fill=\"#000000\">value = [4000, 1782]</text>\n<text text-anchor=\"middle\" x=\"845\" y=\"-349.8\" font-family=\"Helvetica,sans-Serif\" font-size=\"14.00\" fill=\"#000000\">class = yes</text>\n</g>\n<!-- 0&#45;&gt;1 -->\n<g id=\"edge1\" class=\"edge\">\n<title>0&#45;&gt;1</title>\n<path fill=\"none\" stroke=\"#000000\" d=\"M1064.4313,-472.3174C1023.2315,-455.6413 971.9117,-434.869 929.2639,-417.6068\"/>\n<polygon fill=\"#000000\" stroke=\"#000000\" points=\"930.3271,-414.2614 919.7444,-413.7537 927.7007,-420.75 930.3271,-414.2614\"/>\n<text text-anchor=\"middle\" x=\"929.4982\" y=\"-433.0725\" font-family=\"Helvetica,sans-Serif\" font-size=\"14.00\" fill=\"#000000\">True</text>\n</g>\n<!-- 16 -->\n<g id=\"node17\" class=\"node\">\n<title>16</title>\n<polygon fill=\"#73baed\" stroke=\"#000000\" points=\"1505,-425 1365,-425 1365,-342 1505,-342 1505,-425\"/>\n<text text-anchor=\"middle\" x=\"1435\" y=\"-409.8\" font-family=\"Helvetica,sans-Serif\" font-size=\"14.00\" fill=\"#000000\">duration &lt;= 643.5</text>\n<text text-anchor=\"middle\" x=\"1435\" y=\"-394.8\" font-family=\"Helvetica,sans-Serif\" font-size=\"14.00\" fill=\"#000000\">gini = 0.35</text>\n<text text-anchor=\"middle\" x=\"1435\" y=\"-379.8\" font-family=\"Helvetica,sans-Serif\" font-size=\"14.00\" fill=\"#000000\">samples = 3147</text>\n<text text-anchor=\"middle\" x=\"1435\" y=\"-364.8\" font-family=\"Helvetica,sans-Serif\" font-size=\"14.00\" fill=\"#000000\">value = [712, 2435]</text>\n<text text-anchor=\"middle\" x=\"1435\" y=\"-349.8\" font-family=\"Helvetica,sans-Serif\" font-size=\"14.00\" fill=\"#000000\">class = yes</text>\n</g>\n<!-- 0&#45;&gt;16 -->\n<g id=\"edge16\" class=\"edge\">\n<title>0&#45;&gt;16</title>\n<path fill=\"none\" stroke=\"#000000\" d=\"M1213.6933,-472.4713C1256.9333,-455.0876 1311.3421,-433.2138 1355.3904,-415.5052\"/>\n<polygon fill=\"#000000\" stroke=\"#000000\" points=\"1356.938,-418.6553 1364.9107,-411.6778 1354.3269,-412.1606 1356.938,-418.6553\"/>\n<text text-anchor=\"middle\" x=\"1355.1029\" y=\"-430.9736\" font-family=\"Helvetica,sans-Serif\" font-size=\"14.00\" fill=\"#000000\">False</text>\n</g>\n<!-- 2 -->\n<g id=\"node3\" class=\"node\">\n<title>2</title>\n<polygon fill=\"#eca26e\" stroke=\"#000000\" points=\"505,-306 365,-306 365,-223 505,-223 505,-306\"/>\n<text text-anchor=\"middle\" x=\"435\" y=\"-290.8\" font-family=\"Helvetica,sans-Serif\" font-size=\"14.00\" fill=\"#000000\">housing &lt;= 0.5</text>\n<text text-anchor=\"middle\" x=\"435\" y=\"-275.8\" font-family=\"Helvetica,sans-Serif\" font-size=\"14.00\" fill=\"#000000\">gini = 0.331</text>\n<text text-anchor=\"middle\" x=\"435\" y=\"-260.8\" font-family=\"Helvetica,sans-Serif\" font-size=\"14.00\" fill=\"#000000\">samples = 4288</text>\n<text text-anchor=\"middle\" x=\"435\" y=\"-245.8\" font-family=\"Helvetica,sans-Serif\" font-size=\"14.00\" fill=\"#000000\">value = [3389, 899]</text>\n<text text-anchor=\"middle\" x=\"435\" y=\"-230.8\" font-family=\"Helvetica,sans-Serif\" font-size=\"14.00\" fill=\"#000000\">class = yes</text>\n</g>\n<!-- 1&#45;&gt;2 -->\n<g id=\"edge2\" class=\"edge\">\n<title>1&#45;&gt;2</title>\n<path fill=\"none\" stroke=\"#000000\" d=\"M770.2764,-361.8119C697.9937,-340.8323 588.814,-309.1436 514.8472,-287.6752\"/>\n<polygon fill=\"#000000\" stroke=\"#000000\" points=\"515.6831,-284.2734 505.1038,-284.8472 513.7319,-290.996 515.6831,-284.2734\"/>\n</g>\n<!-- 9 -->\n<g id=\"node10\" class=\"node\">\n<title>9</title>\n<polygon fill=\"#c2e1f7\" stroke=\"#000000\" points=\"911,-306 779,-306 779,-223 911,-223 911,-306\"/>\n<text text-anchor=\"middle\" x=\"845\" y=\"-290.8\" font-family=\"Helvetica,sans-Serif\" font-size=\"14.00\" fill=\"#000000\">duration &lt;= 125.5</text>\n<text text-anchor=\"middle\" x=\"845\" y=\"-275.8\" font-family=\"Helvetica,sans-Serif\" font-size=\"14.00\" fill=\"#000000\">gini = 0.483</text>\n<text text-anchor=\"middle\" x=\"845\" y=\"-260.8\" font-family=\"Helvetica,sans-Serif\" font-size=\"14.00\" fill=\"#000000\">samples = 1494</text>\n<text text-anchor=\"middle\" x=\"845\" y=\"-245.8\" font-family=\"Helvetica,sans-Serif\" font-size=\"14.00\" fill=\"#000000\">value = [611, 883]</text>\n<text text-anchor=\"middle\" x=\"845\" y=\"-230.8\" font-family=\"Helvetica,sans-Serif\" font-size=\"14.00\" fill=\"#000000\">class = yes</text>\n</g>\n<!-- 1&#45;&gt;9 -->\n<g id=\"edge9\" class=\"edge\">\n<title>1&#45;&gt;9</title>\n<path fill=\"none\" stroke=\"#000000\" d=\"M845,-341.8796C845,-333.6838 845,-324.9891 845,-316.5013\"/>\n<polygon fill=\"#000000\" stroke=\"#000000\" points=\"848.5001,-316.298 845,-306.2981 841.5001,-316.2981 848.5001,-316.298\"/>\n</g>\n<!-- 3 -->\n<g id=\"node4\" class=\"node\">\n<title>3</title>\n<polygon fill=\"#f1bc95\" stroke=\"#000000\" points=\"278,-187 138,-187 138,-104 278,-104 278,-187\"/>\n<text text-anchor=\"middle\" x=\"208\" y=\"-171.8\" font-family=\"Helvetica,sans-Serif\" font-size=\"14.00\" fill=\"#000000\">duration &lt;= 124.5</text>\n<text text-anchor=\"middle\" x=\"208\" y=\"-156.8\" font-family=\"Helvetica,sans-Serif\" font-size=\"14.00\" fill=\"#000000\">gini = 0.433</text>\n<text text-anchor=\"middle\" x=\"208\" y=\"-141.8\" font-family=\"Helvetica,sans-Serif\" font-size=\"14.00\" fill=\"#000000\">samples = 2240</text>\n<text text-anchor=\"middle\" x=\"208\" y=\"-126.8\" font-family=\"Helvetica,sans-Serif\" font-size=\"14.00\" fill=\"#000000\">value = [1529, 711]</text>\n<text text-anchor=\"middle\" x=\"208\" y=\"-111.8\" font-family=\"Helvetica,sans-Serif\" font-size=\"14.00\" fill=\"#000000\">class = yes</text>\n</g>\n<!-- 2&#45;&gt;3 -->\n<g id=\"edge3\" class=\"edge\">\n<title>2&#45;&gt;3</title>\n<path fill=\"none\" stroke=\"#000000\" d=\"M364.7304,-227.6626C340.261,-214.8351 312.64,-200.3553 287.4773,-187.1643\"/>\n<polygon fill=\"#000000\" stroke=\"#000000\" points=\"288.8103,-183.9113 278.3284,-182.3682 285.5601,-190.1111 288.8103,-183.9113\"/>\n</g>\n<!-- 6 -->\n<g id=\"node7\" class=\"node\">\n<title>6</title>\n<polygon fill=\"#e88e4d\" stroke=\"#000000\" points=\"505,-187 365,-187 365,-104 505,-104 505,-187\"/>\n<text text-anchor=\"middle\" x=\"435\" y=\"-171.8\" font-family=\"Helvetica,sans-Serif\" font-size=\"14.00\" fill=\"#000000\">age &lt;= 60.5</text>\n<text text-anchor=\"middle\" x=\"435\" y=\"-156.8\" font-family=\"Helvetica,sans-Serif\" font-size=\"14.00\" fill=\"#000000\">gini = 0.167</text>\n<text text-anchor=\"middle\" x=\"435\" y=\"-141.8\" font-family=\"Helvetica,sans-Serif\" font-size=\"14.00\" fill=\"#000000\">samples = 2048</text>\n<text text-anchor=\"middle\" x=\"435\" y=\"-126.8\" font-family=\"Helvetica,sans-Serif\" font-size=\"14.00\" fill=\"#000000\">value = [1860, 188]</text>\n<text text-anchor=\"middle\" x=\"435\" y=\"-111.8\" font-family=\"Helvetica,sans-Serif\" font-size=\"14.00\" fill=\"#000000\">class = yes</text>\n</g>\n<!-- 2&#45;&gt;6 -->\n<g id=\"edge6\" class=\"edge\">\n<title>2&#45;&gt;6</title>\n<path fill=\"none\" stroke=\"#000000\" d=\"M435,-222.8796C435,-214.6838 435,-205.9891 435,-197.5013\"/>\n<polygon fill=\"#000000\" stroke=\"#000000\" points=\"438.5001,-197.298 435,-187.2981 431.5001,-197.2981 438.5001,-197.298\"/>\n</g>\n<!-- 4 -->\n<g id=\"node5\" class=\"node\">\n<title>4</title>\n<polygon fill=\"#e89152\" stroke=\"#000000\" points=\"124,-68 0,-68 0,0 124,0 124,-68\"/>\n<text text-anchor=\"middle\" x=\"62\" y=\"-52.8\" font-family=\"Helvetica,sans-Serif\" font-size=\"14.00\" fill=\"#000000\">gini = 0.197</text>\n<text text-anchor=\"middle\" x=\"62\" y=\"-37.8\" font-family=\"Helvetica,sans-Serif\" font-size=\"14.00\" fill=\"#000000\">samples = 777</text>\n<text text-anchor=\"middle\" x=\"62\" y=\"-22.8\" font-family=\"Helvetica,sans-Serif\" font-size=\"14.00\" fill=\"#000000\">value = [691, 86]</text>\n<text text-anchor=\"middle\" x=\"62\" y=\"-7.8\" font-family=\"Helvetica,sans-Serif\" font-size=\"14.00\" fill=\"#000000\">class = yes</text>\n</g>\n<!-- 3&#45;&gt;4 -->\n<g id=\"edge4\" class=\"edge\">\n<title>3&#45;&gt;4</title>\n<path fill=\"none\" stroke=\"#000000\" d=\"M153.635,-103.9815C140.9989,-94.3313 127.5644,-84.0714 114.9885,-74.4673\"/>\n<polygon fill=\"#000000\" stroke=\"#000000\" points=\"116.9372,-71.5515 106.8654,-68.2637 112.6886,-77.1148 116.9372,-71.5515\"/>\n</g>\n<!-- 5 -->\n<g id=\"node6\" class=\"node\">\n<title>5</title>\n<polygon fill=\"#f8dfcd\" stroke=\"#000000\" points=\"274,-68 142,-68 142,0 274,0 274,-68\"/>\n<text text-anchor=\"middle\" x=\"208\" y=\"-52.8\" font-family=\"Helvetica,sans-Serif\" font-size=\"14.00\" fill=\"#000000\">gini = 0.489</text>\n<text text-anchor=\"middle\" x=\"208\" y=\"-37.8\" font-family=\"Helvetica,sans-Serif\" font-size=\"14.00\" fill=\"#000000\">samples = 1463</text>\n<text text-anchor=\"middle\" x=\"208\" y=\"-22.8\" font-family=\"Helvetica,sans-Serif\" font-size=\"14.00\" fill=\"#000000\">value = [838, 625]</text>\n<text text-anchor=\"middle\" x=\"208\" y=\"-7.8\" font-family=\"Helvetica,sans-Serif\" font-size=\"14.00\" fill=\"#000000\">class = yes</text>\n</g>\n<!-- 3&#45;&gt;5 -->\n<g id=\"edge5\" class=\"edge\">\n<title>3&#45;&gt;5</title>\n<path fill=\"none\" stroke=\"#000000\" d=\"M208,-103.9815C208,-95.618 208,-86.7965 208,-78.3409\"/>\n<polygon fill=\"#000000\" stroke=\"#000000\" points=\"211.5001,-78.2636 208,-68.2637 204.5001,-78.2637 211.5001,-78.2636\"/>\n</g>\n<!-- 7 -->\n<g id=\"node8\" class=\"node\">\n<title>7</title>\n<polygon fill=\"#e78d4c\" stroke=\"#000000\" points=\"432,-68 292,-68 292,0 432,0 432,-68\"/>\n<text text-anchor=\"middle\" x=\"362\" y=\"-52.8\" font-family=\"Helvetica,sans-Serif\" font-size=\"14.00\" fill=\"#000000\">gini = 0.16</text>\n<text text-anchor=\"middle\" x=\"362\" y=\"-37.8\" font-family=\"Helvetica,sans-Serif\" font-size=\"14.00\" fill=\"#000000\">samples = 2034</text>\n<text text-anchor=\"middle\" x=\"362\" y=\"-22.8\" font-family=\"Helvetica,sans-Serif\" font-size=\"14.00\" fill=\"#000000\">value = [1856, 178]</text>\n<text text-anchor=\"middle\" x=\"362\" y=\"-7.8\" font-family=\"Helvetica,sans-Serif\" font-size=\"14.00\" fill=\"#000000\">class = yes</text>\n</g>\n<!-- 6&#45;&gt;7 -->\n<g id=\"edge7\" class=\"edge\">\n<title>6&#45;&gt;7</title>\n<path fill=\"none\" stroke=\"#000000\" d=\"M407.8175,-103.9815C401.9808,-95.0666 395.8034,-85.6313 389.9386,-76.6734\"/>\n<polygon fill=\"#000000\" stroke=\"#000000\" points=\"392.8386,-74.7129 384.4327,-68.2637 386.9821,-78.5472 392.8386,-74.7129\"/>\n</g>\n<!-- 8 -->\n<g id=\"node9\" class=\"node\">\n<title>8</title>\n<polygon fill=\"#88c4ef\" stroke=\"#000000\" points=\"557.5,-68 450.5,-68 450.5,0 557.5,0 557.5,-68\"/>\n<text text-anchor=\"middle\" x=\"504\" y=\"-52.8\" font-family=\"Helvetica,sans-Serif\" font-size=\"14.00\" fill=\"#000000\">gini = 0.408</text>\n<text text-anchor=\"middle\" x=\"504\" y=\"-37.8\" font-family=\"Helvetica,sans-Serif\" font-size=\"14.00\" fill=\"#000000\">samples = 14</text>\n<text text-anchor=\"middle\" x=\"504\" y=\"-22.8\" font-family=\"Helvetica,sans-Serif\" font-size=\"14.00\" fill=\"#000000\">value = [4, 10]</text>\n<text text-anchor=\"middle\" x=\"504\" y=\"-7.8\" font-family=\"Helvetica,sans-Serif\" font-size=\"14.00\" fill=\"#000000\">class = yes</text>\n</g>\n<!-- 6&#45;&gt;8 -->\n<g id=\"edge8\" class=\"edge\">\n<title>6&#45;&gt;8</title>\n<path fill=\"none\" stroke=\"#000000\" d=\"M460.6931,-103.9815C466.1531,-95.1585 471.9284,-85.8258 477.4207,-76.9506\"/>\n<polygon fill=\"#000000\" stroke=\"#000000\" points=\"480.5104,-78.609 482.7965,-68.2637 474.558,-74.9254 480.5104,-78.609\"/>\n</g>\n<!-- 10 -->\n<g id=\"node11\" class=\"node\">\n<title>10</title>\n<polygon fill=\"#eb9f69\" stroke=\"#000000\" points=\"834,-187 710,-187 710,-104 834,-104 834,-187\"/>\n<text text-anchor=\"middle\" x=\"772\" y=\"-171.8\" font-family=\"Helvetica,sans-Serif\" font-size=\"14.00\" fill=\"#000000\">pdays &lt;= 107.5</text>\n<text text-anchor=\"middle\" x=\"772\" y=\"-156.8\" font-family=\"Helvetica,sans-Serif\" font-size=\"14.00\" fill=\"#000000\">gini = 0.313</text>\n<text text-anchor=\"middle\" x=\"772\" y=\"-141.8\" font-family=\"Helvetica,sans-Serif\" font-size=\"14.00\" fill=\"#000000\">samples = 355</text>\n<text text-anchor=\"middle\" x=\"772\" y=\"-126.8\" font-family=\"Helvetica,sans-Serif\" font-size=\"14.00\" fill=\"#000000\">value = [286, 69]</text>\n<text text-anchor=\"middle\" x=\"772\" y=\"-111.8\" font-family=\"Helvetica,sans-Serif\" font-size=\"14.00\" fill=\"#000000\">class = yes</text>\n</g>\n<!-- 9&#45;&gt;10 -->\n<g id=\"edge10\" class=\"edge\">\n<title>9&#45;&gt;10</title>\n<path fill=\"none\" stroke=\"#000000\" d=\"M819.4681,-222.8796C814.109,-214.1434 808.4021,-204.8404 802.8718,-195.8253\"/>\n<polygon fill=\"#000000\" stroke=\"#000000\" points=\"805.8533,-193.9919 797.6408,-187.2981 799.8865,-197.6522 805.8533,-193.9919\"/>\n</g>\n<!-- 13 -->\n<g id=\"node14\" class=\"node\">\n<title>13</title>\n<polygon fill=\"#88c4ef\" stroke=\"#000000\" points=\"984,-187 852,-187 852,-104 984,-104 984,-187\"/>\n<text text-anchor=\"middle\" x=\"918\" y=\"-171.8\" font-family=\"Helvetica,sans-Serif\" font-size=\"14.00\" fill=\"#000000\">poutcome &lt;= 0.5</text>\n<text text-anchor=\"middle\" x=\"918\" y=\"-156.8\" font-family=\"Helvetica,sans-Serif\" font-size=\"14.00\" fill=\"#000000\">gini = 0.408</text>\n<text text-anchor=\"middle\" x=\"918\" y=\"-141.8\" font-family=\"Helvetica,sans-Serif\" font-size=\"14.00\" fill=\"#000000\">samples = 1139</text>\n<text text-anchor=\"middle\" x=\"918\" y=\"-126.8\" font-family=\"Helvetica,sans-Serif\" font-size=\"14.00\" fill=\"#000000\">value = [325, 814]</text>\n<text text-anchor=\"middle\" x=\"918\" y=\"-111.8\" font-family=\"Helvetica,sans-Serif\" font-size=\"14.00\" fill=\"#000000\">class = yes</text>\n</g>\n<!-- 9&#45;&gt;13 -->\n<g id=\"edge13\" class=\"edge\">\n<title>9&#45;&gt;13</title>\n<path fill=\"none\" stroke=\"#000000\" d=\"M870.5319,-222.8796C875.891,-214.1434 881.5979,-204.8404 887.1282,-195.8253\"/>\n<polygon fill=\"#000000\" stroke=\"#000000\" points=\"890.1135,-197.6522 892.3592,-187.2981 884.1467,-193.9919 890.1135,-197.6522\"/>\n</g>\n<!-- 11 -->\n<g id=\"node12\" class=\"node\">\n<title>11</title>\n<polygon fill=\"#fcefe6\" stroke=\"#000000\" points=\"692,-68 576,-68 576,0 692,0 692,-68\"/>\n<text text-anchor=\"middle\" x=\"634\" y=\"-52.8\" font-family=\"Helvetica,sans-Serif\" font-size=\"14.00\" fill=\"#000000\">gini = 0.498</text>\n<text text-anchor=\"middle\" x=\"634\" y=\"-37.8\" font-family=\"Helvetica,sans-Serif\" font-size=\"14.00\" fill=\"#000000\">samples = 73</text>\n<text text-anchor=\"middle\" x=\"634\" y=\"-22.8\" font-family=\"Helvetica,sans-Serif\" font-size=\"14.00\" fill=\"#000000\">value = [39, 34]</text>\n<text text-anchor=\"middle\" x=\"634\" y=\"-7.8\" font-family=\"Helvetica,sans-Serif\" font-size=\"14.00\" fill=\"#000000\">class = yes</text>\n</g>\n<!-- 10&#45;&gt;11 -->\n<g id=\"edge11\" class=\"edge\">\n<title>10&#45;&gt;11</title>\n<path fill=\"none\" stroke=\"#000000\" d=\"M720.6139,-103.9815C708.7839,-94.4232 696.2136,-84.2668 684.4249,-74.7419\"/>\n<polygon fill=\"#000000\" stroke=\"#000000\" points=\"686.3851,-71.826 676.4071,-68.2637 681.9858,-77.2708 686.3851,-71.826\"/>\n</g>\n<!-- 12 -->\n<g id=\"node13\" class=\"node\">\n<title>12</title>\n<polygon fill=\"#e99355\" stroke=\"#000000\" points=\"834,-68 710,-68 710,0 834,0 834,-68\"/>\n<text text-anchor=\"middle\" x=\"772\" y=\"-52.8\" font-family=\"Helvetica,sans-Serif\" font-size=\"14.00\" fill=\"#000000\">gini = 0.217</text>\n<text text-anchor=\"middle\" x=\"772\" y=\"-37.8\" font-family=\"Helvetica,sans-Serif\" font-size=\"14.00\" fill=\"#000000\">samples = 282</text>\n<text text-anchor=\"middle\" x=\"772\" y=\"-22.8\" font-family=\"Helvetica,sans-Serif\" font-size=\"14.00\" fill=\"#000000\">value = [247, 35]</text>\n<text text-anchor=\"middle\" x=\"772\" y=\"-7.8\" font-family=\"Helvetica,sans-Serif\" font-size=\"14.00\" fill=\"#000000\">class = yes</text>\n</g>\n<!-- 10&#45;&gt;12 -->\n<g id=\"edge12\" class=\"edge\">\n<title>10&#45;&gt;12</title>\n<path fill=\"none\" stroke=\"#000000\" d=\"M772,-103.9815C772,-95.618 772,-86.7965 772,-78.3409\"/>\n<polygon fill=\"#000000\" stroke=\"#000000\" points=\"775.5001,-78.2636 772,-68.2637 768.5001,-78.2637 775.5001,-78.2636\"/>\n</g>\n<!-- 14 -->\n<g id=\"node15\" class=\"node\">\n<title>14</title>\n<polygon fill=\"#f7fbfe\" stroke=\"#000000\" points=\"984,-68 852,-68 852,0 984,0 984,-68\"/>\n<text text-anchor=\"middle\" x=\"918\" y=\"-52.8\" font-family=\"Helvetica,sans-Serif\" font-size=\"14.00\" fill=\"#000000\">gini = 0.5</text>\n<text text-anchor=\"middle\" x=\"918\" y=\"-37.8\" font-family=\"Helvetica,sans-Serif\" font-size=\"14.00\" fill=\"#000000\">samples = 443</text>\n<text text-anchor=\"middle\" x=\"918\" y=\"-22.8\" font-family=\"Helvetica,sans-Serif\" font-size=\"14.00\" fill=\"#000000\">value = [217, 226]</text>\n<text text-anchor=\"middle\" x=\"918\" y=\"-7.8\" font-family=\"Helvetica,sans-Serif\" font-size=\"14.00\" fill=\"#000000\">class = yes</text>\n</g>\n<!-- 13&#45;&gt;14 -->\n<g id=\"edge14\" class=\"edge\">\n<title>13&#45;&gt;14</title>\n<path fill=\"none\" stroke=\"#000000\" d=\"M918,-103.9815C918,-95.618 918,-86.7965 918,-78.3409\"/>\n<polygon fill=\"#000000\" stroke=\"#000000\" points=\"921.5001,-78.2636 918,-68.2637 914.5001,-78.2637 921.5001,-78.2636\"/>\n</g>\n<!-- 15 -->\n<g id=\"node16\" class=\"node\">\n<title>15</title>\n<polygon fill=\"#5dafea\" stroke=\"#000000\" points=\"1134,-68 1002,-68 1002,0 1134,0 1134,-68\"/>\n<text text-anchor=\"middle\" x=\"1068\" y=\"-52.8\" font-family=\"Helvetica,sans-Serif\" font-size=\"14.00\" fill=\"#000000\">gini = 0.262</text>\n<text text-anchor=\"middle\" x=\"1068\" y=\"-37.8\" font-family=\"Helvetica,sans-Serif\" font-size=\"14.00\" fill=\"#000000\">samples = 696</text>\n<text text-anchor=\"middle\" x=\"1068\" y=\"-22.8\" font-family=\"Helvetica,sans-Serif\" font-size=\"14.00\" fill=\"#000000\">value = [108, 588]</text>\n<text text-anchor=\"middle\" x=\"1068\" y=\"-7.8\" font-family=\"Helvetica,sans-Serif\" font-size=\"14.00\" fill=\"#000000\">class = yes</text>\n</g>\n<!-- 13&#45;&gt;15 -->\n<g id=\"edge15\" class=\"edge\">\n<title>13&#45;&gt;15</title>\n<path fill=\"none\" stroke=\"#000000\" d=\"M973.8545,-103.9815C986.8368,-94.3313 1000.6394,-84.0714 1013.5597,-74.4673\"/>\n<polygon fill=\"#000000\" stroke=\"#000000\" points=\"1015.9678,-77.0384 1021.9054,-68.2637 1011.7917,-71.4204 1015.9678,-77.0384\"/>\n</g>\n<!-- 17 -->\n<g id=\"node18\" class=\"node\">\n<title>17</title>\n<polygon fill=\"#96cbf1\" stroke=\"#000000\" points=\"1505,-306 1365,-306 1365,-223 1505,-223 1505,-306\"/>\n<text text-anchor=\"middle\" x=\"1435\" y=\"-290.8\" font-family=\"Helvetica,sans-Serif\" font-size=\"14.00\" fill=\"#000000\">housing &lt;= 0.5</text>\n<text text-anchor=\"middle\" x=\"1435\" y=\"-275.8\" font-family=\"Helvetica,sans-Serif\" font-size=\"14.00\" fill=\"#000000\">gini = 0.435</text>\n<text text-anchor=\"middle\" x=\"1435\" y=\"-260.8\" font-family=\"Helvetica,sans-Serif\" font-size=\"14.00\" fill=\"#000000\">samples = 1622</text>\n<text text-anchor=\"middle\" x=\"1435\" y=\"-245.8\" font-family=\"Helvetica,sans-Serif\" font-size=\"14.00\" fill=\"#000000\">value = [519, 1103]</text>\n<text text-anchor=\"middle\" x=\"1435\" y=\"-230.8\" font-family=\"Helvetica,sans-Serif\" font-size=\"14.00\" fill=\"#000000\">class = yes</text>\n</g>\n<!-- 16&#45;&gt;17 -->\n<g id=\"edge17\" class=\"edge\">\n<title>16&#45;&gt;17</title>\n<path fill=\"none\" stroke=\"#000000\" d=\"M1435,-341.8796C1435,-333.6838 1435,-324.9891 1435,-316.5013\"/>\n<polygon fill=\"#000000\" stroke=\"#000000\" points=\"1438.5001,-316.298 1435,-306.2981 1431.5001,-316.2981 1438.5001,-316.298\"/>\n</g>\n<!-- 24 -->\n<g id=\"node25\" class=\"node\">\n<title>24</title>\n<polygon fill=\"#56abe9\" stroke=\"#000000\" points=\"1934,-306 1794,-306 1794,-223 1934,-223 1934,-306\"/>\n<text text-anchor=\"middle\" x=\"1864\" y=\"-290.8\" font-family=\"Helvetica,sans-Serif\" font-size=\"14.00\" fill=\"#000000\">duration &lt;= 794.5</text>\n<text text-anchor=\"middle\" x=\"1864\" y=\"-275.8\" font-family=\"Helvetica,sans-Serif\" font-size=\"14.00\" fill=\"#000000\">gini = 0.221</text>\n<text text-anchor=\"middle\" x=\"1864\" y=\"-260.8\" font-family=\"Helvetica,sans-Serif\" font-size=\"14.00\" fill=\"#000000\">samples = 1525</text>\n<text text-anchor=\"middle\" x=\"1864\" y=\"-245.8\" font-family=\"Helvetica,sans-Serif\" font-size=\"14.00\" fill=\"#000000\">value = [193, 1332]</text>\n<text text-anchor=\"middle\" x=\"1864\" y=\"-230.8\" font-family=\"Helvetica,sans-Serif\" font-size=\"14.00\" fill=\"#000000\">class = yes</text>\n</g>\n<!-- 16&#45;&gt;24 -->\n<g id=\"edge24\" class=\"edge\">\n<title>16&#45;&gt;24</title>\n<path fill=\"none\" stroke=\"#000000\" d=\"M1505.3602,-363.9828C1581.84,-342.7682 1703.8211,-308.9319 1783.9172,-286.7141\"/>\n<polygon fill=\"#000000\" stroke=\"#000000\" points=\"1785.2571,-289.9747 1793.9576,-283.929 1783.3859,-283.2294 1785.2571,-289.9747\"/>\n</g>\n<!-- 18 -->\n<g id=\"node19\" class=\"node\">\n<title>18</title>\n<polygon fill=\"#74baed\" stroke=\"#000000\" points=\"1426,-187 1294,-187 1294,-104 1426,-104 1426,-187\"/>\n<text text-anchor=\"middle\" x=\"1360\" y=\"-171.8\" font-family=\"Helvetica,sans-Serif\" font-size=\"14.00\" fill=\"#000000\">poutcome &lt;= 1.5</text>\n<text text-anchor=\"middle\" x=\"1360\" y=\"-156.8\" font-family=\"Helvetica,sans-Serif\" font-size=\"14.00\" fill=\"#000000\">gini = 0.353</text>\n<text text-anchor=\"middle\" x=\"1360\" y=\"-141.8\" font-family=\"Helvetica,sans-Serif\" font-size=\"14.00\" fill=\"#000000\">samples = 912</text>\n<text text-anchor=\"middle\" x=\"1360\" y=\"-126.8\" font-family=\"Helvetica,sans-Serif\" font-size=\"14.00\" fill=\"#000000\">value = [209, 703]</text>\n<text text-anchor=\"middle\" x=\"1360\" y=\"-111.8\" font-family=\"Helvetica,sans-Serif\" font-size=\"14.00\" fill=\"#000000\">class = yes</text>\n</g>\n<!-- 17&#45;&gt;18 -->\n<g id=\"edge18\" class=\"edge\">\n<title>17&#45;&gt;18</title>\n<path fill=\"none\" stroke=\"#000000\" d=\"M1408.7686,-222.8796C1403.2627,-214.1434 1397.3994,-204.8404 1391.7176,-195.8253\"/>\n<polygon fill=\"#000000\" stroke=\"#000000\" points=\"1394.6363,-193.8919 1386.3433,-187.2981 1388.7143,-197.6242 1394.6363,-193.8919\"/>\n</g>\n<!-- 21 -->\n<g id=\"node22\" class=\"node\">\n<title>21</title>\n<polygon fill=\"#d2e9f9\" stroke=\"#000000\" points=\"1576,-187 1444,-187 1444,-104 1576,-104 1576,-187\"/>\n<text text-anchor=\"middle\" x=\"1510\" y=\"-171.8\" font-family=\"Helvetica,sans-Serif\" font-size=\"14.00\" fill=\"#000000\">duration &lt;= 475.5</text>\n<text text-anchor=\"middle\" x=\"1510\" y=\"-156.8\" font-family=\"Helvetica,sans-Serif\" font-size=\"14.00\" fill=\"#000000\">gini = 0.492</text>\n<text text-anchor=\"middle\" x=\"1510\" y=\"-141.8\" font-family=\"Helvetica,sans-Serif\" font-size=\"14.00\" fill=\"#000000\">samples = 710</text>\n<text text-anchor=\"middle\" x=\"1510\" y=\"-126.8\" font-family=\"Helvetica,sans-Serif\" font-size=\"14.00\" fill=\"#000000\">value = [310, 400]</text>\n<text text-anchor=\"middle\" x=\"1510\" y=\"-111.8\" font-family=\"Helvetica,sans-Serif\" font-size=\"14.00\" fill=\"#000000\">class = yes</text>\n</g>\n<!-- 17&#45;&gt;21 -->\n<g id=\"edge21\" class=\"edge\">\n<title>17&#45;&gt;21</title>\n<path fill=\"none\" stroke=\"#000000\" d=\"M1461.2314,-222.8796C1466.7373,-214.1434 1472.6006,-204.8404 1478.2824,-195.8253\"/>\n<polygon fill=\"#000000\" stroke=\"#000000\" points=\"1481.2857,-197.6242 1483.6567,-187.2981 1475.3637,-193.8919 1481.2857,-197.6242\"/>\n</g>\n<!-- 19 -->\n<g id=\"node20\" class=\"node\">\n<title>19</title>\n<polygon fill=\"#49a5e7\" stroke=\"#000000\" points=\"1276,-68 1152,-68 1152,0 1276,0 1276,-68\"/>\n<text text-anchor=\"middle\" x=\"1214\" y=\"-52.8\" font-family=\"Helvetica,sans-Serif\" font-size=\"14.00\" fill=\"#000000\">gini = 0.137</text>\n<text text-anchor=\"middle\" x=\"1214\" y=\"-37.8\" font-family=\"Helvetica,sans-Serif\" font-size=\"14.00\" fill=\"#000000\">samples = 230</text>\n<text text-anchor=\"middle\" x=\"1214\" y=\"-22.8\" font-family=\"Helvetica,sans-Serif\" font-size=\"14.00\" fill=\"#000000\">value = [17, 213]</text>\n<text text-anchor=\"middle\" x=\"1214\" y=\"-7.8\" font-family=\"Helvetica,sans-Serif\" font-size=\"14.00\" fill=\"#000000\">class = yes</text>\n</g>\n<!-- 18&#45;&gt;19 -->\n<g id=\"edge19\" class=\"edge\">\n<title>18&#45;&gt;19</title>\n<path fill=\"none\" stroke=\"#000000\" d=\"M1305.635,-103.9815C1292.9989,-94.3313 1279.5644,-84.0714 1266.9885,-74.4673\"/>\n<polygon fill=\"#000000\" stroke=\"#000000\" points=\"1268.9372,-71.5515 1258.8654,-68.2637 1264.6886,-77.1148 1268.9372,-71.5515\"/>\n</g>\n<!-- 20 -->\n<g id=\"node21\" class=\"node\">\n<title>20</title>\n<polygon fill=\"#87c3ef\" stroke=\"#000000\" points=\"1426,-68 1294,-68 1294,0 1426,0 1426,-68\"/>\n<text text-anchor=\"middle\" x=\"1360\" y=\"-52.8\" font-family=\"Helvetica,sans-Serif\" font-size=\"14.00\" fill=\"#000000\">gini = 0.405</text>\n<text text-anchor=\"middle\" x=\"1360\" y=\"-37.8\" font-family=\"Helvetica,sans-Serif\" font-size=\"14.00\" fill=\"#000000\">samples = 682</text>\n<text text-anchor=\"middle\" x=\"1360\" y=\"-22.8\" font-family=\"Helvetica,sans-Serif\" font-size=\"14.00\" fill=\"#000000\">value = [192, 490]</text>\n<text text-anchor=\"middle\" x=\"1360\" y=\"-7.8\" font-family=\"Helvetica,sans-Serif\" font-size=\"14.00\" fill=\"#000000\">class = yes</text>\n</g>\n<!-- 18&#45;&gt;20 -->\n<g id=\"edge20\" class=\"edge\">\n<title>18&#45;&gt;20</title>\n<path fill=\"none\" stroke=\"#000000\" d=\"M1360,-103.9815C1360,-95.618 1360,-86.7965 1360,-78.3409\"/>\n<polygon fill=\"#000000\" stroke=\"#000000\" points=\"1363.5001,-78.2636 1360,-68.2637 1356.5001,-78.2637 1363.5001,-78.2636\"/>\n</g>\n<!-- 22 -->\n<g id=\"node23\" class=\"node\">\n<title>22</title>\n<polygon fill=\"#fae6d7\" stroke=\"#000000\" points=\"1576,-68 1444,-68 1444,0 1576,0 1576,-68\"/>\n<text text-anchor=\"middle\" x=\"1510\" y=\"-52.8\" font-family=\"Helvetica,sans-Serif\" font-size=\"14.00\" fill=\"#000000\">gini = 0.494</text>\n<text text-anchor=\"middle\" x=\"1510\" y=\"-37.8\" font-family=\"Helvetica,sans-Serif\" font-size=\"14.00\" fill=\"#000000\">samples = 329</text>\n<text text-anchor=\"middle\" x=\"1510\" y=\"-22.8\" font-family=\"Helvetica,sans-Serif\" font-size=\"14.00\" fill=\"#000000\">value = [183, 146]</text>\n<text text-anchor=\"middle\" x=\"1510\" y=\"-7.8\" font-family=\"Helvetica,sans-Serif\" font-size=\"14.00\" fill=\"#000000\">class = yes</text>\n</g>\n<!-- 21&#45;&gt;22 -->\n<g id=\"edge22\" class=\"edge\">\n<title>21&#45;&gt;22</title>\n<path fill=\"none\" stroke=\"#000000\" d=\"M1510,-103.9815C1510,-95.618 1510,-86.7965 1510,-78.3409\"/>\n<polygon fill=\"#000000\" stroke=\"#000000\" points=\"1513.5001,-78.2636 1510,-68.2637 1506.5001,-78.2637 1513.5001,-78.2636\"/>\n</g>\n<!-- 23 -->\n<g id=\"node24\" class=\"node\">\n<title>23</title>\n<polygon fill=\"#9ccef2\" stroke=\"#000000\" points=\"1726,-68 1594,-68 1594,0 1726,0 1726,-68\"/>\n<text text-anchor=\"middle\" x=\"1660\" y=\"-52.8\" font-family=\"Helvetica,sans-Serif\" font-size=\"14.00\" fill=\"#000000\">gini = 0.444</text>\n<text text-anchor=\"middle\" x=\"1660\" y=\"-37.8\" font-family=\"Helvetica,sans-Serif\" font-size=\"14.00\" fill=\"#000000\">samples = 381</text>\n<text text-anchor=\"middle\" x=\"1660\" y=\"-22.8\" font-family=\"Helvetica,sans-Serif\" font-size=\"14.00\" fill=\"#000000\">value = [127, 254]</text>\n<text text-anchor=\"middle\" x=\"1660\" y=\"-7.8\" font-family=\"Helvetica,sans-Serif\" font-size=\"14.00\" fill=\"#000000\">class = yes</text>\n</g>\n<!-- 21&#45;&gt;23 -->\n<g id=\"edge23\" class=\"edge\">\n<title>21&#45;&gt;23</title>\n<path fill=\"none\" stroke=\"#000000\" d=\"M1565.8545,-103.9815C1578.8368,-94.3313 1592.6394,-84.0714 1605.5597,-74.4673\"/>\n<polygon fill=\"#000000\" stroke=\"#000000\" points=\"1607.9678,-77.0384 1613.9054,-68.2637 1603.7917,-71.4204 1607.9678,-77.0384\"/>\n</g>\n<!-- 25 -->\n<g id=\"node26\" class=\"node\">\n<title>25</title>\n<polygon fill=\"#61b1ea\" stroke=\"#000000\" points=\"1929,-187 1799,-187 1799,-104 1929,-104 1929,-187\"/>\n<text text-anchor=\"middle\" x=\"1864\" y=\"-171.8\" font-family=\"Helvetica,sans-Serif\" font-size=\"14.00\" fill=\"#000000\">duration &lt;= 787.5</text>\n<text text-anchor=\"middle\" x=\"1864\" y=\"-156.8\" font-family=\"Helvetica,sans-Serif\" font-size=\"14.00\" fill=\"#000000\">gini = 0.281</text>\n<text text-anchor=\"middle\" x=\"1864\" y=\"-141.8\" font-family=\"Helvetica,sans-Serif\" font-size=\"14.00\" fill=\"#000000\">samples = 515</text>\n<text text-anchor=\"middle\" x=\"1864\" y=\"-126.8\" font-family=\"Helvetica,sans-Serif\" font-size=\"14.00\" fill=\"#000000\">value = [87, 428]</text>\n<text text-anchor=\"middle\" x=\"1864\" y=\"-111.8\" font-family=\"Helvetica,sans-Serif\" font-size=\"14.00\" fill=\"#000000\">class = yes</text>\n</g>\n<!-- 24&#45;&gt;25 -->\n<g id=\"edge25\" class=\"edge\">\n<title>24&#45;&gt;25</title>\n<path fill=\"none\" stroke=\"#000000\" d=\"M1864,-222.8796C1864,-214.6838 1864,-205.9891 1864,-197.5013\"/>\n<polygon fill=\"#000000\" stroke=\"#000000\" points=\"1867.5001,-197.298 1864,-187.2981 1860.5001,-197.2981 1867.5001,-197.298\"/>\n</g>\n<!-- 28 -->\n<g id=\"node29\" class=\"node\">\n<title>28</title>\n<polygon fill=\"#50a8e8\" stroke=\"#000000\" points=\"2151,-187 2005,-187 2005,-104 2151,-104 2151,-187\"/>\n<text text-anchor=\"middle\" x=\"2078\" y=\"-171.8\" font-family=\"Helvetica,sans-Serif\" font-size=\"14.00\" fill=\"#000000\">balance &lt;= 19718.0</text>\n<text text-anchor=\"middle\" x=\"2078\" y=\"-156.8\" font-family=\"Helvetica,sans-Serif\" font-size=\"14.00\" fill=\"#000000\">gini = 0.188</text>\n<text text-anchor=\"middle\" x=\"2078\" y=\"-141.8\" font-family=\"Helvetica,sans-Serif\" font-size=\"14.00\" fill=\"#000000\">samples = 1010</text>\n<text text-anchor=\"middle\" x=\"2078\" y=\"-126.8\" font-family=\"Helvetica,sans-Serif\" font-size=\"14.00\" fill=\"#000000\">value = [106, 904]</text>\n<text text-anchor=\"middle\" x=\"2078\" y=\"-111.8\" font-family=\"Helvetica,sans-Serif\" font-size=\"14.00\" fill=\"#000000\">class = yes</text>\n</g>\n<!-- 24&#45;&gt;28 -->\n<g id=\"edge28\" class=\"edge\">\n<title>24&#45;&gt;28</title>\n<path fill=\"none\" stroke=\"#000000\" d=\"M1934.0716,-225.5349C1953.8218,-214.5523 1975.4853,-202.5058 1995.8733,-191.1686\"/>\n<polygon fill=\"#000000\" stroke=\"#000000\" points=\"1997.7917,-194.1066 2004.8304,-186.1878 1994.3897,-187.9888 1997.7917,-194.1066\"/>\n</g>\n<!-- 26 -->\n<g id=\"node27\" class=\"node\">\n<title>26</title>\n<polygon fill=\"#5eafea\" stroke=\"#000000\" points=\"1868,-68 1744,-68 1744,0 1868,0 1868,-68\"/>\n<text text-anchor=\"middle\" x=\"1806\" y=\"-52.8\" font-family=\"Helvetica,sans-Serif\" font-size=\"14.00\" fill=\"#000000\">gini = 0.265</text>\n<text text-anchor=\"middle\" x=\"1806\" y=\"-37.8\" font-family=\"Helvetica,sans-Serif\" font-size=\"14.00\" fill=\"#000000\">samples = 495</text>\n<text text-anchor=\"middle\" x=\"1806\" y=\"-22.8\" font-family=\"Helvetica,sans-Serif\" font-size=\"14.00\" fill=\"#000000\">value = [78, 417]</text>\n<text text-anchor=\"middle\" x=\"1806\" y=\"-7.8\" font-family=\"Helvetica,sans-Serif\" font-size=\"14.00\" fill=\"#000000\">class = yes</text>\n</g>\n<!-- 25&#45;&gt;26 -->\n<g id=\"edge26\" class=\"edge\">\n<title>25&#45;&gt;26</title>\n<path fill=\"none\" stroke=\"#000000\" d=\"M1842.4029,-103.9815C1837.8612,-95.2504 1833.0598,-86.0202 1828.4863,-77.2281\"/>\n<polygon fill=\"#000000\" stroke=\"#000000\" points=\"1831.5431,-75.52 1823.8233,-68.2637 1825.3331,-78.7504 1831.5431,-75.52\"/>\n</g>\n<!-- 27 -->\n<g id=\"node28\" class=\"node\">\n<title>27</title>\n<polygon fill=\"#dbedfa\" stroke=\"#000000\" points=\"1993.5,-68 1886.5,-68 1886.5,0 1993.5,0 1993.5,-68\"/>\n<text text-anchor=\"middle\" x=\"1940\" y=\"-52.8\" font-family=\"Helvetica,sans-Serif\" font-size=\"14.00\" fill=\"#000000\">gini = 0.495</text>\n<text text-anchor=\"middle\" x=\"1940\" y=\"-37.8\" font-family=\"Helvetica,sans-Serif\" font-size=\"14.00\" fill=\"#000000\">samples = 20</text>\n<text text-anchor=\"middle\" x=\"1940\" y=\"-22.8\" font-family=\"Helvetica,sans-Serif\" font-size=\"14.00\" fill=\"#000000\">value = [9, 11]</text>\n<text text-anchor=\"middle\" x=\"1940\" y=\"-7.8\" font-family=\"Helvetica,sans-Serif\" font-size=\"14.00\" fill=\"#000000\">class = yes</text>\n</g>\n<!-- 25&#45;&gt;27 -->\n<g id=\"edge27\" class=\"edge\">\n<title>25&#45;&gt;27</title>\n<path fill=\"none\" stroke=\"#000000\" d=\"M1892.2996,-103.9815C1898.3762,-95.0666 1904.8074,-85.6313 1910.9132,-76.6734\"/>\n<polygon fill=\"#000000\" stroke=\"#000000\" points=\"1913.9052,-78.498 1916.6454,-68.2637 1908.1211,-74.5555 1913.9052,-78.498\"/>\n</g>\n<!-- 29 -->\n<g id=\"node30\" class=\"node\">\n<title>29</title>\n<polygon fill=\"#50a8e8\" stroke=\"#000000\" points=\"2144,-68 2012,-68 2012,0 2144,0 2144,-68\"/>\n<text text-anchor=\"middle\" x=\"2078\" y=\"-52.8\" font-family=\"Helvetica,sans-Serif\" font-size=\"14.00\" fill=\"#000000\">gini = 0.185</text>\n<text text-anchor=\"middle\" x=\"2078\" y=\"-37.8\" font-family=\"Helvetica,sans-Serif\" font-size=\"14.00\" fill=\"#000000\">samples = 1006</text>\n<text text-anchor=\"middle\" x=\"2078\" y=\"-22.8\" font-family=\"Helvetica,sans-Serif\" font-size=\"14.00\" fill=\"#000000\">value = [104, 902]</text>\n<text text-anchor=\"middle\" x=\"2078\" y=\"-7.8\" font-family=\"Helvetica,sans-Serif\" font-size=\"14.00\" fill=\"#000000\">class = yes</text>\n</g>\n<!-- 28&#45;&gt;29 -->\n<g id=\"edge29\" class=\"edge\">\n<title>28&#45;&gt;29</title>\n<path fill=\"none\" stroke=\"#000000\" d=\"M2078,-103.9815C2078,-95.618 2078,-86.7965 2078,-78.3409\"/>\n<polygon fill=\"#000000\" stroke=\"#000000\" points=\"2081.5001,-78.2636 2078,-68.2637 2074.5001,-78.2637 2081.5001,-78.2636\"/>\n</g>\n<!-- 30 -->\n<g id=\"node31\" class=\"node\">\n<title>30</title>\n<polygon fill=\"#ffffff\" stroke=\"#000000\" points=\"2261.5,-68 2162.5,-68 2162.5,0 2261.5,0 2261.5,-68\"/>\n<text text-anchor=\"middle\" x=\"2212\" y=\"-52.8\" font-family=\"Helvetica,sans-Serif\" font-size=\"14.00\" fill=\"#000000\">gini = 0.5</text>\n<text text-anchor=\"middle\" x=\"2212\" y=\"-37.8\" font-family=\"Helvetica,sans-Serif\" font-size=\"14.00\" fill=\"#000000\">samples = 4</text>\n<text text-anchor=\"middle\" x=\"2212\" y=\"-22.8\" font-family=\"Helvetica,sans-Serif\" font-size=\"14.00\" fill=\"#000000\">value = [2, 2]</text>\n<text text-anchor=\"middle\" x=\"2212\" y=\"-7.8\" font-family=\"Helvetica,sans-Serif\" font-size=\"14.00\" fill=\"#000000\">class = yes</text>\n</g>\n<!-- 28&#45;&gt;30 -->\n<g id=\"edge30\" class=\"edge\">\n<title>28&#45;&gt;30</title>\n<path fill=\"none\" stroke=\"#000000\" d=\"M2127.8967,-103.9815C2139.3838,-94.4232 2151.5897,-84.2668 2163.0367,-74.7419\"/>\n<polygon fill=\"#000000\" stroke=\"#000000\" points=\"2165.3739,-77.3503 2170.8221,-68.2637 2160.8965,-71.9695 2165.3739,-77.3503\"/>\n</g>\n</g>\n</svg>\n"
          },
          "metadata": {},
          "execution_count": 25
        }
      ]
    },
    {
      "cell_type": "code",
      "source": [
        ""
      ],
      "metadata": {
        "id": "y_fY46pkQhUe"
      },
      "execution_count": 25,
      "outputs": []
    }
  ]
}