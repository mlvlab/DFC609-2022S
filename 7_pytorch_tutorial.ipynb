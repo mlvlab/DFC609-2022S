{
  "nbformat": 4,
  "nbformat_minor": 0,
  "metadata": {
    "colab": {
      "name": "1_pytorch_tutorial.ipynb",
      "provenance": [],
      "collapsed_sections": [],
      "include_colab_link": true
    },
    "kernelspec": {
      "name": "python3",
      "display_name": "Python 3"
    },
    "language_info": {
      "name": "python"
    },
    "accelerator": "GPU"
  },
  "cells": [
    {
      "cell_type": "markdown",
      "metadata": {
        "id": "view-in-github",
        "colab_type": "text"
      },
      "source": [
        "<a href=\"https://colab.research.google.com/github/mlvlab/DFC609-2022S/blob/master/7_pytorch_tutorial.ipynb\" target=\"_parent\"><img src=\"https://colab.research.google.com/assets/colab-badge.svg\" alt=\"Open In Colab\"/></a>"
      ]
    },
    {
      "cell_type": "markdown",
      "source": [
        "## Pytorch Tutorial\n",
        "Reference : https://tutorials.pytorch.kr/beginner/blitz/tensor_tutorial.html#sphx-glr-beginner-blitz-tensor-tutorial-py\n",
        "\n",
        "--------------------------------------------\n",
        "\n",
        "### 텐서 (Tensor)\n",
        "텐서(Tensor) : 배열(array)이나 행렬(matrix)와 매우 유사한 특수한 자료구조\n",
        "GPU나 다른 연산 가속을 위한 하드웨어서 실행가능.\n",
        "\n",
        "* 배열(array)이나 행렬(matrix)와 매우 유사한 특수한 자료구조\n",
        "* GPU나 다른 연산 가속을 위한 하드웨어서 실행가능.\n",
        "* Numpy의 ndarray와 매우 유사함"
      ],
      "metadata": {
        "id": "UXmz9oJ71KvI"
      }
    },
    {
      "cell_type": "code",
      "execution_count": null,
      "metadata": {
        "id": "OZ3me6n0zd85"
      },
      "outputs": [],
      "source": [
        "%matplotlib inline"
      ]
    },
    {
      "cell_type": "code",
      "source": [
        "# 텐서와 numpy 배열 사용을 위한 모듈 임포트(import)\n",
        "import torch\n",
        "import numpy as np"
      ],
      "metadata": {
        "id": "fbpqqjc-27zQ"
      },
      "execution_count": null,
      "outputs": []
    },
    {
      "cell_type": "markdown",
      "source": [
        "### [1] 텐서 초기화\n",
        "[1-1] 데이터로부터 직접 생성하기\n",
        "이때, 텐서의 자료형(data type)은 데이터로부터 자동으로 유추하여 생성합니다."
      ],
      "metadata": {
        "id": "jcXHBSNS3Oqh"
      }
    },
    {
      "cell_type": "code",
      "source": [
        "data = [[1, 2], [3, 4]]\n",
        "x_data = torch.tensor(data)\n",
        "print(x_data.type())"
      ],
      "metadata": {
        "id": "HVWSY8hc271d",
        "colab": {
          "base_uri": "https://localhost:8080/"
        },
        "outputId": "309cfb1d-23c5-44c3-c797-63aeb756e447"
      },
      "execution_count": null,
      "outputs": [
        {
          "output_type": "stream",
          "name": "stdout",
          "text": [
            "torch.LongTensor\n"
          ]
        }
      ]
    },
    {
      "cell_type": "code",
      "source": [
        "data2 = [[1.2, 2.6], [3.4, 4.2]]\n",
        "x_data2 = torch.tensor(data2)\n",
        "print(x_data2.type())"
      ],
      "metadata": {
        "id": "8Or_Zmoh273p",
        "colab": {
          "base_uri": "https://localhost:8080/"
        },
        "outputId": "92f5cc14-fa95-427f-c9bf-2bb8094103fa"
      },
      "execution_count": null,
      "outputs": [
        {
          "output_type": "stream",
          "name": "stdout",
          "text": [
            "torch.FloatTensor\n"
          ]
        }
      ]
    },
    {
      "cell_type": "markdown",
      "source": [
        "[1-2] NumPy 배열로부터 생성하기\n",
        "\n",
        "텐서는 NumPy 배열로 생성할 수 있습니다. (그 반대도 가능합니다.)\n"
      ],
      "metadata": {
        "id": "-y63iCsz5fr5"
      }
    },
    {
      "cell_type": "code",
      "source": [
        "np_array = np.array(data)\n",
        "x_np = torch.from_numpy(np_array)\n",
        "print(\"data\", data)\n",
        "print(x_np)"
      ],
      "metadata": {
        "colab": {
          "base_uri": "https://localhost:8080/"
        },
        "id": "VJA9MArg2777",
        "outputId": "755d0db6-b3ac-4787-bda0-0a3f282fbd63"
      },
      "execution_count": null,
      "outputs": [
        {
          "output_type": "stream",
          "name": "stdout",
          "text": [
            "data [[1, 2], [3, 4]]\n",
            "tensor([[1, 2],\n",
            "        [3, 4]])\n"
          ]
        }
      ]
    },
    {
      "cell_type": "code",
      "source": [
        "t = torch.ones(5)\n",
        "print(f\"t: {t}\")\n",
        "n = t.numpy()\n",
        "print(f\"n: {n}\")"
      ],
      "metadata": {
        "colab": {
          "base_uri": "https://localhost:8080/"
        },
        "id": "Tb_Q4PTV5l3C",
        "outputId": "0b84cf91-49cd-42da-99a7-d1ad61341c65"
      },
      "execution_count": null,
      "outputs": [
        {
          "output_type": "stream",
          "name": "stdout",
          "text": [
            "t: tensor([1., 1., 1., 1., 1.])\n",
            "n: [1. 1. 1. 1. 1.]\n"
          ]
        }
      ]
    },
    {
      "cell_type": "markdown",
      "source": [
        "[1-3] 다른 텐서로부터 생성하기\n",
        "\n",
        "명시적으로 재정의(override)하지 않는다면, 인자로 주어진 텐서의 속성(모양(shape), 자료형(datatype))을 유지합니다.\n",
        "\n"
      ],
      "metadata": {
        "id": "YXUNacXr1Ww9"
      }
    },
    {
      "cell_type": "code",
      "source": [
        "print(f\"Original Tensor: \\n {x_data} \\n\")\n",
        "\n",
        "x_ones = torch.ones_like(x_data) # x_data의 속성을 유지합니다.\n",
        "print(f\"Ones Tensor: \\n {x_ones} \\n\")\n",
        "\n",
        "x_rand = torch.rand_like(x_data, dtype=torch.float) # x_data의 속성을 덮어씁니다.\n",
        "print(f\"Random Tensor: \\n {x_rand} \\n\")\n"
      ],
      "metadata": {
        "colab": {
          "base_uri": "https://localhost:8080/"
        },
        "id": "AEvoAPyc6f3i",
        "outputId": "b3f985ce-af55-4322-97c5-deb498a01d57"
      },
      "execution_count": null,
      "outputs": [
        {
          "output_type": "stream",
          "name": "stdout",
          "text": [
            "Original Tensor: \n",
            " tensor([[1, 2],\n",
            "        [3, 4]]) \n",
            "\n",
            "Ones Tensor: \n",
            " tensor([[1, 1],\n",
            "        [1, 1]]) \n",
            "\n",
            "Random Tensor: \n",
            " tensor([[0.6433, 0.5576],\n",
            "        [0.6304, 0.7674]]) \n",
            "\n"
          ]
        }
      ]
    },
    {
      "cell_type": "markdown",
      "source": [
        "[1-4] 무작위(random) 또는 상수(constant) 값을 사용하기\n",
        "\n",
        "shape 은 텐서의 차원(dimension)을 나타내는 튜플(tuple)로, 아래 함수들에서는 출력 텐서의 차원을 결정합니다."
      ],
      "metadata": {
        "id": "nL1tUwCh6wRw"
      }
    },
    {
      "cell_type": "code",
      "source": [
        "shape = (2, 3,)\n",
        "rand_tensor = torch.rand(shape)\n",
        "ones_tensor = torch.ones(shape)\n",
        "zeros_tensor = torch.zeros(shape)\n",
        "\n",
        "print(f\"Random Tensor: \\n {rand_tensor} \\n\")\n",
        "print(f\"Ones Tensor: \\n {ones_tensor} \\n\")\n",
        "print(f\"Zeros Tensor: \\n {zeros_tensor}\")\n"
      ],
      "metadata": {
        "colab": {
          "base_uri": "https://localhost:8080/"
        },
        "id": "_PFrKZrM6tg2",
        "outputId": "e3a1e73c-262a-43f6-c0e8-4b6085c71de6"
      },
      "execution_count": null,
      "outputs": [
        {
          "output_type": "stream",
          "name": "stdout",
          "text": [
            "Random Tensor: \n",
            " tensor([[0.6172, 0.9820, 0.1864],\n",
            "        [0.8518, 0.9221, 0.8901]]) \n",
            "\n",
            "Ones Tensor: \n",
            " tensor([[1., 1., 1.],\n",
            "        [1., 1., 1.]]) \n",
            "\n",
            "Zeros Tensor: \n",
            " tensor([[0., 0., 0.],\n",
            "        [0., 0., 0.]])\n"
          ]
        }
      ]
    },
    {
      "cell_type": "markdown",
      "source": [
        "### [2] 텐서의 속성(Attribute)\n",
        "\n",
        "\n",
        "텐서의 속성은 텐서의 모양(shape), 자료형(datatype) 및 어느 장치에 저장되는지를 나타냅니다."
      ],
      "metadata": {
        "id": "bRuHzkcd64hH"
      }
    },
    {
      "cell_type": "code",
      "source": [
        "tensor = torch.rand(3, 4)\n",
        "\n",
        "print(f\"Shape of tensor: {tensor.shape}\")\n",
        "print(f\"Datatype of tensor: {tensor.dtype}\")\n",
        "print(f\"Device tensor is stored on: {tensor.device}\")\n"
      ],
      "metadata": {
        "colab": {
          "base_uri": "https://localhost:8080/"
        },
        "id": "X5Zi6aAm7T-Q",
        "outputId": "80c4ceea-6bbc-4638-c5d1-4b54cb0b51bf"
      },
      "execution_count": null,
      "outputs": [
        {
          "output_type": "stream",
          "name": "stdout",
          "text": [
            "Shape of tensor: torch.Size([3, 4])\n",
            "Datatype of tensor: torch.float32\n",
            "Device tensor is stored on: cpu\n"
          ]
        }
      ]
    },
    {
      "cell_type": "markdown",
      "source": [
        "### [3] 텐서 연산(Operation)\n",
        "\n",
        "전치(transposing), 인덱싱(indexing), 슬라이싱(slicing), 수학 계산, 선형 대수, 임의 샘플링(random sampling) 등, 100가지 이상의 텐서 연산이 존재합니다.\n",
        "\n",
        "각 연산들은 (일반적으로 CPU보다 빠른) GPU에서 실행할 수 있습니다. \n",
        "\n",
        "### 런타임 -> 런타임 유형 변경 -> GPU\n",
        "### 런타임 변경 후, 런타임-> 모두 실행"
      ],
      "metadata": {
        "id": "W-rQgr2Q7PkQ"
      }
    },
    {
      "cell_type": "code",
      "source": [
        "# GPU가 존재하면 텐서를 이동합니다\n",
        "if torch.cuda.is_available():\n",
        "  tensor = tensor.to('cuda')\n",
        "  print(f\"Device tensor is stored on: {tensor.device}\")\n"
      ],
      "metadata": {
        "colab": {
          "base_uri": "https://localhost:8080/"
        },
        "id": "oc6V_UTP7cEP",
        "outputId": "977d5118-68e9-4afb-c992-28a7253549c7"
      },
      "execution_count": null,
      "outputs": [
        {
          "output_type": "stream",
          "name": "stdout",
          "text": [
            "Device tensor is stored on: cuda:0\n"
          ]
        }
      ]
    },
    {
      "cell_type": "markdown",
      "source": [
        "[3-1] NumPy식의 표준 인덱싱과 슬라이싱"
      ],
      "metadata": {
        "id": "1LGDtPum8akY"
      }
    },
    {
      "cell_type": "code",
      "source": [
        "tensor = torch.ones(4, 4)\n",
        "print(\"4x4 tensor 값을 1로 초기화 \\n\", tensor)\n",
        "\n",
        "tensor[:,1] = 0\n",
        "print(\"\\n 모든 행의 1열 값을 0으로 바꾸기\\n\", tensor)\n",
        "\n",
        "\n",
        "tensor[0,:] = -1\n",
        "print(\"\\n 0열의 모든 행 값을 -1로 바꾸기\\n\", tensor)"
      ],
      "metadata": {
        "colab": {
          "base_uri": "https://localhost:8080/"
        },
        "id": "1KdtffPg8Yfe",
        "outputId": "dfa88576-3363-4409-a493-53fc91f3853a"
      },
      "execution_count": null,
      "outputs": [
        {
          "output_type": "stream",
          "name": "stdout",
          "text": [
            "4x4 tensor 값을 1로 초기화 \n",
            " tensor([[1., 1., 1., 1.],\n",
            "        [1., 1., 1., 1.],\n",
            "        [1., 1., 1., 1.],\n",
            "        [1., 1., 1., 1.]])\n",
            "\n",
            " 모든 행의 1열 값을 0으로 바꾸기\n",
            " tensor([[1., 0., 1., 1.],\n",
            "        [1., 0., 1., 1.],\n",
            "        [1., 0., 1., 1.],\n",
            "        [1., 0., 1., 1.]])\n",
            "\n",
            " 0열의 모든 행 값을 -1로 바꾸기\n",
            " tensor([[-1., -1., -1., -1.],\n",
            "        [ 1.,  0.,  1.,  1.],\n",
            "        [ 1.,  0.,  1.,  1.],\n",
            "        [ 1.,  0.,  1.,  1.]])\n"
          ]
        }
      ]
    },
    {
      "cell_type": "markdown",
      "source": [
        "[3-2] 텐서 합치기 \n",
        "\n",
        "torch.cat 을 사용하여 주어진 차원에 따라 일련의 텐서를 연결할 수 있습니다. "
      ],
      "metadata": {
        "id": "_27nF_4G8P3v"
      }
    },
    {
      "cell_type": "code",
      "source": [
        "print(tensor)\n",
        "t1 = torch.cat([tensor, tensor, tensor], dim=1)\n",
        "print(\"\\n torch.cat\\n\", t1)\n",
        "\n",
        "t2 = torch.stack([tensor, tensor, tensor], dim=1)\n",
        "print(\"\\n torch.stack\\n\", t2)"
      ],
      "metadata": {
        "colab": {
          "base_uri": "https://localhost:8080/"
        },
        "id": "TScy_vJD9QfB",
        "outputId": "1ec6e964-68cb-4678-9ab2-0cd42a5a84ea"
      },
      "execution_count": null,
      "outputs": [
        {
          "output_type": "stream",
          "name": "stdout",
          "text": [
            "tensor([[-1., -1., -1., -1.],\n",
            "        [ 1.,  0.,  1.,  1.],\n",
            "        [ 1.,  0.,  1.,  1.],\n",
            "        [ 1.,  0.,  1.,  1.]])\n",
            "\n",
            " torch.cat\n",
            " tensor([[-1., -1., -1., -1., -1., -1., -1., -1., -1., -1., -1., -1.],\n",
            "        [ 1.,  0.,  1.,  1.,  1.,  0.,  1.,  1.,  1.,  0.,  1.,  1.],\n",
            "        [ 1.,  0.,  1.,  1.,  1.,  0.,  1.,  1.,  1.,  0.,  1.,  1.],\n",
            "        [ 1.,  0.,  1.,  1.,  1.,  0.,  1.,  1.,  1.,  0.,  1.,  1.]])\n",
            "\n",
            " torch.stack\n",
            " tensor([[[-1., -1., -1., -1.],\n",
            "         [-1., -1., -1., -1.],\n",
            "         [-1., -1., -1., -1.]],\n",
            "\n",
            "        [[ 1.,  0.,  1.,  1.],\n",
            "         [ 1.,  0.,  1.,  1.],\n",
            "         [ 1.,  0.,  1.,  1.]],\n",
            "\n",
            "        [[ 1.,  0.,  1.,  1.],\n",
            "         [ 1.,  0.,  1.,  1.],\n",
            "         [ 1.,  0.,  1.,  1.]],\n",
            "\n",
            "        [[ 1.,  0.,  1.,  1.],\n",
            "         [ 1.,  0.,  1.,  1.],\n",
            "         [ 1.,  0.,  1.,  1.]]])\n"
          ]
        }
      ]
    },
    {
      "cell_type": "code",
      "source": [
        "t1 = torch.cat([tensor, tensor, tensor], dim=1)\n",
        "\n",
        "t2 = torch.stack([tensor, tensor, tensor], dim=1)\n"
      ],
      "metadata": {
        "id": "VyDrJj88GopL"
      },
      "execution_count": null,
      "outputs": []
    },
    {
      "cell_type": "markdown",
      "source": [
        "[3-3] 텐서 곱하기\n",
        "\n",
        "a.  요소별 곱(element-wise product)을 계산합니다"
      ],
      "metadata": {
        "id": "MeEzuRfs-AD7"
      }
    },
    {
      "cell_type": "code",
      "source": [
        "tensor = torch.ones(4, 4)\n",
        "tensor[:,1] = 0\n",
        "\n",
        "print(f\"tensor.mul(tensor) \\n {tensor.mul(tensor)} \\n\")\n",
        "# 다른 문법:\n",
        "print(f\"tensor * tensor \\n {tensor * tensor}\")"
      ],
      "metadata": {
        "colab": {
          "base_uri": "https://localhost:8080/"
        },
        "id": "nRM6a4K99Zi3",
        "outputId": "96e8410a-f2d6-4f50-92cf-a231bb568512"
      },
      "execution_count": null,
      "outputs": [
        {
          "output_type": "stream",
          "name": "stdout",
          "text": [
            "tensor.mul(tensor) \n",
            " tensor([[1., 0., 1., 1.],\n",
            "        [1., 0., 1., 1.],\n",
            "        [1., 0., 1., 1.],\n",
            "        [1., 0., 1., 1.]]) \n",
            "\n",
            "tensor * tensor \n",
            " tensor([[1., 0., 1., 1.],\n",
            "        [1., 0., 1., 1.],\n",
            "        [1., 0., 1., 1.],\n",
            "        [1., 0., 1., 1.]])\n"
          ]
        }
      ]
    },
    {
      "cell_type": "markdown",
      "source": [
        "b. 두 텐서 간의 행렬 곱(matrix multiplication)을 계산합니다\n"
      ],
      "metadata": {
        "id": "eGNgeKl6-bYd"
      }
    },
    {
      "cell_type": "code",
      "source": [
        "print(f\"tensor.matmul(tensor.T) \\n {tensor.matmul(tensor.T)} \\n\")\n",
        "# 다른 문법:\n",
        "print(f\"tensor @ tensor.T \\n {tensor @ tensor.T}\")\n"
      ],
      "metadata": {
        "colab": {
          "base_uri": "https://localhost:8080/"
        },
        "id": "nK3yi1cw-tNr",
        "outputId": "fe37640b-e6a5-4b92-fa21-ec92039e3b27"
      },
      "execution_count": null,
      "outputs": [
        {
          "output_type": "stream",
          "name": "stdout",
          "text": [
            "tensor.matmul(tensor.T) \n",
            " tensor([[3., 3., 3., 3.],\n",
            "        [3., 3., 3., 3.],\n",
            "        [3., 3., 3., 3.],\n",
            "        [3., 3., 3., 3.]]) \n",
            "\n",
            "tensor @ tensor.T \n",
            " tensor([[3., 3., 3., 3.],\n",
            "        [3., 3., 3., 3.],\n",
            "        [3., 3., 3., 3.],\n",
            "        [3., 3., 3., 3.]])\n"
          ]
        }
      ]
    },
    {
      "cell_type": "markdown",
      "source": [
        "[3-4] 바꿔치기(in-place) 연산 \n",
        "\n",
        "_ 접미사를 갖는 연산들은 바꿔치기(in-place) 연산입니다. \n",
        "\n",
        "예를 들어: x.copy_() 나 x.t_() 는 x 를 변경합니다.\n",
        "\n",
        "\n",
        "바꿔치기 연산은 메모리를 일부 절약하지만, 기록(history)이 즉시 삭제되어 도함수(derivative) 계산에 문제가 발생할 수 있습니다. \n",
        "\n",
        "따라서, 사용을 권장하지 않습니다."
      ],
      "metadata": {
        "id": "7J5VH5DX-2LH"
      }
    },
    {
      "cell_type": "code",
      "source": [
        "print(\"바꿔치기 연산 전 \\n\", tensor, \"\\n\")\n",
        "tensor.add_(5)\n",
        "print(\"바꿔치기 연산 후 \\n\", tensor)"
      ],
      "metadata": {
        "colab": {
          "base_uri": "https://localhost:8080/"
        },
        "id": "9KgcGD6i-9Mi",
        "outputId": "1051cfd6-e569-4dc6-df63-989fb4947635"
      },
      "execution_count": null,
      "outputs": [
        {
          "output_type": "stream",
          "name": "stdout",
          "text": [
            "바꿔치기 연산 전 \n",
            " tensor([[1., 0., 1., 1.],\n",
            "        [1., 0., 1., 1.],\n",
            "        [1., 0., 1., 1.],\n",
            "        [1., 0., 1., 1.]]) \n",
            "\n",
            "바꿔치기 연산 후 \n",
            " tensor([[6., 5., 6., 6.],\n",
            "        [6., 5., 6., 6.],\n",
            "        [6., 5., 6., 6.],\n",
            "        [6., 5., 6., 6.]])\n"
          ]
        }
      ]
    },
    {
      "cell_type": "markdown",
      "source": [
        "[3-5] squeeze 연산\n",
        "\n",
        "tensor dimension 중 size 1인 dimension을 제거합니다.\n",
        "\n",
        "\n",
        "예를 들어, (A x 1 x B x 1 x C) shape을 가진 텐서에 squeeze 연산을 적용하면,\n",
        "(A x B x C) shape만 남게 됩니다.\n",
        "\n",
        "\n",
        "\n",
        "dimension을 지정해주면, 특정 dimension에만 적용가능합니다."
      ],
      "metadata": {
        "id": "uczVycguAXaC"
      }
    },
    {
      "cell_type": "code",
      "source": [
        "x = torch.zeros(2, 1, 2, 1, 2)\n",
        "print(\" squeeze 연산 전 : \\n\", x.shape)\n",
        "\n",
        "y = torch.squeeze(x)\n",
        "print(\"\\n squeeze 연산 후 : \\n\", y.shape)\n",
        "\n",
        "z = torch.squeeze(x, dim=1)\n",
        "print(\"\\n 특정 dimension에만 squeeze 연산 후 : \\n\", z.shape)"
      ],
      "metadata": {
        "colab": {
          "base_uri": "https://localhost:8080/"
        },
        "id": "nN_ve-4_A2XK",
        "outputId": "f345a5bd-9d24-4456-e99d-46a750049755"
      },
      "execution_count": null,
      "outputs": [
        {
          "output_type": "stream",
          "name": "stdout",
          "text": [
            " squeeze 연산 전 : \n",
            " torch.Size([2, 1, 2, 1, 2])\n",
            "\n",
            " squeeze 연산 후 : \n",
            " torch.Size([2, 2, 2])\n",
            "\n",
            " 특정 dimension에만 squeeze 연산 후 : \n",
            " torch.Size([2, 2, 1, 2])\n"
          ]
        }
      ]
    },
    {
      "cell_type": "markdown",
      "source": [
        "[3-6] unsqueeze 연산\n",
        "\n",
        "특정 위치에 크기가 1인 텐서를 생성합니다."
      ],
      "metadata": {
        "id": "dBwBrpVECCZr"
      }
    },
    {
      "cell_type": "code",
      "source": [
        "x = torch.tensor([1, 2, 3, 4])\n",
        "print(\" unsqueeze 연산 전 : \\n\", x.shape)\n",
        "\n",
        "\n",
        "y = torch.unsqueeze(x, dim=0)\n",
        "print(\"\\n dimension 0에 unsqueeze 연산 후 : \\n\", y.shape)\n",
        "\n",
        "\n",
        "z = torch.unsqueeze(x, dim=1)\n",
        "print(\"\\n dimension 1에 unsqueeze 연산 후 : \\n\", z.shape)"
      ],
      "metadata": {
        "colab": {
          "base_uri": "https://localhost:8080/"
        },
        "id": "73JjfG_CCUIU",
        "outputId": "457f6016-10b1-48f7-f447-dc96b20dc162"
      },
      "execution_count": null,
      "outputs": [
        {
          "output_type": "stream",
          "name": "stdout",
          "text": [
            " unsqueeze 연산 전 : \n",
            " torch.Size([4])\n",
            "\n",
            " dimension 0에 unsqueeze 연산 후 : \n",
            " torch.Size([1, 4])\n",
            "\n",
            " dimension 1에 unsqueeze 연산 후 : \n",
            " torch.Size([4, 1])\n"
          ]
        }
      ]
    },
    {
      "cell_type": "code",
      "source": [
        "x = torch.tensor([1, 2, 3, 4])\n",
        "\n",
        "y = torch.unsqueeze(x, dim=0)\n",
        "\n",
        "z = torch.unsqueeze(x, dim=1)"
      ],
      "metadata": {
        "id": "6davuMCJISV-"
      },
      "execution_count": null,
      "outputs": []
    },
    {
      "cell_type": "markdown",
      "source": [
        "### [4] NumPy 변환(Bridge)\n",
        "\n",
        "CPU 상의 텐서와 NumPy 배열은 메모리 공간을 공유하기 때문에, 하나를 변경하면 다른 하나도 변경됩니다.\n",
        "\n",
        "\n",
        "[4-1] 텐서를 NumPy 배열로 변환하기"
      ],
      "metadata": {
        "id": "cMAQ3Z3X8HoY"
      }
    },
    {
      "cell_type": "code",
      "source": [
        "t = torch.ones(5)\n",
        "print(f\"tensor t:\\n {t}\\n\")\n",
        "n = t.numpy()\n",
        "print(f\"numpy n:\\n {n}\")"
      ],
      "metadata": {
        "colab": {
          "base_uri": "https://localhost:8080/"
        },
        "id": "jfBkvK8l-aqa",
        "outputId": "41d3e283-674b-42ff-96f4-6e85a0b952e6"
      },
      "execution_count": null,
      "outputs": [
        {
          "output_type": "stream",
          "name": "stdout",
          "text": [
            "tensor t:\n",
            " tensor([1., 1., 1., 1., 1.])\n",
            "\n",
            "numpy n:\n",
            " [1. 1. 1. 1. 1.]\n"
          ]
        }
      ]
    },
    {
      "cell_type": "markdown",
      "source": [
        "[4-2] 텐서의 변경 사항이 NumPy 배열에 반영됩니다."
      ],
      "metadata": {
        "id": "m4VnSL6R_lGs"
      }
    },
    {
      "cell_type": "code",
      "source": [
        "t.add_(1)\n",
        "print(f\"tensor t:\\n {t}\")\n",
        "print(f\"numpy n:\\n {n}\")"
      ],
      "metadata": {
        "colab": {
          "base_uri": "https://localhost:8080/"
        },
        "id": "q4jrc_Ve_zSx",
        "outputId": "d3fe8d7a-1329-4f21-b7a4-a00fccd4cf1e"
      },
      "execution_count": null,
      "outputs": [
        {
          "output_type": "stream",
          "name": "stdout",
          "text": [
            "tensor t:\n",
            " tensor([2., 2., 2., 2., 2.])\n",
            "numpy n:\n",
            " [2. 2. 2. 2. 2.]\n"
          ]
        }
      ]
    },
    {
      "cell_type": "markdown",
      "source": [
        "[4-3] NumPy 배열을 텐서로 변환하기"
      ],
      "metadata": {
        "id": "594HvU1J_5iM"
      }
    },
    {
      "cell_type": "code",
      "source": [
        "n = np.ones(5)\n",
        "print(f\"numpy n:\\n {n}\\n\")\n",
        "t = torch.from_numpy(n)\n",
        "print(f\"tensor t:\\n {t}\")"
      ],
      "metadata": {
        "colab": {
          "base_uri": "https://localhost:8080/"
        },
        "id": "j4Ikz5ky_1FQ",
        "outputId": "34c88b61-523e-4f9d-9a88-94d28ebacfe6"
      },
      "execution_count": null,
      "outputs": [
        {
          "output_type": "stream",
          "name": "stdout",
          "text": [
            "numpy n:\n",
            " [1. 1. 1. 1. 1.]\n",
            "\n",
            "tensor t:\n",
            " tensor([1., 1., 1., 1., 1.], dtype=torch.float64)\n"
          ]
        }
      ]
    },
    {
      "cell_type": "markdown",
      "source": [
        "[4-4] NumPy 배열의 변경 사항이 텐서에 반영됩니다."
      ],
      "metadata": {
        "id": "e60ftL9AADab"
      }
    },
    {
      "cell_type": "code",
      "source": [
        "np.add(n, 1, out=n)\n",
        "print(f\"tensor t:\\n {t}\")\n",
        "print(f\"numpy n:\\n {n}\")"
      ],
      "metadata": {
        "colab": {
          "base_uri": "https://localhost:8080/"
        },
        "id": "Ua3oqc6QAAcB",
        "outputId": "7c634bdc-ca95-4580-b78d-cc78f1229142"
      },
      "execution_count": null,
      "outputs": [
        {
          "output_type": "stream",
          "name": "stdout",
          "text": [
            "tensor t:\n",
            " tensor([2., 2., 2., 2., 2.], dtype=torch.float64)\n",
            "numpy n:\n",
            " [2. 2. 2. 2. 2.]\n"
          ]
        }
      ]
    },
    {
      "cell_type": "markdown",
      "source": [
        "------------------------------------------------------------\n",
        "#### [5] Exercise\n",
        "\n",
        "#### * [5-1] torch.cat 을 이용해서, (8,4) 크기의 텐서를 생성해봅시다.\n",
        "\n",
        " 힌트 : answer = torch.cat([tensor, tensor], dim=1)\n",
        "\n",
        "\n",
        "이때, tensor의 크기와 dim에 알맞는 수를 넣어야합니다.\n",
        "\n",
        "row, col, concat_dim에 알맞는 정수를 입력하세요.\n",
        "\n",
        "\n",
        "```\n",
        "# 원하는 결과\n",
        "torch.Size([8, 4])\n",
        "tensor([[1., 1., 1., 1.],\n",
        "        [1., 1., 1., 1.],\n",
        "        [1., 1., 1., 1.],\n",
        "        [1., 1., 1., 1.],\n",
        "        [1., 1., 1., 1.],\n",
        "        [1., 1., 1., 1.],\n",
        "        [1., 1., 1., 1.],\n",
        "        [1., 1., 1., 1.]])\n",
        "```\n",
        "\n"
      ],
      "metadata": {
        "id": "GEUoQasWACpr"
      }
    },
    {
      "cell_type": "code",
      "source": [
        "row = ? # 알맞는 수를 입력하세요\n",
        "col = ? # 알맞는 수를 입력하세요\n",
        "concat_dim = ? # 알맞는 수를 입력하세요 (0 또는 1)\n",
        "\n",
        "tensor = torch.ones(row,col)\n",
        "print(tensor.shape)\n",
        "print(tensor)\n",
        "\n",
        "answer = torch.cat([tensor, tensor], dim=concat_dim)\n",
        "print(answer.shape)\n",
        "print(answer)"
      ],
      "metadata": {
        "colab": {
          "base_uri": "https://localhost:8080/"
        },
        "id": "_lsrK-aERBPS",
        "outputId": "8376ccca-ce7f-4b1e-cffc-267ef3593b6e"
      },
      "execution_count": null,
      "outputs": [
        {
          "output_type": "stream",
          "name": "stdout",
          "text": [
            "torch.Size([1, 1])\n",
            "tensor([[1.]])\n",
            "torch.Size([1, 2])\n",
            "tensor([[1., 1.]])\n"
          ]
        }
      ]
    },
    {
      "cell_type": "markdown",
      "source": [
        "#### * [5-2] 텐서의 dimension을 바꿔봅시다.\n",
        "\n",
        "텐서 a의 크기는 (1,2,4,5,1)입니다. (1,2,1,4,5)로 바꿔봅시다.\n",
        "힌트 : squeeze 연산을 통해 (1,2,4,5) 크기로 변환한 후,\n",
        " unsqueeze 연산으로 dimension을 추가해서 (1,2,1,4,5)를 만듭니다."
      ],
      "metadata": {
        "id": "qWs9vtChSerV"
      }
    },
    {
      "cell_type": "code",
      "source": [
        "a = torch.Tensor(1,2,4,5,1)\n",
        "print(a.shape)\n",
        "\n",
        "# 물음표에 알맞은 수를 넣어주세요.\n",
        "a = torch.squeeze(a, dim=?) # 이 곳을 수정하시면 됩니다.\n",
        "print(a.shape)\n",
        "\n",
        "a = torch.unsqueeze(a, dim=?) # 이 곳을 수정하시면 됩니다.\n",
        "print(a.shape)"
      ],
      "metadata": {
        "id": "iFEbPpatSp1L",
        "colab": {
          "base_uri": "https://localhost:8080/"
        },
        "outputId": "a2571a95-d553-4a1e-af0b-823ec06316c0"
      },
      "execution_count": null,
      "outputs": [
        {
          "output_type": "stream",
          "name": "stdout",
          "text": [
            "torch.Size([1, 2, 4, 5, 1])\n",
            "torch.Size([1, 2, 4, 5, 1])\n",
            "torch.Size([1, 1, 2, 4, 5, 1])\n"
          ]
        }
      ]
    }
  ]
}