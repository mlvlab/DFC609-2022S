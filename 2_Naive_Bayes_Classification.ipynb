{
  "cells": [
    {
      "cell_type": "markdown",
      "metadata": {
        "id": "zOgE_hxI--32"
      },
      "source": [
        "# Naive Bayes Classification\n",
        " \n",
        "\n",
        "Naive Bayes Classification 은 모든 특성 값이 서로 독립임을 가정하여, 특성들 사이에서의 발생할 수 있는 연관성을 배제하고 각각의 특성이 분류할 대상에 대해 독립적으로 기여할 수 있도록 한다. 베이즈 정리와 조건부 확률을 이용하여 다음과 같이 사후 확률 (Posterior)에 대하여 사전 확률 (Prior) 과 우도 (Likelihood) 로 표현할 수 있다. \n",
        "\n",
        "* \\\\( \\hat{y} = \\text{argmax}_y p(y | X) \\\\)  \n",
        "* \\\\( p(y|X) = \\frac{p( \\mathbf{X} | y) p(y)}{p(\\mathbf{X})} \\\\)  \n",
        "    * 사전 확률 (Prior Probability) : \\\\( p(y) \\\\)\n",
        "    * 우도 (Likelihood Probability) : \\\\( p(X | y) =  \\prod_i p(x_i | y) p(y) \\;  \\\\)   \n",
        "    * 사후 확률 (Posterior Probability) : \\\\( p(y | X)  \\\\)\n",
        "    \n",
        "(Naive Bayes Classifier : https://en.wikipedia.org/wiki/Naive_Bayes_classifier)"
      ]
    },
    {
      "cell_type": "markdown",
      "metadata": {
        "id": "BsNI-YWH--34"
      },
      "source": [
        "#### < 예제 > Naive Bayes Classification 을 이용한 Spam filter\n",
        "\n",
        "* 조건\n",
        "\n",
        "    * 스팸 필터링을 위한 Naive Bayes model 의 독립 변수 (V)\n",
        "        * V = ”secret”, ”offer”, ”low”, ”price”, ”valued”, ”customer”, ”today”, ”dollar”, ”million”, ”sports”, ”is”, ”for”, ”play”, ”healthy”, ”pizza”\n",
        "\n",
        "    * 주어진 학습 데이터 (스팸 메시지 3개, 정상 메시지 4개)\n",
        "        * 스팸 메시지 = ”million dollar offer”, ”secret offer today”, ”secret is secret”\n",
        "        * 정상 메시지 = ”low price for valued customer”, ”play secret sports today”, ”sports is healthy”, ”low price pizza”\n",
        "\n",
        "\n",
        "*  Naive Bayes model 과 학습 데이터로 제공된 메시지를 이용하여 각각의 확률을 계산\n",
        "    * P(secret|spam) := Nd(secret,spam) / Nd(spam) = 2/3\n",
        "    * P(spam) = ?\n",
        "    * P(sports|non-spam) = ? \n",
        "    * P(dollar|spam) = ?\n",
        "    * P(“sports is healthy”|spam) = ? \n",
        "    * P(“sports is healthy”|non-spam) = ?\n",
        "    * P(spam|“sports is healthy”) = ? \n",
        "    * P(non-spam|“sports is healthy”) = ? \n",
        "\n",
        "\n",
        "* 학습된 Naive Bayes model 을 이용하여 스팸 메시지와 정상 메시지를 구분하는 코드 구현\n",
        "    * \\\\( p(y|X) = \\frac{p( \\mathbf{X} | y) p(y)}{p(\\mathbf{X})} \\\\)\n",
        "    * matplotlib 라이브러리를 이용하여 visualization\n",
        "      \n",
        " \n"
      ]
    },
    {
      "cell_type": "code",
      "execution_count": 1,
      "metadata": {
        "id": "W01g_zLH--36"
      },
      "outputs": [],
      "source": [
        "import numpy as np"
      ]
    },
    {
      "cell_type": "code",
      "execution_count": 2,
      "metadata": {
        "id": "g7pbKAYS--36"
      },
      "outputs": [],
      "source": [
        "# Naive bayes model\n",
        "\n",
        "V = [\"secret\", \"offer\", \"low\", \"price\", \"valued\", \"customer\", \"today\", \"dollar\", \"million\", \"sports\", \"is\", \"for\", \"play\", \"healthy\", \"pizza\"]"
      ]
    },
    {
      "cell_type": "code",
      "execution_count": 3,
      "metadata": {
        "id": "JFdXnzba--37"
      },
      "outputs": [],
      "source": [
        "# 단어 별 인덱스 추가\n",
        "\n",
        "v_idx_mapping = {}\n",
        "for i, word in enumerate(V):\n",
        "    v_idx_mapping[word] = i\n"
      ]
    },
    {
      "cell_type": "code",
      "execution_count": 4,
      "metadata": {
        "scrolled": true,
        "id": "vb7qqaIW--37",
        "outputId": "fa35e7fe-61f6-4587-bef1-90b7bc6473fe",
        "colab": {
          "base_uri": "https://localhost:8080/"
        }
      },
      "outputs": [
        {
          "output_type": "execute_result",
          "data": {
            "text/plain": [
              "{'secret': 0,\n",
              " 'offer': 1,\n",
              " 'low': 2,\n",
              " 'price': 3,\n",
              " 'valued': 4,\n",
              " 'customer': 5,\n",
              " 'today': 6,\n",
              " 'dollar': 7,\n",
              " 'million': 8,\n",
              " 'sports': 9,\n",
              " 'is': 10,\n",
              " 'for': 11,\n",
              " 'play': 12,\n",
              " 'healthy': 13,\n",
              " 'pizza': 14}"
            ]
          },
          "metadata": {},
          "execution_count": 4
        }
      ],
      "source": [
        "v_idx_mapping"
      ]
    },
    {
      "cell_type": "code",
      "execution_count": 5,
      "metadata": {
        "id": "hik6e7UE--37"
      },
      "outputs": [],
      "source": [
        "# 주어진 학습 데이터 \n",
        "# 스팸 메시지 : spam_msgs\n",
        "# 정상 메시지 : ham_msgs \n",
        "\n",
        "spam_msgs = [\"million dollar offer\", \"secret offer today\", \"secret is secret\"]\n",
        "ham_msgs = [\"low price for valued customer offer\", \"play secret sports today\", \"sports is healthy\", \"low price pizza\"]\n",
        "\n",
        "# ' '.join(spam_msgs)\n",
        "# TEXT.split(' ')\n",
        "\n",
        "# msgs = spam_msgs + ham_msgs\n",
        "# words = ' '.join(msgs).split(' ')\n",
        "# words = list(set(words))\n",
        "# print(len(words))\n"
      ]
    },
    {
      "cell_type": "code",
      "execution_count": 6,
      "metadata": {
        "id": "UELENA_g--38",
        "colab": {
          "base_uri": "https://localhost:8080/"
        },
        "outputId": "facb063b-25be-4240-b357-18e986432314"
      },
      "outputs": [
        {
          "output_type": "stream",
          "name": "stdout",
          "text": [
            "[{'offer', 'million', 'dollar'}, {'offer', 'secret', 'today'}, {'is', 'secret'}]\n"
          ]
        }
      ],
      "source": [
        "table = np.zeros([2, len(V)])\n",
        "\n",
        "# 주어진 메시지를 단어 단위로 구분\n",
        "# 중복 단어 제거 \n",
        "\n",
        "spam_list = [ set(spam_msg.split(' ')) for spam_msg in spam_msgs ]\n",
        "ham_list = [ set(ham_msg.split(' ')) for ham_msg in ham_msgs ]\n",
        "print(spam_list)"
      ]
    },
    {
      "cell_type": "code",
      "execution_count": 7,
      "metadata": {
        "id": "Uz4nbXEY--38"
      },
      "outputs": [],
      "source": [
        "# 스팸 메시지와 정상 메시지를 구성하는 단어의 수를 계산하여 Table 에 입력\n",
        "# 스팸 : [0, :] / 정상 : [1, :]\n",
        "\n",
        "for i, word in enumerate(V):\n",
        "    for spam_msg in spam_list:\n",
        "        table[0][v_idx_mapping[word]] += word in spam_msg\n",
        "    \n",
        "    for ham_msg in ham_list:\n",
        "        table[1][i] += word in ham_msg"
      ]
    },
    {
      "cell_type": "code",
      "execution_count": 8,
      "metadata": {
        "id": "4llhOnr6--38",
        "outputId": "f84f0992-4256-4ccc-cbfd-b90a6093546c",
        "colab": {
          "base_uri": "https://localhost:8080/"
        }
      },
      "outputs": [
        {
          "output_type": "execute_result",
          "data": {
            "text/plain": [
              "array([[2., 2., 0., 0., 0., 0., 1., 1., 1., 0., 1., 0., 0., 0., 0.],\n",
              "       [1., 1., 2., 2., 1., 1., 1., 0., 0., 2., 1., 1., 1., 1., 1.]])"
            ]
          },
          "metadata": {},
          "execution_count": 8
        }
      ],
      "source": [
        "# y label : 스팸 메시지, 정상 메시지\n",
        "# X data : Naive Bayes model (V)\n",
        "# tabel : 학습 데이터로부터 계산한 스팸 메시지와 정상 메시지의 단어 수\n",
        "\n",
        "table"
      ]
    },
    {
      "cell_type": "code",
      "execution_count": 9,
      "metadata": {
        "id": "MAaATd8A--39"
      },
      "outputs": [],
      "source": [
        "# num_spam : 스팸 메시지 수\n",
        "# num_ham : 정상 메시지 수\n",
        "# num_total : 총 메시지 수\n",
        "\n",
        "num_spam = len(spam_msgs)\n",
        "num_ham = len(ham_msgs)\n",
        "num_total = num_ham + num_spam\n",
        "\n",
        "\n",
        "# 사전 확률 (prior) : P(spam), P(ham) \n",
        "\n",
        "p_spam = num_spam / num_total # P(Spam) = 3/7\n",
        "p_ham = num_ham / num_total # P(Non-Spam) = 4/7"
      ]
    },
    {
      "cell_type": "code",
      "execution_count": 10,
      "metadata": {
        "id": "XokMA0Pn--39",
        "outputId": "f82bbaf7-6681-4f36-c061-0b0d375d74b1",
        "colab": {
          "base_uri": "https://localhost:8080/"
        }
      },
      "outputs": [
        {
          "output_type": "stream",
          "name": "stdout",
          "text": [
            "\n",
            "P(Xi | y) : \n",
            " [[0.66666667 0.66666667 0.         0.         0.         0.\n",
            "  0.33333333 0.33333333 0.33333333 0.         0.33333333 0.\n",
            "  0.         0.         0.        ]\n",
            " [0.25       0.25       0.5        0.5        0.25       0.25\n",
            "  0.25       0.         0.         0.5        0.25       0.25\n",
            "  0.25       0.25       0.25      ]]\n",
            "P(y) : \n",
            " [0.42857143 0.57142857]\n"
          ]
        }
      ],
      "source": [
        "\n",
        "p_xi_y = table / np.array([num_spam, num_ham]).reshape(2, 1)\n",
        "p_y = np.array([num_spam, num_ham]) / num_total\n",
        "\n",
        "print('\\nP(Xi | y) : \\n', p_xi_y)\n",
        "print('P(y) : \\n', p_y)"
      ]
    },
    {
      "cell_type": "code",
      "execution_count": 11,
      "metadata": {
        "id": "G2TPU6Sb--39",
        "outputId": "0d2e1fb4-3e57-4489-e320-678f6b196f9c",
        "colab": {
          "base_uri": "https://localhost:8080/"
        }
      },
      "outputs": [
        {
          "output_type": "stream",
          "name": "stdout",
          "text": [
            "P(secret|spam):  0.6666666666666666\n",
            "P(spam):  0.42857142857142855\n",
            "P(sports|non-spam):  0.5\n",
            "P(dollar|spam):  0.3333333333333333\n"
          ]
        }
      ],
      "source": [
        "# P(secret|spam) = Nd(secret, spam) / Nd(spam) = 2/3\n",
        "print('P(secret|spam): ', table[0][v_idx_mapping['secret']]/num_spam)\n",
        "print('P(spam): ', p_spam)\n",
        "\n",
        "p_xi_ham = table[1][v_idx_mapping['sports']]/num_ham\n",
        "p_xi_spam = table[0][v_idx_mapping['dollar']]/num_spam\n",
        "print('P(sports|non-spam): ', p_xi_ham)\n",
        "print('P(dollar|spam): ', p_xi_spam)"
      ]
    },
    {
      "cell_type": "code",
      "execution_count": 12,
      "metadata": {
        "id": "1T4tLd4u--3-",
        "outputId": "4fe9f259-9eda-4cac-eeb9-1f20e5198683",
        "colab": {
          "base_uri": "https://localhost:8080/"
        }
      },
      "outputs": [
        {
          "output_type": "stream",
          "name": "stdout",
          "text": [
            "P(\"sports is healthy\"|spam):  0.0\n",
            "P(\"sports is healthy\"|non-spam):  0.0007821321487426758\n"
          ]
        }
      ],
      "source": [
        "p_x_spam = table[0][v_idx_mapping['sports']]/num_spam \\\n",
        "        * table[0][v_idx_mapping['is']]/num_spam \\\n",
        "        * table[0][v_idx_mapping['healthy']]/num_spam \\\n",
        "        * (1 - table[0][v_idx_mapping['secret']]/num_spam) \\\n",
        "        * (1 - table[0][v_idx_mapping['offer']]/num_spam) \\\n",
        "        * (1 - table[0][v_idx_mapping['low']]/num_spam) \\\n",
        "        * (1 - table[0][v_idx_mapping['price']]/num_spam) \\\n",
        "        * (1 - table[0][v_idx_mapping['valued']]/num_spam) \\\n",
        "        * (1 - table[0][v_idx_mapping['customer']]/num_spam) \\\n",
        "        * (1 - table[0][v_idx_mapping['today']]/num_spam) \\\n",
        "        * (1 - table[0][v_idx_mapping['dollar']]/num_spam) \\\n",
        "        * (1 - table[0][v_idx_mapping['million']]/num_spam) \\\n",
        "        * (1 - table[0][v_idx_mapping['for']]/num_spam) \\\n",
        "        * (1 - table[0][v_idx_mapping['play']]/num_spam) \\\n",
        "        * (1 - table[0][v_idx_mapping['pizza']]/num_spam)\n",
        "\n",
        "p_x_ham = table[1][v_idx_mapping['sports']]/num_ham \\\n",
        "        * table[1][v_idx_mapping['is']]/num_ham \\\n",
        "        * table[1][v_idx_mapping['healthy']]/num_ham \\\n",
        "        * (1 - table[1][v_idx_mapping['secret']]/num_ham) \\\n",
        "        * (1 - table[1][v_idx_mapping['offer']]/num_ham) \\\n",
        "        * (1 - table[1][v_idx_mapping['low']]/num_ham) \\\n",
        "        * (1 - table[1][v_idx_mapping['price']]/num_ham) \\\n",
        "        * (1 - table[1][v_idx_mapping['valued']]/num_ham) \\\n",
        "        * (1 - table[1][v_idx_mapping['customer']]/num_ham) \\\n",
        "        * (1 - table[1][v_idx_mapping['today']]/num_ham) \\\n",
        "        * (1 - table[1][v_idx_mapping['dollar']]/num_ham) \\\n",
        "        * (1 - table[1][v_idx_mapping['million']]/num_ham) \\\n",
        "        * (1 - table[1][v_idx_mapping['for']]/num_ham) \\\n",
        "        * (1 - table[1][v_idx_mapping['play']]/num_ham) \\\n",
        "        * (1 - table[1][v_idx_mapping['pizza']]/num_ham)\n",
        "\n",
        "print('P(\"sports is healthy\"|spam): ', p_x_spam)\n",
        "print('P(\"sports is healthy\"|non-spam): ', p_x_ham)\n"
      ]
    },
    {
      "cell_type": "code",
      "source": [
        "# 위에처럼 일일이 다 작성하기는 너무 길다\n",
        "# email 을 binary vector 로 변환하는 함수\n",
        "\n",
        "def str2vec(email):\n",
        "  output = np.zeros(15, dtype=int)\n",
        "  for word in email.split():\n",
        "    output[v_idx_mapping[word]] = 1\n",
        "  return output\n"
      ],
      "metadata": {
        "id": "dc4VczpxuUCQ"
      },
      "execution_count": 13,
      "outputs": []
    },
    {
      "cell_type": "code",
      "source": [
        "str2vec(\"sports is healthy\")"
      ],
      "metadata": {
        "colab": {
          "base_uri": "https://localhost:8080/"
        },
        "id": "OI-VNCPPxjDC",
        "outputId": "de59381d-85aa-4509-dc5c-539a3968a7b0"
      },
      "execution_count": 14,
      "outputs": [
        {
          "output_type": "execute_result",
          "data": {
            "text/plain": [
              "array([0, 0, 0, 0, 0, 0, 0, 0, 0, 1, 1, 0, 0, 1, 0])"
            ]
          },
          "metadata": {},
          "execution_count": 14
        }
      ]
    },
    {
      "cell_type": "code",
      "source": [
        "bin_email = str2vec(\"sports is healthy\")\n",
        "p_x_spam = np.prod(p_xi_y[0] * bin_email + (1 - p_xi_y[0]) * (1 - bin_email))\n",
        "p_x_ham = np.prod(p_xi_y[1] * bin_email + (1 - p_xi_y[1]) * (1 - bin_email))\n",
        "print('P(\"sports is healthy\"|spam): ', p_x_spam)\n",
        "print('P(\"sports is healthy\"|non-spam): ', p_x_ham)"
      ],
      "metadata": {
        "colab": {
          "base_uri": "https://localhost:8080/"
        },
        "id": "wj5_ceVYvMuF",
        "outputId": "050d4bec-dbbe-43f0-f750-1ce2c6bd1028"
      },
      "execution_count": 15,
      "outputs": [
        {
          "output_type": "stream",
          "name": "stdout",
          "text": [
            "P(\"sports is healthy\"|spam):  0.0\n",
            "P(\"sports is healthy\"|non-spam):  0.0007821321487426758\n"
          ]
        }
      ]
    },
    {
      "cell_type": "code",
      "execution_count": 16,
      "metadata": {
        "id": "86zcElAB--3-",
        "outputId": "6ee63672-baf2-4710-d3ce-663b38c250f2",
        "colab": {
          "base_uri": "https://localhost:8080/"
        }
      },
      "outputs": [
        {
          "output_type": "stream",
          "name": "stdout",
          "text": [
            "P(spam|\"sports is healthy\"):  0.0\n",
            "P(non-spam|\"sports is healthy\"):  1.0\n"
          ]
        }
      ],
      "source": [
        "p_spam_x = (p_x_spam * p_spam) / ( (p_x_spam * p_spam) + (p_x_ham * p_ham) )\n",
        "p_ham_x = (p_x_ham * p_ham)  / ( (p_x_spam * p_spam) + (p_x_ham * p_ham) )\n",
        "\n",
        "print('P(spam|\"sports is healthy\"): ', p_spam_x)\n",
        "print('P(non-spam|\"sports is healthy\"): ', p_ham_x)"
      ]
    },
    {
      "cell_type": "code",
      "execution_count": 17,
      "metadata": {
        "id": "9Z5ja9u2--3_"
      },
      "outputs": [],
      "source": [
        "import matplotlib.pyplot as plt"
      ]
    },
    {
      "cell_type": "code",
      "execution_count": 18,
      "metadata": {
        "id": "wNt4l5-K--3_"
      },
      "outputs": [],
      "source": [
        "def naive_bayes_classifier(test_msg, p_xi_y, p_y, laplace_smoothing = False):\n",
        "\n",
        "    print('input message : ', test_msg)\n",
        "    \n",
        "    # 주어진 메시지를 단어 단위로 구분하고 카운트 (중복 제거)\n",
        "    test_list = set(test_msg.split(' '))\n",
        "    table_test = np.zeros(len(V))\n",
        "\n",
        "    # 입력 메시지에서 사용된 단어 0 또는 1로 표시\n",
        "    table_test = str2vec(test_msg)\n",
        "        \n",
        "    # likelihood\n",
        "    tmp = p_xi_y * table_test + (1 - p_xi_y) * (1 - table_test)\n",
        "    \n",
        "    if laplace_smoothing == True:\n",
        "        tmp += 0.1 # 더 작은 값 사용해도 됨\n",
        "\n",
        "    p_x_y = tmp.prod(1)\n",
        "    print('P(X|Spam): ', p_x_y[0])\n",
        "    print('P(X|Ham): ', p_x_y[1])\n",
        "    \n",
        "    # Posterior = likelihood x pior\n",
        "    p_y_x = p_x_y * p_y\n",
        "    p_y_x /= p_y_x.sum()\n",
        "    print('P(Spam|X): ', p_y_x[0])\n",
        "    print('P(Ham|X): ', p_y_x[1])\n",
        "    \n",
        "    if p_y_x[0] == 0.5:\n",
        "        print(\"cannot decide\")\n",
        "    else:\n",
        "        if list(p_y_x).index(max(p_y_x)) == 0:\n",
        "            print(\"Spam message!!\")\n",
        "        else:\n",
        "            print(\"Ham message!!\")\n",
        "    \n",
        "    # visualize\n",
        "    fig = plt.figure()\n",
        "    ax = fig.add_axes([0, 0, 1, 1])\n",
        "    ax.bar(list([\"spam\", \"ham\"]), p_y_x)\n",
        "    plt.title('Naive Bayes')\n",
        "    plt.show()\n",
        "    plt.close()\n",
        "    \n",
        "\n",
        "    "
      ]
    },
    {
      "cell_type": "code",
      "execution_count": 19,
      "metadata": {
        "id": "llvEHl4T--4A",
        "outputId": "389cdfb1-c927-408c-e0e6-b76c5696cefd",
        "colab": {
          "base_uri": "https://localhost:8080/",
          "height": 459
        }
      },
      "outputs": [
        {
          "output_type": "stream",
          "name": "stdout",
          "text": [
            "input message :  secret is secret\n",
            "P(X|Spam):  0.021947873799725657\n",
            "P(X|Ham):  0.0007821321487426758\n",
            "P(Spam|X):  0.9546406977999647\n",
            "P(Ham|X):  0.04535930220003524\n",
            "Spam message!!\n"
          ]
        },
        {
          "output_type": "display_data",
          "data": {
            "text/plain": [
              "<Figure size 432x288 with 1 Axes>"
            ],
            "image/png": "[encoded data removed]"
          },
          "metadata": {
            "needs_background": "light"
          }
        }
      ],
      "source": [
        "# 스팸 메시지 확인\n",
        "naive_bayes_classifier(\"secret is secret\", p_xi_y, p_y)"
      ]
    },
    {
      "cell_type": "code",
      "execution_count": 20,
      "metadata": {
        "id": "0XAH-AKI--4A",
        "outputId": "88b93108-0c5a-4b63-8c99-7965fa0f2e49",
        "colab": {
          "base_uri": "https://localhost:8080/",
          "height": 459
        }
      },
      "outputs": [
        {
          "output_type": "stream",
          "name": "stdout",
          "text": [
            "input message :  sports is healthy\n",
            "P(X|Spam):  0.0\n",
            "P(X|Ham):  0.0007821321487426758\n",
            "P(Spam|X):  0.0\n",
            "P(Ham|X):  1.0\n",
            "Ham message!!\n"
          ]
        },
        {
          "output_type": "display_data",
          "data": {
            "text/plain": [
              "<Figure size 432x288 with 1 Axes>"
            ],
            "image/png": "[encoded data removed]"
          },
          "metadata": {
            "needs_background": "light"
          }
        }
      ],
      "source": [
        "# 정상 메시지 확인\n",
        "naive_bayes_classifier(\"sports is healthy\", p_xi_y, p_y)"
      ]
    },
    {
      "cell_type": "markdown",
      "source": [
        "### P(X | Spam) = 0...\n",
        "### Need Laplace Smoothing!\n"
      ],
      "metadata": {
        "id": "jKcanH6CGvsx"
      }
    },
    {
      "cell_type": "code",
      "execution_count": 21,
      "metadata": {
        "id": "WeJvMMhZ--4B",
        "outputId": "9edc2e30-14c1-4411-dda4-196ce65ec8f0",
        "colab": {
          "base_uri": "https://localhost:8080/",
          "height": 459
        }
      },
      "outputs": [
        {
          "output_type": "stream",
          "name": "stdout",
          "text": [
            "input message :  sports is healthy\n",
            "P(X|Spam):  0.0007145536348377633\n",
            "P(X|Ham):  0.008724220143965646\n",
            "P(Spam|X):  0.05787336844546412\n",
            "P(Ham|X):  0.9421266315545358\n",
            "Ham message!!\n"
          ]
        },
        {
          "output_type": "display_data",
          "data": {
            "text/plain": [
              "<Figure size 432x288 with 1 Axes>"
            ],
            "image/png": "[encoded data removed]"
          },
          "metadata": {
            "needs_background": "light"
          }
        }
      ],
      "source": [
        "# practical naive bayes : laplace smoothing 적용\n",
        "naive_bayes_classifier(\"sports is healthy\", p_xi_y, p_y, laplace_smoothing = True)\n"
      ]
    },
    {
      "cell_type": "code",
      "source": [],
      "metadata": {
        "id": "Pymwy0E9BF8G"
      },
      "execution_count": 21,
      "outputs": []
    }
  ],
  "metadata": {
    "kernelspec": {
      "display_name": "aita",
      "language": "python",
      "name": "aita"
    },
    "language_info": {
      "codemirror_mode": {
        "name": "ipython",
        "version": 3
      },
      "file_extension": ".py",
      "mimetype": "text/x-python",
      "name": "python",
      "nbconvert_exporter": "python",
      "pygments_lexer": "ipython3",
      "version": "3.6.12"
    },
    "colab": {
      "name": "2_Naive_Bayes_Classification.ipynb",
      "provenance": []
    }
  },
  "nbformat": 4,
  "nbformat_minor": 0
}