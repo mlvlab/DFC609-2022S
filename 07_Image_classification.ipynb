{
  "cells": [
    {
      "cell_type": "markdown",
      "metadata": {
        "id": "IfoOSt1peHHr"
      },
      "source": [
        "> # Image Classification with CNNs\n",
        "---\n",
        "<br>\n",
        "\n",
        "### Contents.\n",
        "```\n",
        "1. Introduction\n",
        "2. Implementation (1) ResNet\n",
        "3. Implementation (2) Clustering for classification\n",
        "```\n",
        "<br>\n",
        "\n",
        "### Reference.\n",
        "- [Pytorch Tutorial](https://pytorch.org/tutorials/beginner/blitz/cifar10_tutorial.html#sphx-glr-beginner-blitz-cifar10-tutorial-py)\n",
        "- [TRANSFER LEARNING FOR COMPUTER VISION TUTORIAL](https://pytorch.org/tutorials/beginner/transfer_learning_tutorial.html)\n",
        "\n",
        "<br>\n"
      ]
    },
    {
      "cell_type": "markdown",
      "metadata": {
        "id": "_jdCg1LxZGpz"
      },
      "source": [
        "# 1. Introduction\n",
        "\n",
        "---\n",
        "\n",
        "<br>\n",
        "\n",
        "### Goals.\n",
        "```\n",
        "1) Image Classification 이해\n",
        "```\n"
      ]
    },
    {
      "cell_type": "markdown",
      "metadata": {
        "id": "BgPbKEmcrqJ_"
      },
      "source": [
        "# 1.1. Image Classification 이해\n",
        "\n",
        "- PPT 참고"
      ]
    },
    {
      "cell_type": "markdown",
      "metadata": {
        "id": "_ER0PVEQrqMh"
      },
      "source": [
        "<br>\n",
        "<br>\n",
        "\n",
        "# 2. Implementation (1) ResNet\n",
        "---\n",
        "\n",
        "<br>\n",
        "\n",
        "### Goals.\n",
        "```\n",
        "1) ResNet\n",
        "2) Residual Block\n",
        "3) Pretrained Model 활용\n",
        "```"
      ]
    },
    {
      "cell_type": "markdown",
      "metadata": {
        "id": "TKUiloCSrqPe"
      },
      "source": [
        "## 2.1. ResNet\n",
        "```\n",
        "2015년 ILSVRC에서 우승한 CNN 모델로  Microsoft에서 제안함.\n",
        "기존 모델들에서 신경망이 깊어질 수록 오히려 성능이 떨어짐을 관측했고,\n",
        "이를 해결하기위해 skip/shortcut을 더해줌.\n",
        "```\n",
        "- paper: [Deep Residual Learning for Image Recognition](https://arxiv.org/pdf/1512.03385.pdf)\n",
        "\n",
        "<br>\n",
        "\n"
      ]
    },
    {
      "cell_type": "markdown",
      "metadata": {
        "id": "0-anWIQrrqdb"
      },
      "source": [
        "<br>\n",
        "\n",
        "## 2.2. Residual Block\n",
        "\n",
        "```\n",
        "입력값을 출력값에 더해주도록 shortcut을 추가했다는 점이 기존 모델과의 차이점.\n",
        "```"
      ]
    },
    {
      "cell_type": "markdown",
      "source": [
        "\n",
        "### 2.2.1. Residual Building Block\n",
        "\n",
        "![](https://raw.githubusercontent.com/jarvislabsai/blog/master/build_resnet34_pytorch/images/res_block1.png)\n"
      ],
      "metadata": {
        "id": "fxIBvGfQJEn2"
      }
    },
    {
      "cell_type": "markdown",
      "metadata": {
        "id": "dqVZIeF5x6Ss"
      },
      "source": [
        "<br>\n",
        "\n",
        "## 2.3. Pretrained Model 활용\n",
        "- pretrained model 불러오기\n",
        "- 모델에 학습시켜 분류할 데이터를 준비\n",
        "- fine tuning"
      ]
    },
    {
      "cell_type": "markdown",
      "source": [
        "### 2.3.1. Packages"
      ],
      "metadata": {
        "id": "RVK1pyTJJ4hW"
      }
    },
    {
      "cell_type": "code",
      "source": [
        "import torch\n",
        "import torch.nn as nn\n",
        "import torch.optim as optim\n",
        "from torch.optim import lr_scheduler\n",
        "import numpy as np\n",
        "import torchvision\n",
        "from torchvision import datasets, models, transforms\n",
        "import matplotlib.pyplot as plt\n",
        "import time\n",
        "import os\n",
        "import copy"
      ],
      "metadata": {
        "id": "wvaofYQP3aiy"
      },
      "execution_count": null,
      "outputs": []
    },
    {
      "cell_type": "markdown",
      "source": [
        "### 2.3.2. Prepare Data"
      ],
      "metadata": {
        "id": "_tdWoRt9J-sa"
      }
    },
    {
      "cell_type": "code",
      "execution_count": null,
      "metadata": {
        "colab": {
          "base_uri": "https://localhost:8080/"
        },
        "id": "qluhY_11wqhZ",
        "outputId": "5eae4687-12d5-4e73-9f11-89040d5b389d"
      },
      "outputs": [
        {
          "output_type": "stream",
          "name": "stdout",
          "text": [
            "\n",
            " Dataset ImageFolder\n",
            "    Number of datapoints: 244\n",
            "    Root location: /content/drive/Shareddrives/LG_AI_Workshop_21W/Image classification/hymenoptera_data/train\n",
            "    StandardTransform\n",
            "Transform: Compose(\n",
            "               RandomResizedCrop(size=(224, 224), scale=(0.08, 1.0), ratio=(0.75, 1.3333), interpolation=bilinear)\n",
            "               RandomHorizontalFlip(p=0.5)\n",
            "               ToTensor()\n",
            "               Normalize(mean=[0.485, 0.456, 0.406], std=[0.229, 0.224, 0.225])\n",
            "           )\n",
            "\n",
            " Dataset ImageFolder\n",
            "    Number of datapoints: 153\n",
            "    Root location: /content/drive/Shareddrives/LG_AI_Workshop_21W/Image classification/hymenoptera_data/val\n",
            "    StandardTransform\n",
            "Transform: Compose(\n",
            "               Resize(size=256, interpolation=bilinear, max_size=None, antialias=None)\n",
            "               CenterCrop(size=(224, 224))\n",
            "               ToTensor()\n",
            "               Normalize(mean=[0.485, 0.456, 0.406], std=[0.229, 0.224, 0.225])\n",
            "           )\n",
            "\n",
            "한 데이터의 형태: torch.Size([3, 224, 224])\n",
            "\n",
            "학습 데이터로더의 길이: 61\n",
            "테스트 데이터로더의 길이: 39\n",
            "\n",
            "학습할 데이터 클래스 리스트: ['ants', 'bees']\n",
            "연결된 GPU 자원: cuda:0\n"
          ]
        }
      ],
      "source": [
        "# 모델 학습에 사용하기 위해 데이터변형 준비.\n",
        "data_transforms = {\n",
        "    'train': transforms.Compose([\n",
        "        transforms.RandomResizedCrop(224),\n",
        "        transforms.RandomHorizontalFlip(),\n",
        "        transforms.ToTensor(),\n",
        "        transforms.Normalize([0.485, 0.456, 0.406], [0.229, 0.224, 0.225])\n",
        "    ]),\n",
        "    'val': transforms.Compose([\n",
        "        transforms.Resize(256),\n",
        "        transforms.CenterCrop(224),\n",
        "        transforms.ToTensor(),\n",
        "        transforms.Normalize([0.485, 0.456, 0.406], [0.229, 0.224, 0.225])\n",
        "    ]),\n",
        "}\n",
        "\n",
        "# 데이터가 저장된 경로\n",
        "data_dir = '/content/drive/Shareddrives/LG_AI_Workshop_21W/Image classification/hymenoptera_data'\n",
        "assert os.path.exists(data_dir), \"데이터 경로가 잘못됐습니다.\"\n",
        "\n",
        "# 데이터셋\n",
        "image_datasets = {x: datasets.ImageFolder(os.path.join(data_dir, x),data_transforms[x])\n",
        "                  for x in ['train', 'val']}\n",
        "print(\"\\n\",image_datasets['train'])\n",
        "print(\"\\n\",image_datasets['val'])\n",
        "print(\"\\n한 데이터의 형태:\",image_datasets['train'][0][0].shape)\n",
        "\n",
        "# 데이터로더\n",
        "dataloaders = {x: torch.utils.data.DataLoader(image_datasets[x], batch_size=4, shuffle=True)\n",
        "              for x in ['train', 'val']}\n",
        "print(\"\\n학습 데이터로더의 길이:\",len(dataloaders['train']))\n",
        "print(\"테스트 데이터로더의 길이:\",len(dataloaders['val']))\n",
        "\n",
        "# 데이터 개수\n",
        "dataset_sizes = {x: len(image_datasets[x]) for x in ['train', 'val']}\n",
        "\n",
        "# 학습데이터 클래스\n",
        "class_names = image_datasets['train'].classes\n",
        "print(\"\\n학습할 데이터 클래스 리스트:\",class_names)\n",
        "\n",
        "# GPU 연결\n",
        "device = torch.device(\"cuda:0\" if torch.cuda.is_available() else \"cpu\")\n",
        "print(\"연결된 GPU 자원:\",device)"
      ]
    },
    {
      "cell_type": "code",
      "source": [
        "# 불러온 데이터 확인\n",
        "def imshow(input, title=None):\n",
        "    \"\"\"Imshow for Tensor.\"\"\"\n",
        "    input = input.numpy().transpose((1, 2, 0)) # 데이터의 채널 순서 변경\n",
        "    mean = np.array([0.485, 0.456, 0.406]) # 각 채널의 픽셀값들의 평균\n",
        "    std = np.array([0.229, 0.224, 0.225]) # 각 채널의 픽셀값들의 표준편차\n",
        "    input = std * input + mean # 이미지의 각 채널의 픽셀값들의 분포가 위의 평균과 표준편차를 갖는 분포를 따르도록 바꿔줌\n",
        "    input = np.clip(input, 0, 1) # 이미지의 픽셀값 중, 1보다 큰값을 모두 1로 바꿔줌\n",
        "    plt.imshow(input) # 지금까지 변형시킨 이미지를 출력함.\n",
        "    if title is not None: \n",
        "        plt.title(title) # 이미지 상단에 텍스트 출력.\n",
        "    plt.pause(0.001)  # 갱신이 될 때까지 잠시 대기.\n",
        "\n",
        "\n",
        "# 학습 데이터의 한 배치를 얻음.\n",
        "inputs, classes = next(iter(dataloaders['train']))\n",
        "print(\"가져온 한 배치에 있는 데이터 형태:\",inputs.shape,\"\\n\")\n",
        "\n",
        "# 배치로부터 격자 형태의 이미지를 만듭니다.\n",
        "out = torchvision.utils.make_grid(inputs)\n",
        "imshow(out, title=[class_names[x] for x in classes])"
      ],
      "metadata": {
        "colab": {
          "base_uri": "https://localhost:8080/",
          "height": 184
        },
        "id": "uxXu-WcxVS1G",
        "outputId": "c20b32aa-44d9-45e4-974f-120fc55e7f38"
      },
      "execution_count": null,
      "outputs": [
        {
          "output_type": "stream",
          "name": "stdout",
          "text": [
            "가져온 한 배치에 있는 데이터 형태: torch.Size([4, 3, 224, 224]) \n",
            "\n"
          ]
        },
        {
          "output_type": "display_data",
          "data": {
            "image/png": "[encoded data removed]",
            "text/plain": [
              "<Figure size 432x288 with 1 Axes>"
            ]
          },
          "metadata": {
            "needs_background": "light"
          }
        }
      ]
    },
    {
      "cell_type": "markdown",
      "source": [
        "### 2.3.3. Model\n",
        "- ResNet-18\n",
        "- 사전학습된 모델 사용하기\n",
        "  - `pretrained =`\n",
        "    - `True` : 사전에 학습된 모델 사용.\n",
        "    - `False` : 사전에 학습된 모델 사용 안함.\n",
        "- [이외의 사용 가능한 다른 모델들](https://pytorch.org/vision/stable/models.html)"
      ],
      "metadata": {
        "id": "FB9VXHU4v8qc"
      }
    },
    {
      "cell_type": "code",
      "execution_count": null,
      "metadata": {
        "id": "6octXOxWx_YW",
        "colab": {
          "base_uri": "https://localhost:8080/",
          "height": 87,
          "referenced_widgets": [
            "1a85241b481640d2a900b5b0f6e10ef5",
            "5b934fefba1843469bd8b3bd3fcd8466",
            "815036c872a241e28884d9d8e29bcdec",
            "48408104f6204ba5a1334958e484f088",
            "11a80758cb32447da4262561922eecd0",
            "e789d5478f654ef5bc904e491a1fe3bd",
            "6113479d075240a4ae532ef58f2c8734",
            "055fac9ac5dd47719973ff6b0bb3ee6a",
            "2e581bc986c2470f9f6a7c4b091a464f",
            "deeaaeecf9774d5dbc427d23733f1db7",
            "51616b6d825d44baa0a924a00779d27b"
          ]
        },
        "outputId": "31be85b1-3f77-4d37-a227-56c777b62a68"
      },
      "outputs": [
        {
          "output_type": "stream",
          "name": "stderr",
          "text": [
            "Downloading: \"https://download.pytorch.org/models/resnet18-f37072fd.pth\" to /root/.cache/torch/hub/checkpoints/resnet18-f37072fd.pth\n"
          ]
        },
        {
          "output_type": "display_data",
          "data": {
            "application/vnd.jupyter.widget-view+json": {
              "model_id": "1a85241b481640d2a900b5b0f6e10ef5",
              "version_minor": 0,
              "version_major": 2
            },
            "text/plain": [
              "  0%|          | 0.00/44.7M [00:00<?, ?B/s]"
            ]
          },
          "metadata": {}
        }
      ],
      "source": [
        "# models.사용할 모델(pretrained=사용여부선택)\n",
        "\n",
        "resnet18_pretrained = models.resnet18(pretrained=True)"
      ]
    },
    {
      "cell_type": "markdown",
      "source": [
        "### 2.3.4. Prepare model for training\n",
        "```\n",
        "모델의 마지막 fc layer에서는 최종적으로 classification\n",
        "```"
      ],
      "metadata": {
        "id": "LhPwgcGib98r"
      }
    },
    {
      "cell_type": "code",
      "execution_count": null,
      "metadata": {
        "id": "rcd9KT8yyE6M",
        "colab": {
          "base_uri": "https://localhost:8080/"
        },
        "outputId": "8655f479-c32c-49d6-ec78-7b469e39e2dd"
      },
      "outputs": [
        {
          "output_type": "stream",
          "name": "stdout",
          "text": [
            "(변경 전) model의 fc layer에 입력되는 feature vector의 크기: 512\n",
            "(변경 전) model의 fc layer에서 출력되는 feature vector의 크기: 1000\n",
            "(변경 후) model의 fc layer에서 출력되는 feature vector의 크기: 2\n"
          ]
        }
      ],
      "source": [
        "# 학습에 사용하기 위해 구조 변경\n",
        "in_ftrs = resnet18_pretrained.fc.in_features\n",
        "out_ftrs = resnet18_pretrained.fc.out_features\n",
        "print(\"(변경 전) model의 fc layer에 입력되는 feature vector의 크기:\",in_ftrs)\n",
        "print(\"(변경 전) model의 fc layer에서 출력되는 feature vector의 크기:\",out_ftrs)\n",
        "resnet18_pretrained.fc = nn.Linear(in_ftrs, len(class_names))\n",
        "print(\"(변경 후) model의 fc layer에서 출력되는 feature vector의 크기:\",resnet18_pretrained.fc.out_features)\n",
        "resnet18_pretrained = resnet18_pretrained.to(device)\n"
      ]
    },
    {
      "cell_type": "code",
      "execution_count": null,
      "metadata": {
        "id": "Mk5bJIRLym-d"
      },
      "outputs": [],
      "source": [
        "# Loss 함수\n",
        "criterion = nn.CrossEntropyLoss()\n",
        "\n",
        "# Optimizer: 최적화 함수\n",
        "# lr: 미분값을 얼마나 이동시킬 것인가\n",
        "# momentum: 미분값에 관성을 주어 local minimum 문제를 해결하기 위함\n",
        "optimizer_ft = optim.SGD(resnet18_pretrained.parameters(), lr=0.001, momentum=0.9)\n",
        "exp_lr_scheduler = lr_scheduler.StepLR(optimizer_ft, step_size=7, gamma=0.1)"
      ]
    },
    {
      "cell_type": "code",
      "execution_count": null,
      "metadata": {
        "id": "7NHDyEkKzIPy"
      },
      "outputs": [],
      "source": [
        "def train_model(model, criterion, optimizer, scheduler, num_epochs=25):\n",
        "    since = time.time()\n",
        "\n",
        "    best_model_wts = copy.deepcopy(model.state_dict())\n",
        "    best_acc = 0.0\n",
        "\n",
        "    for epoch in range(num_epochs):\n",
        "        print(f'Epoch {epoch}/{num_epochs - 1}')\n",
        "        print('-' * 10)\n",
        "\n",
        "        # 각 에폭(epoch)은 학습 단계와 검증 단계를 갖습니다.\n",
        "        for phase in ['train', 'val']:\n",
        "            if phase == 'train':\n",
        "                model.train()  # 모델을 학습 모드로 설정\n",
        "            else:\n",
        "                model.eval()   # 모델을 평가 모드로 설정\n",
        "\n",
        "            running_loss = 0.0\n",
        "            running_corrects = 0\n",
        "\n",
        "            # 데이터를 반복\n",
        "            for inputs, labels in dataloaders[phase]:\n",
        "                inputs = inputs.to(device)\n",
        "                labels = labels.to(device)\n",
        "\n",
        "                # 매개변수 경사도를 0으로 설정\n",
        "                optimizer.zero_grad()\n",
        "\n",
        "                # 순전파\n",
        "                # 학습 시에만 연산 기록을 추적\n",
        "                with torch.set_grad_enabled(phase == 'train'):\n",
        "                    outputs = model(inputs)\n",
        "                    _, preds = torch.max(outputs, 1)\n",
        "                    loss = criterion(outputs, labels)\n",
        "                    \n",
        "                    \n",
        "                    # 학습 단계인 경우 역전파 + 최적화\n",
        "                    if phase == 'train':\n",
        "                        loss.backward()\n",
        "                        optimizer.step()\n",
        "\n",
        "                # 통계\n",
        "                running_loss += loss.item() * inputs.size(0)\n",
        "                running_corrects += torch.sum(preds == labels.data)\n",
        "            if phase == 'train':\n",
        "                scheduler.step()\n",
        "\n",
        "            epoch_loss = running_loss / dataset_sizes[phase]\n",
        "            epoch_acc = running_corrects.double() / dataset_sizes[phase]\n",
        "\n",
        "            print(f'{phase} Loss: {epoch_loss:.4f} Acc: {epoch_acc:.4f}')\n",
        "\n",
        "            # 모델을 깊은 복사(deep copy)함\n",
        "            if phase == 'val' and epoch_acc > best_acc:\n",
        "                best_acc = epoch_acc\n",
        "                best_model_wts = copy.deepcopy(model.state_dict())\n",
        "\n",
        "        print()\n",
        "\n",
        "    time_elapsed = time.time() - since\n",
        "    print('Training complete in {:.0f}m {:.0f}s'.format(\n",
        "        time_elapsed // 60, time_elapsed % 60))\n",
        "    print(f'Best val Acc: {best_acc:4f}')\n",
        "\n",
        "    # 가장 나은 모델 가중치를 불러옴\n",
        "    model.load_state_dict(best_model_wts)\n",
        "    return model"
      ]
    },
    {
      "cell_type": "markdown",
      "source": [
        "- 학습 진행"
      ],
      "metadata": {
        "id": "1sEF9Rdev5Z1"
      }
    },
    {
      "cell_type": "code",
      "execution_count": null,
      "metadata": {
        "colab": {
          "base_uri": "https://localhost:8080/"
        },
        "id": "56aNU4PU1mF2",
        "outputId": "bfa4af7a-7af2-43ce-e982-7d16efcdb48e"
      },
      "outputs": [
        {
          "output_type": "stream",
          "name": "stdout",
          "text": [
            "Epoch 0/0\n",
            "----------\n",
            "train Loss: 0.6442 Acc: 0.6844\n",
            "val Loss: 0.2747 Acc: 0.8562\n",
            "\n",
            "Training complete in 1m 11s\n",
            "Best val Acc: 0.856209\n"
          ]
        }
      ],
      "source": [
        "model_ft = train_model(resnet18_pretrained, criterion, optimizer_ft, exp_lr_scheduler, num_epochs=1)"
      ]
    },
    {
      "cell_type": "markdown",
      "source": [
        "- 출력결과 확인"
      ],
      "metadata": {
        "id": "Gu_nRFTLv2ax"
      }
    },
    {
      "cell_type": "code",
      "source": [
        "def normalize_data(input):\n",
        "    input = input.numpy().transpose((1, 2, 0)) # 데이터의 채널 순서 변경\n",
        "    mean = np.array([0.485, 0.456, 0.406]) # 각 채널의 픽셀값들의 평균\n",
        "    std = np.array([0.229, 0.224, 0.225]) # 각 채널의 픽셀값들의 표준편차\n",
        "    input = std * input + mean # 이미지의 각 채널의 픽셀값들의 분포가 위의 평균과 표준편차를 갖는 분포를 따르도록 바꿔줌\n",
        "    input = np.clip(input, 0, 1) # 이미지의 픽셀값 중, 1보다 큰값을 모두 1로 바꿔줌\n",
        "    \n",
        "    return input\n",
        "\n",
        "\n",
        "def visualize_model(model, num_images=6):\n",
        "  was_training = model.training # 이전까지의 모델 모드 기록\n",
        "  model.eval() # 모델을 평가모드로 전환.\n",
        "  images_so_far = 0\n",
        "  \n",
        "  with torch.no_grad():\n",
        "    for i, (inputs, labels) in enumerate(dataloaders['val']):\n",
        "      inputs = inputs.to(device)\n",
        "      labels = labels.to(device)\n",
        "\n",
        "      outputs = model(inputs)\n",
        "      _, preds = torch.max(outputs,1)\n",
        "      \n",
        "      for j in range(inputs.size()[0]):\n",
        "        images_so_far += 1\n",
        "        out_img = normalize_data(inputs.cpu().data[j])\n",
        "        plt.figure(figsize=(4,4))\n",
        "        plt.imshow(out_img)\n",
        "        plt.title(f'predicted: {class_names[preds[j]]}\\nground truth: {class_names[labels[j]]}')\n",
        "        plt.axis('off')\n",
        "        print()\n",
        "\n",
        "        if images_so_far==num_images:\n",
        "          break\n",
        "      if images_so_far==num_images:\n",
        "        break\n",
        "    plt.show()"
      ],
      "metadata": {
        "id": "wL3Awpl7PGR5"
      },
      "execution_count": null,
      "outputs": []
    },
    {
      "cell_type": "code",
      "execution_count": null,
      "metadata": {
        "id": "3E_av4Oj1mnC"
      },
      "outputs": [],
      "source": [
        "visualize_model(model_ft)"
      ]
    }
  ],
  "metadata": {
    "colab": {
      "collapsed_sections": [],
      "name": "05_Image_classification_(1).ipynb",
      "provenance": []
    },
    "kernelspec": {
      "display_name": "Python 3",
      "name": "python3"
    },
    "language_info": {
      "name": "python"
    },
    "accelerator": "GPU",
    "widgets": {
      "application/vnd.jupyter.widget-state+json": {
        "1a85241b481640d2a900b5b0f6e10ef5": {
          "model_module": "@jupyter-widgets/controls",
          "model_name": "HBoxModel",
          "model_module_version": "1.5.0",
          "state": {
            "_view_name": "HBoxView",
            "_dom_classes": [],
            "_model_name": "HBoxModel",
            "_view_module": "@jupyter-widgets/controls",
            "_model_module_version": "1.5.0",
            "_view_count": null,
            "_view_module_version": "1.5.0",
            "box_style": "",
            "layout": "IPY_MODEL_5b934fefba1843469bd8b3bd3fcd8466",
            "_model_module": "@jupyter-widgets/controls",
            "children": [
              "IPY_MODEL_815036c872a241e28884d9d8e29bcdec",
              "IPY_MODEL_48408104f6204ba5a1334958e484f088",
              "IPY_MODEL_11a80758cb32447da4262561922eecd0"
            ]
          }
        },
        "5b934fefba1843469bd8b3bd3fcd8466": {
          "model_module": "@jupyter-widgets/base",
          "model_name": "LayoutModel",
          "model_module_version": "1.2.0",
          "state": {
            "_view_name": "LayoutView",
            "grid_template_rows": null,
            "right": null,
            "justify_content": null,
            "_view_module": "@jupyter-widgets/base",
            "overflow": null,
            "_model_module_version": "1.2.0",
            "_view_count": null,
            "flex_flow": null,
            "width": null,
            "min_width": null,
            "border": null,
            "align_items": null,
            "bottom": null,
            "_model_module": "@jupyter-widgets/base",
            "top": null,
            "grid_column": null,
            "overflow_y": null,
            "overflow_x": null,
            "grid_auto_flow": null,
            "grid_area": null,
            "grid_template_columns": null,
            "flex": null,
            "_model_name": "LayoutModel",
            "justify_items": null,
            "grid_row": null,
            "max_height": null,
            "align_content": null,
            "visibility": null,
            "align_self": null,
            "height": null,
            "min_height": null,
            "padding": null,
            "grid_auto_rows": null,
            "grid_gap": null,
            "max_width": null,
            "order": null,
            "_view_module_version": "1.2.0",
            "grid_template_areas": null,
            "object_position": null,
            "object_fit": null,
            "grid_auto_columns": null,
            "margin": null,
            "display": null,
            "left": null
          }
        },
        "815036c872a241e28884d9d8e29bcdec": {
          "model_module": "@jupyter-widgets/controls",
          "model_name": "HTMLModel",
          "model_module_version": "1.5.0",
          "state": {
            "_view_name": "HTMLView",
            "style": "IPY_MODEL_e789d5478f654ef5bc904e491a1fe3bd",
            "_dom_classes": [],
            "description": "",
            "_model_name": "HTMLModel",
            "placeholder": "​",
            "_view_module": "@jupyter-widgets/controls",
            "_model_module_version": "1.5.0",
            "value": "100%",
            "_view_count": null,
            "_view_module_version": "1.5.0",
            "description_tooltip": null,
            "_model_module": "@jupyter-widgets/controls",
            "layout": "IPY_MODEL_6113479d075240a4ae532ef58f2c8734"
          }
        },
        "48408104f6204ba5a1334958e484f088": {
          "model_module": "@jupyter-widgets/controls",
          "model_name": "FloatProgressModel",
          "model_module_version": "1.5.0",
          "state": {
            "_view_name": "ProgressView",
            "style": "IPY_MODEL_055fac9ac5dd47719973ff6b0bb3ee6a",
            "_dom_classes": [],
            "description": "",
            "_model_name": "FloatProgressModel",
            "bar_style": "success",
            "max": 46830571,
            "_view_module": "@jupyter-widgets/controls",
            "_model_module_version": "1.5.0",
            "value": 46830571,
            "_view_count": null,
            "_view_module_version": "1.5.0",
            "orientation": "horizontal",
            "min": 0,
            "description_tooltip": null,
            "_model_module": "@jupyter-widgets/controls",
            "layout": "IPY_MODEL_2e581bc986c2470f9f6a7c4b091a464f"
          }
        },
        "11a80758cb32447da4262561922eecd0": {
          "model_module": "@jupyter-widgets/controls",
          "model_name": "HTMLModel",
          "model_module_version": "1.5.0",
          "state": {
            "_view_name": "HTMLView",
            "style": "IPY_MODEL_deeaaeecf9774d5dbc427d23733f1db7",
            "_dom_classes": [],
            "description": "",
            "_model_name": "HTMLModel",
            "placeholder": "​",
            "_view_module": "@jupyter-widgets/controls",
            "_model_module_version": "1.5.0",
            "value": " 44.7M/44.7M [00:01&lt;00:00, 37.9MB/s]",
            "_view_count": null,
            "_view_module_version": "1.5.0",
            "description_tooltip": null,
            "_model_module": "@jupyter-widgets/controls",
            "layout": "IPY_MODEL_51616b6d825d44baa0a924a00779d27b"
          }
        },
        "e789d5478f654ef5bc904e491a1fe3bd": {
          "model_module": "@jupyter-widgets/controls",
          "model_name": "DescriptionStyleModel",
          "model_module_version": "1.5.0",
          "state": {
            "_view_name": "StyleView",
            "_model_name": "DescriptionStyleModel",
            "description_width": "",
            "_view_module": "@jupyter-widgets/base",
            "_model_module_version": "1.5.0",
            "_view_count": null,
            "_view_module_version": "1.2.0",
            "_model_module": "@jupyter-widgets/controls"
          }
        },
        "6113479d075240a4ae532ef58f2c8734": {
          "model_module": "@jupyter-widgets/base",
          "model_name": "LayoutModel",
          "model_module_version": "1.2.0",
          "state": {
            "_view_name": "LayoutView",
            "grid_template_rows": null,
            "right": null,
            "justify_content": null,
            "_view_module": "@jupyter-widgets/base",
            "overflow": null,
            "_model_module_version": "1.2.0",
            "_view_count": null,
            "flex_flow": null,
            "width": null,
            "min_width": null,
            "border": null,
            "align_items": null,
            "bottom": null,
            "_model_module": "@jupyter-widgets/base",
            "top": null,
            "grid_column": null,
            "overflow_y": null,
            "overflow_x": null,
            "grid_auto_flow": null,
            "grid_area": null,
            "grid_template_columns": null,
            "flex": null,
            "_model_name": "LayoutModel",
            "justify_items": null,
            "grid_row": null,
            "max_height": null,
            "align_content": null,
            "visibility": null,
            "align_self": null,
            "height": null,
            "min_height": null,
            "padding": null,
            "grid_auto_rows": null,
            "grid_gap": null,
            "max_width": null,
            "order": null,
            "_view_module_version": "1.2.0",
            "grid_template_areas": null,
            "object_position": null,
            "object_fit": null,
            "grid_auto_columns": null,
            "margin": null,
            "display": null,
            "left": null
          }
        },
        "055fac9ac5dd47719973ff6b0bb3ee6a": {
          "model_module": "@jupyter-widgets/controls",
          "model_name": "ProgressStyleModel",
          "model_module_version": "1.5.0",
          "state": {
            "_view_name": "StyleView",
            "_model_name": "ProgressStyleModel",
            "description_width": "",
            "_view_module": "@jupyter-widgets/base",
            "_model_module_version": "1.5.0",
            "_view_count": null,
            "_view_module_version": "1.2.0",
            "bar_color": null,
            "_model_module": "@jupyter-widgets/controls"
          }
        },
        "2e581bc986c2470f9f6a7c4b091a464f": {
          "model_module": "@jupyter-widgets/base",
          "model_name": "LayoutModel",
          "model_module_version": "1.2.0",
          "state": {
            "_view_name": "LayoutView",
            "grid_template_rows": null,
            "right": null,
            "justify_content": null,
            "_view_module": "@jupyter-widgets/base",
            "overflow": null,
            "_model_module_version": "1.2.0",
            "_view_count": null,
            "flex_flow": null,
            "width": null,
            "min_width": null,
            "border": null,
            "align_items": null,
            "bottom": null,
            "_model_module": "@jupyter-widgets/base",
            "top": null,
            "grid_column": null,
            "overflow_y": null,
            "overflow_x": null,
            "grid_auto_flow": null,
            "grid_area": null,
            "grid_template_columns": null,
            "flex": null,
            "_model_name": "LayoutModel",
            "justify_items": null,
            "grid_row": null,
            "max_height": null,
            "align_content": null,
            "visibility": null,
            "align_self": null,
            "height": null,
            "min_height": null,
            "padding": null,
            "grid_auto_rows": null,
            "grid_gap": null,
            "max_width": null,
            "order": null,
            "_view_module_version": "1.2.0",
            "grid_template_areas": null,
            "object_position": null,
            "object_fit": null,
            "grid_auto_columns": null,
            "margin": null,
            "display": null,
            "left": null
          }
        },
        "deeaaeecf9774d5dbc427d23733f1db7": {
          "model_module": "@jupyter-widgets/controls",
          "model_name": "DescriptionStyleModel",
          "model_module_version": "1.5.0",
          "state": {
            "_view_name": "StyleView",
            "_model_name": "DescriptionStyleModel",
            "description_width": "",
            "_view_module": "@jupyter-widgets/base",
            "_model_module_version": "1.5.0",
            "_view_count": null,
            "_view_module_version": "1.2.0",
            "_model_module": "@jupyter-widgets/controls"
          }
        },
        "51616b6d825d44baa0a924a00779d27b": {
          "model_module": "@jupyter-widgets/base",
          "model_name": "LayoutModel",
          "model_module_version": "1.2.0",
          "state": {
            "_view_name": "LayoutView",
            "grid_template_rows": null,
            "right": null,
            "justify_content": null,
            "_view_module": "@jupyter-widgets/base",
            "overflow": null,
            "_model_module_version": "1.2.0",
            "_view_count": null,
            "flex_flow": null,
            "width": null,
            "min_width": null,
            "border": null,
            "align_items": null,
            "bottom": null,
            "_model_module": "@jupyter-widgets/base",
            "top": null,
            "grid_column": null,
            "overflow_y": null,
            "overflow_x": null,
            "grid_auto_flow": null,
            "grid_area": null,
            "grid_template_columns": null,
            "flex": null,
            "_model_name": "LayoutModel",
            "justify_items": null,
            "grid_row": null,
            "max_height": null,
            "align_content": null,
            "visibility": null,
            "align_self": null,
            "height": null,
            "min_height": null,
            "padding": null,
            "grid_auto_rows": null,
            "grid_gap": null,
            "max_width": null,
            "order": null,
            "_view_module_version": "1.2.0",
            "grid_template_areas": null,
            "object_position": null,
            "object_fit": null,
            "grid_auto_columns": null,
            "margin": null,
            "display": null,
            "left": null
          }
        }
      }
    }
  },
  "nbformat": 4,
  "nbformat_minor": 0
}