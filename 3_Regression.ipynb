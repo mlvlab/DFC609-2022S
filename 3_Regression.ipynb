{
  "cells": [
    {
      "cell_type": "markdown",
      "metadata": {
        "id": "_eVu-7ID7a9q"
      },
      "source": [
        "## Contents\n",
        "* Linear regression\n",
        "* Kernel density estimation \n",
        "\n",
        "\n",
        "## References\n",
        "* load 'weight-height.csv' from Kaggle (https://www.kaggle.com/mustafaali96/weight-height?select=weight-height.csv)  \n",
        "* install python library (scikit-learn, numpy, matplotlib, scipy)  \n",
        "\n",
        "\n"
      ]
    },
    {
      "cell_type": "markdown",
      "metadata": {
        "id": "o9O_ZDTE7a9q"
      },
      "source": [
        "### 1. Linear regression\n",
        "\n",
        "\n",
        "* 선형회귀 (Linear regression) 은 y 와 X 데이터 간의 선형 상관 관계를 이용하여 알려지지 않은 데이터를 예측 \n",
        "* weight-height 의 관계를 최소제곱법 (Least Squares) 를 이용하여 구현\n",
        "\n",
        "    * \\\\( loss = \\frac{\\sum(w^Tx+b-y)^2}{N}  \\\\)\n",
        "    * \\\\( \\nabla loss_w = \\frac{\\sum(2x)(w^Tx+b-y) }{N} \\\\)\n",
        "    * \\\\( \\nabla loss_b = \\frac{\\sum(2)(w^Tx+b-y) }{N} \\\\)\n"
      ]
    },
    {
      "cell_type": "code",
      "source": [
        "!git clone https://github.com/mlvlab/DFC609-2022S.git"
      ],
      "metadata": {
        "id": "60qZLqfe7e7o",
        "outputId": "cd6da587-f7b5-47a3-dad9-d6f155cb658b",
        "colab": {
          "base_uri": "https://localhost:8080/"
        }
      },
      "execution_count": 1,
      "outputs": [
        {
          "output_type": "stream",
          "name": "stdout",
          "text": [
            "fatal: destination path 'DFC609-2022S' already exists and is not an empty directory.\n"
          ]
        }
      ]
    },
    {
      "cell_type": "code",
      "source": [
        "pwd"
      ],
      "metadata": {
        "id": "Ju-SRHrw7jmf",
        "outputId": "c625f1a2-7fde-4ff2-a612-3213b81bbcb9",
        "colab": {
          "base_uri": "https://localhost:8080/",
          "height": 36
        }
      },
      "execution_count": 2,
      "outputs": [
        {
          "output_type": "execute_result",
          "data": {
            "text/plain": [
              "'/content'"
            ],
            "application/vnd.google.colaboratory.intrinsic+json": {
              "type": "string"
            }
          },
          "metadata": {},
          "execution_count": 2
        }
      ]
    },
    {
      "cell_type": "code",
      "source": [
        "cd DFC609-2022S/"
      ],
      "metadata": {
        "id": "AevB8MRq7k23",
        "outputId": "a36843d6-c3b8-4199-9e91-5aefcd44a839",
        "colab": {
          "base_uri": "https://localhost:8080/"
        }
      },
      "execution_count": 3,
      "outputs": [
        {
          "output_type": "stream",
          "name": "stdout",
          "text": [
            "/content/DFC609-2022S\n"
          ]
        }
      ]
    },
    {
      "cell_type": "code",
      "source": [
        "ls"
      ],
      "metadata": {
        "id": "xt87b9wU7rR2",
        "outputId": "4a3613ee-d15f-4bc2-f9cd-ec70a0c9c499",
        "colab": {
          "base_uri": "https://localhost:8080/"
        }
      },
      "execution_count": 4,
      "outputs": [
        {
          "output_type": "stream",
          "name": "stdout",
          "text": [
            " 1_Data_Loading_Loan_Data_from_Kaggle.ipynb   6_Clustering.ipynb\n",
            " 2_Naive_Bayes_Classification.ipynb          'Loan payments data.csv'\n",
            " 3_Regression.ipynb                           PastClasses.md\n",
            " 4_Support_Vector_Machine.ipynb               README.md\n",
            " 5_Decision_Tree.ipynb                        weight-height.csv\n"
          ]
        }
      ]
    },
    {
      "cell_type": "code",
      "execution_count": 5,
      "metadata": {
        "id": "ULEjxKzC7a9r"
      },
      "outputs": [],
      "source": [
        "from sklearn.model_selection import train_test_split\n",
        "from sklearn.metrics import mean_squared_error\n",
        "from math import sqrt\n",
        "\n",
        "import numpy as np\n",
        "import matplotlib.pyplot as plt\n",
        "\n",
        "import csv\n",
        "import math\n"
      ]
    },
    {
      "cell_type": "code",
      "execution_count": 6,
      "metadata": {
        "id": "bmAW_Oo77a9r",
        "outputId": "5d838b09-4a72-41fa-e7ff-772d92edf52a",
        "colab": {
          "base_uri": "https://localhost:8080/"
        }
      },
      "outputs": [
        {
          "output_type": "stream",
          "name": "stdout",
          "text": [
            "10000\n"
          ]
        }
      ],
      "source": [
        "X_csv = []; y_csv = []\n",
        "\n",
        "with open('weight-height.csv', newline='') as csvfile:\n",
        "    \n",
        "    csvreader = csv.reader(csvfile, delimiter=',')\n",
        "    \n",
        "    next(csvreader)\n",
        "    for row in csvreader:\n",
        "        X_csv.append(float(row[1]))\n",
        "        y_csv.append(float(row[2]))\n",
        "        \n",
        "print(len(X_csv))"
      ]
    },
    {
      "cell_type": "code",
      "execution_count": 7,
      "metadata": {
        "id": "axsG0SZZ7a9s",
        "outputId": "17e4e937-ed33-4f76-86cf-90e0b8850114",
        "colab": {
          "base_uri": "https://localhost:8080/",
          "height": 297
        }
      },
      "outputs": [
        {
          "output_type": "execute_result",
          "data": {
            "text/plain": [
              "Text(0, 0.5, 'height')"
            ]
          },
          "metadata": {},
          "execution_count": 7
        },
        {
          "output_type": "display_data",
          "data": {
            "text/plain": [
              "<Figure size 432x288 with 1 Axes>"
            ],
            "image/png": "[encoded data removed]"
          },
          "metadata": {
            "needs_background": "light"
          }
        }
      ],
      "source": [
        "X = np.array(X_csv[:500])\n",
        "y = np.array(y_csv[:500])\n",
        "\n",
        "X_train, X_test, y_train, y_test = train_test_split(X, y, random_state=1, test_size=0.3)\n",
        "\n",
        "plt.scatter(X_train, y_train)\n",
        "plt.xlabel('weight')\n",
        "plt.ylabel('height')\n"
      ]
    },
    {
      "cell_type": "code",
      "execution_count": 8,
      "metadata": {
        "id": "SuVtLvJA7a9s"
      },
      "outputs": [],
      "source": [
        "from sklearn.preprocessing import StandardScaler\n",
        "\n",
        "class linear_regression:\n",
        "    \n",
        "    def __init__(self, x, y, weight, bias, learning_rate, normalization = False):\n",
        "        self.x = x\n",
        "        self.y = y\n",
        "        self.w = weight\n",
        "        self.b = bias\n",
        "        self.lr = learning_rate\n",
        "        self.safe_guard = False\n",
        "        self.norm = normalization\n",
        "        \n",
        "        # normalization\n",
        "        if self.norm == True:\n",
        "            self.sc_x = StandardScaler()\n",
        "            self.sc_y = StandardScaler()\n",
        "            self.sc_x.fit(x.reshape(-1, 1))\n",
        "            self.sc_y.fit(x.reshape(-1, 1))\n",
        "            self.x = self.sc_x.transform(self.x.reshape(-1, 1))\n",
        "            self.y = self.sc_y.transform(self.y.reshape(-1, 1))\n",
        "        \n",
        "        \n",
        "    def train(self, epochs = 5000, max_gradient_norm = 50):      \n",
        "        n_data = len(self.x)    \n",
        "\n",
        "        for i in range(epochs):\n",
        "            y_hat =  self.w * self.x + self.b\n",
        "            loss = np.sum((y_hat - self.y) ** 2) / n_data\n",
        "\n",
        "            gradient_w = np.sum((y_hat - self.y) * (2) * self.x) / n_data\n",
        "            gradient_b = np.sum((y_hat - self.y) * (2)) / n_data\n",
        "\n",
        "            # safe guard \n",
        "            if self.safe_guard == True:\n",
        "                concat = np.vstack((gradient_w, gradient_b))\n",
        "                gradient_norm = np.linalg.norm(concat)\n",
        "\n",
        "                if max_gradient_norm < gradient_norm: \n",
        "                    gradient_w = gradient_w / gradient_norm * max_gradient_norm\n",
        "                    gradient_b = gradient_b / gradient_norm * max_gradient_norm\n",
        "\n",
        "\n",
        "            self.w -= (self.lr * gradient_w)\n",
        "            self.b -= (self.lr * gradient_b)\n",
        "\n",
        "            if i%(epochs//10) == 0:\n",
        "                print('Epochs {}/{}, loss {:.3f}, weight {:.3f}, bias {:.3f}'.format(i, epochs, loss, self.w, self.b))\n",
        "\n",
        "        print('weight: ', self.w)\n",
        "        print('bias: ', self.b)\n",
        "\n",
        "        return\n",
        "\n",
        "    \n",
        "    def predict(self, x): \n",
        "        \n",
        "        if self.norm == True:\n",
        "            x = self.sc_x.transform(x.reshape(-1, 1))    \n",
        "            y = self.w * x + self.b\n",
        "            y = self.sc_y.inverse_transform(y)\n",
        "            \n",
        "        else:\n",
        "            y = self.w * x + self.b\n",
        "\n",
        "        return y\n",
        "    \n",
        "        "
      ]
    },
    {
      "cell_type": "code",
      "execution_count": 9,
      "metadata": {
        "scrolled": false,
        "id": "IuB-0BnH7a9s",
        "outputId": "b7342d85-17d7-41dc-c566-a10f4ef04896",
        "colab": {
          "base_uri": "https://localhost:8080/",
          "height": 515
        }
      },
      "outputs": [
        {
          "output_type": "stream",
          "name": "stdout",
          "text": [
            "Epochs 0/20000, loss 35267.885, weight 2.580, bias 0.037\n",
            "Epochs 2000/20000, loss 185.559, weight 2.721, bias -0.096\n",
            "Epochs 4000/20000, loss 185.467, weight 2.723, bias -0.232\n",
            "Epochs 6000/20000, loss 185.376, weight 2.725, bias -0.367\n",
            "Epochs 8000/20000, loss 185.284, weight 2.727, bias -0.502\n",
            "Epochs 10000/20000, loss 185.193, weight 2.729, bias -0.637\n",
            "Epochs 12000/20000, loss 185.101, weight 2.731, bias -0.773\n",
            "Epochs 14000/20000, loss 185.010, weight 2.733, bias -0.908\n",
            "Epochs 16000/20000, loss 184.919, weight 2.735, bias -1.043\n",
            "Epochs 18000/20000, loss 184.828, weight 2.737, bias -1.177\n",
            "weight:  2.739090786850544\n",
            "bias:  -1.3122076041761679\n",
            "root mean squared error (train):  13.591801647375231\n"
          ]
        },
        {
          "output_type": "execute_result",
          "data": {
            "text/plain": [
              "[<matplotlib.lines.Line2D at 0x7f0b0925d650>]"
            ]
          },
          "metadata": {},
          "execution_count": 9
        },
        {
          "output_type": "display_data",
          "data": {
            "text/plain": [
              "<Figure size 432x288 with 1 Axes>"
            ],
            "image/png": "[encoded data removed]"
          },
          "metadata": {
            "needs_background": "light"
          }
        }
      ],
      "source": [
        "# training \n",
        "W = 0.0\n",
        "b = 0.0\n",
        "eta = 0.0001\n",
        "\n",
        "linReg = linear_regression(X_train, y_train, W, b, eta)\n",
        "linReg.train(epochs=20000)\n",
        "\n",
        "y_pred = linReg.predict(X_train)\n",
        "print('root mean squared error (train): ', mean_squared_error(y_train, y_pred)**0.5)\n",
        "\n",
        "# visualization\n",
        "X_reg = np.arange(60, 80, 0.1)\n",
        "y_reg = linReg.predict(X_reg)\n",
        "\n",
        "plt.scatter(X_train, y_train, color='b')\n",
        "plt.plot(X_reg, y_reg, color='r')\n",
        "\n"
      ]
    },
    {
      "cell_type": "markdown",
      "metadata": {
        "id": "SUS5NCpF7a9s"
      },
      "source": [
        "* X, y data scale 차이에 의해 최적의 weight 와 bias 를 찾지 못함  \n",
        "    * 문제 해결을 위해 X, y normalization 적용 (아래)"
      ]
    },
    {
      "cell_type": "code",
      "execution_count": 10,
      "metadata": {
        "id": "x-lt18vJ7a9t",
        "outputId": "476dc80d-20a3-425e-d29f-b7e0c65e1bcf",
        "colab": {
          "base_uri": "https://localhost:8080/",
          "height": 515
        }
      },
      "outputs": [
        {
          "output_type": "stream",
          "name": "stdout",
          "text": [
            "Epochs 0/20000, loss 2013.809, weight 0.001, bias 0.009\n",
            "Epochs 2000/20000, loss 913.238, weight 1.981, bias 14.612\n",
            "Epochs 4000/20000, loss 418.759, weight 3.308, bias 24.400\n",
            "Epochs 6000/20000, loss 196.593, weight 4.198, bias 30.961\n",
            "Epochs 8000/20000, loss 96.776, weight 4.794, bias 35.358\n",
            "Epochs 10000/20000, loss 51.928, weight 5.194, bias 38.306\n",
            "Epochs 12000/20000, loss 31.779, weight 5.462, bias 40.282\n",
            "Epochs 14000/20000, loss 22.726, weight 5.641, bias 41.606\n",
            "Epochs 16000/20000, loss 18.658, weight 5.761, bias 42.494\n",
            "Epochs 18000/20000, loss 16.831, weight 5.842, bias 43.089\n",
            "weight:  5.8961780613732255\n",
            "bias:  43.487887995556406\n",
            "root mean squared error (train):  10.65949758841493\n"
          ]
        },
        {
          "output_type": "execute_result",
          "data": {
            "text/plain": [
              "[<matplotlib.lines.Line2D at 0x7f0b091ea250>]"
            ]
          },
          "metadata": {},
          "execution_count": 10
        },
        {
          "output_type": "display_data",
          "data": {
            "text/plain": [
              "<Figure size 432x288 with 1 Axes>"
            ],
            "image/png": "[encoded data removed]"
          },
          "metadata": {
            "needs_background": "light"
          }
        }
      ],
      "source": [
        "# training \n",
        "W = 0.0\n",
        "b = 0.0\n",
        "eta = 0.0001\n",
        "\n",
        "linReg = linear_regression(X_train, y_train, W, b, eta, normalization=True)\n",
        "linReg.train(epochs=20000)\n",
        "\n",
        "# prediction\n",
        "y_pred = linReg.predict(X_train)\n",
        "print('root mean squared error (train): ', mean_squared_error(y_train, y_pred)**0.5)\n",
        "\n",
        "# visualization\n",
        "X_reg = np.arange(60, 80, 0.1)\n",
        "y_reg = linReg.predict(X_reg)\n",
        "\n",
        "plt.scatter(X_train, y_train, color='b')\n",
        "plt.plot(X_reg, y_reg, color='r')\n",
        "\n"
      ]
    },
    {
      "cell_type": "code",
      "execution_count": 11,
      "metadata": {
        "scrolled": true,
        "id": "ojb9zAyc7a9t",
        "outputId": "e8e553d1-4657-4b02-c9a9-9b0c3c552007",
        "colab": {
          "base_uri": "https://localhost:8080/",
          "height": 300
        }
      },
      "outputs": [
        {
          "output_type": "stream",
          "name": "stdout",
          "text": [
            "root mean squared error (test):  10.915520420657629\n"
          ]
        },
        {
          "output_type": "execute_result",
          "data": {
            "text/plain": [
              "[<matplotlib.lines.Line2D at 0x7f0b09156f10>]"
            ]
          },
          "metadata": {},
          "execution_count": 11
        },
        {
          "output_type": "display_data",
          "data": {
            "text/plain": [
              "<Figure size 432x288 with 1 Axes>"
            ],
            "image/png": "[encoded data removed]"
          },
          "metadata": {
            "needs_background": "light"
          }
        }
      ],
      "source": [
        "# prediction\n",
        "y_pred = linReg.predict(X_test)\n",
        "print('root mean squared error (test): ', mean_squared_error(y_test, y_pred)**0.5)\n",
        "\n",
        "# visualization\n",
        "y_reg = linReg.predict(X_reg)\n",
        "\n",
        "plt.scatter(X_test, y_test, color='b') # real-value\n",
        "plt.plot(X_reg, y_reg, color='r') # regression\n",
        "\n"
      ]
    },
    {
      "cell_type": "markdown",
      "metadata": {
        "id": "BCTs6cUZ7a9t"
      },
      "source": [
        "### 2. Kernel density regression  \n",
        "\n",
        "\n",
        "* Kernel density regession 은 non-parametric 방법으로 확률 변수의 조건부 기대값을 예측하는 방법\n",
        "\n",
        "    * \\\\( m_h(x) = \\frac{\\sum_{i}K_h (x - x_i) y_i}{\\sum_j K_h (x - x_j)}   \\\\)\n",
        "    * \\\\( K_h : \\\\) kernel with a bandwith h\n"
      ]
    },
    {
      "cell_type": "code",
      "execution_count": 12,
      "metadata": {
        "id": "wPUJVXdO7a9t"
      },
      "outputs": [],
      "source": [
        "# random dataset\n",
        "\n",
        "rng = np.random.RandomState(0)\n",
        "\n",
        "X = 15 * rng.rand(100, 1)\n",
        "y = np.sin(X).ravel()\n",
        "y += 3 * (0.5 - rng.rand(X.shape[0]))  # add noise\n"
      ]
    },
    {
      "cell_type": "code",
      "execution_count": 13,
      "metadata": {
        "id": "sk5SbKJi7a9t"
      },
      "outputs": [],
      "source": [
        "class Gaussian_Kernel_Regression:\n",
        "    \n",
        "    def __init__(self, x, y, b):\n",
        "        self.x = x\n",
        "        self.y = y\n",
        "        self.b = b\n",
        "        \n",
        "    def gaussian_kernel(self, x):\n",
        "        return (1 / math.sqrt(2*math.pi))*math.exp(-0.5*x**2)\n",
        "\n",
        "    def predict(self, x):\n",
        "        kernels = [ self.gaussian_kernel((xi-x)/self.b) for xi in self.x ]\n",
        "        y_pred = np.dot([ (kernel/np.sum(kernels)) for kernel in kernels ], self.y)\n",
        "        return y_pred\n",
        "\n",
        "    "
      ]
    },
    {
      "cell_type": "code",
      "execution_count": 14,
      "metadata": {
        "id": "Gg7PS_mX7a9t",
        "outputId": "444e5a91-58d3-4060-c7bb-eb59567a4a6b",
        "colab": {
          "base_uri": "https://localhost:8080/",
          "height": 348
        }
      },
      "outputs": [
        {
          "output_type": "stream",
          "name": "stderr",
          "text": [
            "/usr/local/lib/python3.7/dist-packages/ipykernel_launcher.py:13: RuntimeWarning: invalid value encountered in double_scalars\n",
            "  del sys.path[0]\n"
          ]
        },
        {
          "output_type": "execute_result",
          "data": {
            "text/plain": [
              "Text(0.5, 1.0, 'Kernel density regression')"
            ]
          },
          "metadata": {},
          "execution_count": 14
        },
        {
          "output_type": "display_data",
          "data": {
            "text/plain": [
              "<Figure size 432x288 with 1 Axes>"
            ],
            "image/png": "[encoded data removed]"
          },
          "metadata": {
            "needs_background": "light"
          }
        }
      ],
      "source": [
        "# bandwidth = 0.05\n",
        "kde2 = Gaussian_Kernel_Regression(X, y, 0.05)\n",
        "y_pred = [ kde2.predict(x_i) for x_i in X_test ]\n",
        "X_reg = np.arange(-5, 20, 0.1)\n",
        "y_reg = [ kde2.predict(x_i) for x_i in X_reg ]\n",
        "\n",
        "plt.scatter(X, y, color='b')\n",
        "plt.plot(X_reg, y_reg, color='r')\n",
        "\n",
        "plt.xlabel('x')\n",
        "plt.ylabel('y')\n",
        "plt.title('Kernel density regression')\n"
      ]
    },
    {
      "cell_type": "code",
      "execution_count": 15,
      "metadata": {
        "id": "hQYhXUbs7a9t",
        "outputId": "4c18570d-b81a-4a76-a850-6df670ec60cb",
        "colab": {
          "base_uri": "https://localhost:8080/",
          "height": 313
        }
      },
      "outputs": [
        {
          "output_type": "execute_result",
          "data": {
            "text/plain": [
              "Text(0.5, 1.0, 'Kernel density regression')"
            ]
          },
          "metadata": {},
          "execution_count": 15
        },
        {
          "output_type": "display_data",
          "data": {
            "text/plain": [
              "<Figure size 432x288 with 1 Axes>"
            ],
            "image/png": "[encoded data removed]"
          },
          "metadata": {
            "needs_background": "light"
          }
        }
      ],
      "source": [
        "# bandwidth = 5\n",
        "kde3 = Gaussian_Kernel_Regression(X, y, 5)\n",
        "y_pred = [ kde3.predict(x_i) for x_i in X_test ]\n",
        "y_reg = [ kde3.predict(x_i) for x_i in X_reg ]\n",
        "\n",
        "plt.scatter(X, y, color='b')\n",
        "plt.plot(X_reg, y_reg, color='r')\n",
        "\n",
        "plt.xlabel('x')\n",
        "plt.ylabel('y')\n",
        "plt.title('Kernel density regression')\n"
      ]
    },
    {
      "cell_type": "code",
      "execution_count": 16,
      "metadata": {
        "id": "-Wb7tIq_7a9u",
        "outputId": "54928629-2f2b-44e6-c807-27567be3cb42",
        "colab": {
          "base_uri": "https://localhost:8080/",
          "height": 313
        }
      },
      "outputs": [
        {
          "output_type": "execute_result",
          "data": {
            "text/plain": [
              "Text(0.5, 1.0, 'Kernel density regression')"
            ]
          },
          "metadata": {},
          "execution_count": 16
        },
        {
          "output_type": "display_data",
          "data": {
            "text/plain": [
              "<Figure size 432x288 with 1 Axes>"
            ],
            "image/png": "[encoded data removed]"
          },
          "metadata": {
            "needs_background": "light"
          }
        }
      ],
      "source": [
        "# bandwidth : 0.05, 5.0, 0.5\n",
        "\n",
        "# bandwidth = 0.5\n",
        "kde1 = Gaussian_Kernel_Regression(X, y, 0.5)\n",
        "\n",
        "y_reg = [ kde1.predict(x_i) for x_i in X_reg ]\n",
        "\n",
        "# visualization\n",
        "plt.scatter(X, y, color='b')\n",
        "plt.plot(X_reg, y_reg, color='r')\n",
        "\n",
        "plt.xlabel('x')\n",
        "plt.ylabel('y')\n",
        "plt.title('Kernel density regression')\n"
      ]
    }
  ],
  "metadata": {
    "kernelspec": {
      "display_name": "test1",
      "language": "python",
      "name": "test1"
    },
    "language_info": {
      "codemirror_mode": {
        "name": "ipython",
        "version": 3
      },
      "file_extension": ".py",
      "mimetype": "text/x-python",
      "name": "python",
      "nbconvert_exporter": "python",
      "pygments_lexer": "ipython3",
      "version": "3.7.7"
    },
    "colab": {
      "name": "3_Regression.ipynb",
      "provenance": []
    }
  },
  "nbformat": 4,
  "nbformat_minor": 0
}